{
 "metadata": {
  "kernelspec": {
   "language": "python",
   "display_name": "Python 3",
   "name": "python3"
  },
  "language_info": {
   "pygments_lexer": "ipython3",
   "nbconvert_exporter": "python",
   "version": "3.6.4",
   "file_extension": ".py",
   "codemirror_mode": {
    "name": "ipython",
    "version": 3
   },
   "name": "python",
   "mimetype": "text/x-python"
  }
 },
 "nbformat_minor": 4,
 "nbformat": 4,
 "cells": [
  {
   "cell_type": "markdown",
   "source": [
    "# Introduction: Home Credit Default Risk Competition\n",
    "\n",
    "This notebook is intended for those who are new to machine learning competitions or want a gentle introduction to the problem. I purposely avoid jumping into complicated models or joining together lots of data in order to show the basics of how to get started in machine learning! Any comments or suggestions are much appreciated.\n",
    "\n",
    "In this notebook, we will take an initial look at the Home Credit default risk machine learning competition currently hosted on Kaggle. The objective of this competition is to use historical loan application data to predict whether or not an applicant will be able to repay a loan. This is a standard supervised classification task:\n",
    "\n",
    "* __Supervised__: The labels are included in the training data and the goal is to train a model to learn to predict the labels from the features\n",
    "* __Classification__: The label is a binary variable, 0 (will repay loan on time), 1 (will have difficulty repaying loan)\n",
    "\n",
    "\n",
    "# Data\n",
    "\n",
    "The data is provided by [Home Credit](http://www.homecredit.net/about-us.aspx), a service dedicated to provided lines of credit (loans) to the unbanked population. Predicting whether or not a client will repay a loan or have difficulty is a critical business need, and Home Credit is hosting this competition on Kaggle to see what sort of models the machine learning community can develop to help them in this task. \n",
    "\n",
    "There are 7 different sources of data:\n",
    "\n",
    "* application_train/application_test: the main training and testing data with information about each loan application at Home Credit. Every loan has its own row and is identified by the feature `SK_ID_CURR`. The training application data comes with the `TARGET` indicating 0: the loan was repaid or 1: the loan was not repaid. \n",
    "* bureau: data concerning client's previous credits from other financial institutions. Each previous credit has its own row in bureau, but one loan in the application data can have multiple previous credits.\n",
    "* bureau_balance: monthly data about the previous credits in bureau. Each row is one month of a previous credit, and a single previous credit can have multiple rows, one for each month of the credit length. \n",
    "* previous_application: previous applications for loans at Home Credit of clients who have loans in the application data. Each current loan in the application data can have multiple previous loans. Each previous application has one row and is identified by the feature `SK_ID_PREV`. \n",
    "* POS_CASH_BALANCE: monthly data about previous point of sale or cash loans clients have had with Home Credit. Each row is one month of a previous point of sale or cash loan, and a single previous loan can have many rows.\n",
    "* credit_card_balance: monthly data about previous credit cards clients have had with Home Credit. Each row is one month of a credit card balance, and a single credit card can have many rows.\n",
    "* installments_payment: payment history for previous loans at Home Credit. There is one row for every made payment and one row for every missed payment. \n",
    "\n",
    "This diagram shows how all of the data is related:\n",
    "\n",
    "![image](https://storage.googleapis.com/kaggle-media/competitions/home-credit/home_credit.png)\n",
    "\n",
    "Moreover, we are provided with the definitions of all the columns (in `HomeCredit_columns_description.csv`) and an example of the expected submission file. \n",
    "\n",
    "In this notebook, we will stick to using only the main application training and testing data. Although if we want to have any hope of seriously competing, we need to use all the data, for now we will stick to one file which should be more manageable. This will let us establish a baseline that we can then improve upon. With these projects, it's best to build up an understanding of the problem a little at a time rather than diving all the way in and getting completely lost! \n",
    "\n",
    "## Metric: ROC AUC\n",
    "\n",
    "Once we have a grasp of the data (reading through the [column descriptions](https://www.kaggle.com/c/home-credit-default-risk/data) helps immensely), we need to understand the metric by which our submission is judged. In this case, it is a common classification metric known as the [Receiver Operating Characteristic Area Under the Curve (ROC AUC, also sometimes called AUROC)](https://stats.stackexchange.com/questions/132777/what-does-auc-stand-for-and-what-is-it).\n",
    "\n",
    "The ROC AUC may sound intimidating, but it is relatively straightforward once you can get your head around the two individual concepts. The [Reciever Operating Characteristic (ROC) curve](https://en.wikipedia.org/wiki/Receiver_operating_characteristic) graphs the true positive rate versus the false positive rate:\n",
    "\n",
    "![image](http://www.statisticshowto.com/wp-content/uploads/2016/08/ROC-curve.png)\n",
    "\n",
    "A single line on the graph indicates the curve for a single model, and movement along a line indicates changing the threshold used for classifying a positive instance. The threshold starts at 0 in the upper right to and goes to 1 in the lower left. A curve that is to the left and above another curve indicates a better model. For example, the blue model is better than the red model, which is better than the black diagonal line which indicates a naive random guessing model. \n",
    "\n",
    "The [Area Under the Curve (AUC)](http://gim.unmc.edu/dxtests/roc3.htm) explains itself by its name! It is simply the area under the ROC curve. (This is the integral of the curve.) This metric is between 0 and 1 with a better model scoring higher. A model that simply guesses at random will have an ROC AUC of 0.5.\n",
    "\n",
    "When we measure a classifier according to the ROC AUC, we do not generation 0 or 1 predictions, but rather a probability between 0 and 1. This may be confusing because we usually like to think in terms of accuracy, but when we get into problems with inbalanced classes (we will see this is the case), accuracy is not the best metric. For example, if I wanted to build a model that could detect terrorists with 99.9999% accuracy, I would simply make a model that predicted every single person was not a terrorist. Clearly, this would not be effective (the recall would be zero) and we use more advanced metrics such as ROC AUC or the [F1 score](https://en.wikipedia.org/wiki/F1_score) to more accurately reflect the performance of a classifier. A model with a high ROC AUC will also have a high accuracy, but the [ROC AUC is a better representation of model performance.](https://datascience.stackexchange.com/questions/806/advantages-of-auc-vs-standard-accuracy)\n",
    "\n",
    "Not that we know the background of the data we are using and the metric to maximize, let's get into exploring the data. In this notebook, as mentioned previously, we will stick to the main data sources and simple models which we can build upon in future work. \n",
    "\n",
    "__Follow-up Notebooks__\n",
    "\n",
    "For those looking to keep working on this problem, I have a series of follow-up notebooks:\n",
    "\n",
    "* [Manual Feature Engineering Part One](https://www.kaggle.com/willkoehrsen/introduction-to-manual-feature-engineering)\n",
    "* [Manual Feature Engineering Part Two](https://www.kaggle.com/willkoehrsen/introduction-to-manual-feature-engineering-p2)\n",
    "* [Introduction to Automated Feature Engineering](https://www.kaggle.com/willkoehrsen/automated-feature-engineering-basics)\n",
    "* [Advanced Automated Feature Engineering](https://www.kaggle.com/willkoehrsen/tuning-automated-feature-engineering-exploratory)\n",
    "* [Feature Selection](https://www.kaggle.com/willkoehrsen/introduction-to-feature-selection)\n",
    "* [Intro to Model Tuning: Grid and Random Search](https://www.kaggle.com/willkoehrsen/intro-to-model-tuning-grid-and-random-search)\n",
    "* [Automated Model Tuning](https://www.kaggle.com/willkoehrsen/automated-model-tuning)\n",
    "* [Model Tuning Results](https://www.kaggle.com/willkoehrsen/model-tuning-results-random-vs-bayesian-opt/notebook)\n",
    "\n",
    "\n",
    "I'll add more notebooks as I finish them! Thanks for all the comments! "
   ],
   "metadata": {
    "_uuid": "66406036d8dd7a0071295d1aee64f13bffc44e3a",
    "_cell_guid": "551ce207-0976-48c3-9242-fac3e6bdf527",
    "pycharm": {
     "name": "#%% md\n"
    }
   }
  },
  {
   "cell_type": "markdown",
   "source": [
    "## Imports\n",
    "\n",
    "We are using a typical data science stack: `numpy`, `pandas`, `sklearn`, `matplotlib`. "
   ],
   "metadata": {
    "_uuid": "eb13bf76d4e1e60d0703856ec391cdc2c5bdf1fb",
    "_cell_guid": "d632b08c-d252-4238-b496-e2c6edebec4b",
    "pycharm": {
     "name": "#%% md\n"
    }
   }
  },
  {
   "cell_type": "code",
   "source": [
    "# numpy and pandas for data manipulation\n",
    "import numpy as np\n",
    "import pandas as pd \n",
    "\n",
    "# sklearn preprocessing for dealing with categorical variables\n",
    "from sklearn.preprocessing import LabelEncoder\n",
    "\n",
    "# File system manangement\n",
    "import os\n",
    "\n",
    "# Suppress warnings \n",
    "import warnings\n",
    "warnings.filterwarnings('ignore')\n",
    "\n",
    "# matplotlib and seaborn for plotting\n",
    "import matplotlib.pyplot as plt\n",
    "import seaborn as sns"
   ],
   "metadata": {
    "_uuid": "8f2839f25d086af736a60e9eeb907d3b93b6e0e5",
    "_cell_guid": "b1076dfc-b9ad-4769-8c92-a6c4dae69d19",
    "execution": {
     "iopub.status.busy": "2022-05-13T07:34:56.473762Z",
     "iopub.execute_input": "2022-05-13T07:34:56.474411Z",
     "iopub.status.idle": "2022-05-13T07:34:56.515336Z",
     "shell.execute_reply.started": "2022-05-13T07:34:56.47435Z",
     "shell.execute_reply": "2022-05-13T07:34:56.514406Z"
    },
    "trusted": true,
    "pycharm": {
     "name": "#%%\n"
    }
   },
   "execution_count": 1,
   "outputs": []
  },
  {
   "cell_type": "markdown",
   "source": [
    "## Read in Data \n",
    "\n",
    "First, we can list all the available data files. There are a total of 9 files: 1 main file for training (with target) 1 main file for testing (without the target), 1 example submission file, and 6 other files containing additional information about each loan. "
   ],
   "metadata": {
    "_uuid": "ded520f73b9e94ed47ac2e994a5fb1bcb9093d0f",
    "_cell_guid": "a5e67831-4751-4f11-8e07-527e3e092671",
    "pycharm": {
     "name": "#%% md\n"
    }
   }
  },
  {
   "cell_type": "code",
   "source": [
    "# List files available\n",
    "print(os.listdir(\"../input/\"))"
   ],
   "metadata": {
    "_uuid": "c54e1559611512ebd447ac24f2226c2fffd61dcd",
    "_cell_guid": "2cdca894-e637-43a9-8f80-5791c2bb9041",
    "execution": {
     "iopub.status.busy": "2022-05-13T07:34:56.6333Z",
     "iopub.execute_input": "2022-05-13T07:34:56.6339Z",
     "iopub.status.idle": "2022-05-13T07:34:56.68018Z",
     "shell.execute_reply.started": "2022-05-13T07:34:56.633828Z",
     "shell.execute_reply": "2022-05-13T07:34:56.679108Z"
    },
    "trusted": true,
    "pycharm": {
     "name": "#%%\n"
    }
   },
   "execution_count": 2,
   "outputs": [
    {
     "ename": "FileNotFoundError",
     "evalue": "[WinError 3] Le chemin d’accès spécifié est introuvable: '../input/'",
     "output_type": "error",
     "traceback": [
      "\u001B[1;31m---------------------------------------------------------------------------\u001B[0m",
      "\u001B[1;31mFileNotFoundError\u001B[0m                         Traceback (most recent call last)",
      "\u001B[1;32m~\\AppData\\Local\\Temp/ipykernel_26400/986680048.py\u001B[0m in \u001B[0;36m<module>\u001B[1;34m\u001B[0m\n\u001B[0;32m      1\u001B[0m \u001B[1;31m# List files available\u001B[0m\u001B[1;33m\u001B[0m\u001B[1;33m\u001B[0m\u001B[0m\n\u001B[1;32m----> 2\u001B[1;33m \u001B[0mprint\u001B[0m\u001B[1;33m(\u001B[0m\u001B[0mos\u001B[0m\u001B[1;33m.\u001B[0m\u001B[0mlistdir\u001B[0m\u001B[1;33m(\u001B[0m\u001B[1;34m\"../input/\"\u001B[0m\u001B[1;33m)\u001B[0m\u001B[1;33m)\u001B[0m\u001B[1;33m\u001B[0m\u001B[1;33m\u001B[0m\u001B[0m\n\u001B[0m",
      "\u001B[1;31mFileNotFoundError\u001B[0m: [WinError 3] Le chemin d’accès spécifié est introuvable: '../input/'"
     ]
    }
   ]
  },
  {
   "cell_type": "code",
   "source": [
    "# Training data\n",
    "app_train = pd.read_csv('../input/application_train.csv')\n",
    "print('Training data shape: ', app_train.shape)\n",
    "app_train.head()"
   ],
   "metadata": {
    "_uuid": "d629ff2d2480ee46fbb7e2d37f6b5fab8052498a",
    "_cell_guid": "79c7e3d0-c299-4dcb-8224-4455121ee9b0",
    "execution": {
     "iopub.status.busy": "2022-05-13T07:34:56.845034Z",
     "iopub.execute_input": "2022-05-13T07:34:56.845342Z",
     "iopub.status.idle": "2022-05-13T07:35:02.808137Z",
     "shell.execute_reply.started": "2022-05-13T07:34:56.845296Z",
     "shell.execute_reply": "2022-05-13T07:35:02.807327Z"
    },
    "trusted": true,
    "pycharm": {
     "name": "#%%\n"
    }
   },
   "execution_count": null,
   "outputs": []
  },
  {
   "cell_type": "code",
   "source": [
    "column_target = app_train[\"TARGET\"]\n",
    "column_target = column_target.to_frame()\n",
    "column_target.to_csv(\"column_target_frame\", index = False)"
   ],
   "metadata": {
    "execution": {
     "iopub.status.busy": "2022-05-13T07:35:02.80954Z",
     "iopub.execute_input": "2022-05-13T07:35:02.809801Z",
     "iopub.status.idle": "2022-05-13T07:35:03.701512Z",
     "shell.execute_reply.started": "2022-05-13T07:35:02.809752Z",
     "shell.execute_reply": "2022-05-13T07:35:03.700097Z"
    },
    "trusted": true,
    "pycharm": {
     "name": "#%%\n"
    }
   },
   "execution_count": null,
   "outputs": []
  },
  {
   "cell_type": "markdown",
   "source": [
    "The training data has 307511 observations (each one a separate loan) and 122 features (variables) including the `TARGET` (the label we want to predict)."
   ],
   "metadata": {
    "_uuid": "4695541966d3d29e8a7a8975b072d01caff1631d",
    "pycharm": {
     "name": "#%% md\n"
    }
   }
  },
  {
   "cell_type": "code",
   "source": [
    "# Testing data features\n",
    "app_test = pd.read_csv('../input/application_test.csv')\n",
    "print('Testing data shape: ', app_test.shape)\n",
    "app_test.head()"
   ],
   "metadata": {
    "_uuid": "cbd1c4111df6f07bc0d479b51f50895e728b717a",
    "_cell_guid": "d077aee0-5271-440e-bc07-6087eab40b74",
    "execution": {
     "iopub.status.busy": "2022-05-13T07:35:03.70292Z",
     "iopub.execute_input": "2022-05-13T07:35:03.703219Z",
     "iopub.status.idle": "2022-05-13T07:35:04.741867Z",
     "shell.execute_reply.started": "2022-05-13T07:35:03.70317Z",
     "shell.execute_reply": "2022-05-13T07:35:04.741028Z"
    },
    "trusted": true,
    "pycharm": {
     "name": "#%%\n"
    }
   },
   "execution_count": null,
   "outputs": []
  },
  {
   "cell_type": "markdown",
   "source": [
    "The test set is considerably smaller and lacks a `TARGET` column. "
   ],
   "metadata": {
    "_uuid": "e351f02c8a5886756507a2d4f1ddba4791220f12",
    "pycharm": {
     "name": "#%% md\n"
    }
   }
  },
  {
   "cell_type": "markdown",
   "source": [
    "# Exploratory Data Analysis\n",
    "\n",
    "Exploratory Data Analysis (EDA) is an open-ended process where we calculate statistics and make figures to find trends, anomalies, patterns, or relationships within the data. The goal of EDA is to learn what our data can tell us. It generally starts out with a high level overview, then narrows in to specific areas as we find intriguing areas of the data. The findings may be interesting in their own right, or they can be used to inform our modeling choices, such as by helping us decide which features to use."
   ],
   "metadata": {
    "_uuid": "0b1a02afd367d1c4ee3a3a936382ca42fb921b9d",
    "pycharm": {
     "name": "#%% md\n"
    }
   }
  },
  {
   "cell_type": "markdown",
   "source": [
    "## Examine the Distribution of the Target Column\n",
    "\n",
    "The target is what we are asked to predict: either a 0 for the loan was repaid on time, or a 1 indicating the client had payment difficulties. We can first examine the number of loans falling into each category."
   ],
   "metadata": {
    "_uuid": "7c006a09627df1333c557dc11a09f372bde34dda",
    "_cell_guid": "23b20e53-3484-4c4b-bec9-2d8ac2ac918d",
    "pycharm": {
     "name": "#%% md\n"
    }
   }
  },
  {
   "cell_type": "code",
   "source": [
    "app_train['TARGET'].value_counts()"
   ],
   "metadata": {
    "_uuid": "2163ca09678b53dbe88388ccbc7d0e0f7d6c6230",
    "_cell_guid": "5fb6ab16-1b38-4ecf-8123-e48c7c061773",
    "execution": {
     "iopub.status.busy": "2022-05-13T07:35:04.743262Z",
     "iopub.execute_input": "2022-05-13T07:35:04.74349Z",
     "iopub.status.idle": "2022-05-13T07:35:04.793079Z",
     "shell.execute_reply.started": "2022-05-13T07:35:04.743448Z",
     "shell.execute_reply": "2022-05-13T07:35:04.792084Z"
    },
    "trusted": true,
    "pycharm": {
     "name": "#%%\n"
    }
   },
   "execution_count": null,
   "outputs": []
  },
  {
   "cell_type": "code",
   "source": [
    "app_train['TARGET'].astype(int).plot.hist();"
   ],
   "metadata": {
    "_uuid": "1b2611fb3cf392023c3f40fd2f7b96f56f5dee7d",
    "_cell_guid": "0e93c1e2-f6b8-4a0b-82b6-7dad8df56048",
    "execution": {
     "iopub.status.busy": "2022-05-13T07:35:04.794496Z",
     "iopub.execute_input": "2022-05-13T07:35:04.794951Z",
     "iopub.status.idle": "2022-05-13T07:35:05.093111Z",
     "shell.execute_reply.started": "2022-05-13T07:35:04.794888Z",
     "shell.execute_reply": "2022-05-13T07:35:05.092073Z"
    },
    "trusted": true,
    "pycharm": {
     "name": "#%%\n"
    }
   },
   "execution_count": null,
   "outputs": []
  },
  {
   "cell_type": "markdown",
   "source": [
    "From this information, we see this is an [_imbalanced class problem_](http://www.chioka.in/class-imbalance-problem/). There are far more loans that were repaid on time than loans that were not repaid. Once we get into more sophisticated machine learning models, we can [weight the classes](http://xgboost.readthedocs.io/en/latest/parameter.html) by their representation in the data to reflect this imbalance. "
   ],
   "metadata": {
    "_uuid": "119106000875202a0030109f14b73245fc4285e1",
    "_cell_guid": "48f008ff-d81e-46b2-80a3-e58f2a6627ca",
    "pycharm": {
     "name": "#%% md\n"
    }
   }
  },
  {
   "cell_type": "markdown",
   "source": [
    "## Examine Missing Values\n",
    "\n",
    "Next we can look at the number and percentage of missing values in each column. "
   ],
   "metadata": {
    "_uuid": "58851dfef481f32b3026e89b086534ea3683440d",
    "_cell_guid": "507ec6b1-99d0-4324-a3ed-bdea2f916227",
    "pycharm": {
     "name": "#%% md\n"
    }
   }
  },
  {
   "cell_type": "code",
   "source": [
    "# Function to calculate missing values by column# Funct \n",
    "def missing_values_table(df):\n",
    "        # Total missing values\n",
    "        mis_val = df.isnull().sum()\n",
    "        \n",
    "        # Percentage of missing values\n",
    "        mis_val_percent = 100 * df.isnull().sum() / len(df)\n",
    "        \n",
    "        # Make a table with the results\n",
    "        mis_val_table = pd.concat([mis_val, mis_val_percent], axis=1)\n",
    "        \n",
    "        # Rename the columns\n",
    "        mis_val_table_ren_columns = mis_val_table.rename(\n",
    "        columns = {0 : 'Missing Values', 1 : '% of Total Values'})\n",
    "        \n",
    "        # Sort the table by percentage of missing descending\n",
    "        mis_val_table_ren_columns = mis_val_table_ren_columns[\n",
    "            mis_val_table_ren_columns.iloc[:,1] != 0].sort_values(\n",
    "        '% of Total Values', ascending=False).round(1)\n",
    "        \n",
    "        # Print some summary information\n",
    "        print (\"Your selected dataframe has \" + str(df.shape[1]) + \" columns.\\n\"      \n",
    "            \"There are \" + str(mis_val_table_ren_columns.shape[0]) +\n",
    "              \" columns that have missing values.\")\n",
    "        \n",
    "        # Return the dataframe with missing information\n",
    "        return mis_val_table_ren_columns"
   ],
   "metadata": {
    "_uuid": "7a2f5c72c45fa04d9fa95e8051ae595be806e9a2",
    "_cell_guid": "fc4c675f-e4a1-4e4f-9ece-3c59e5c8f7fd",
    "execution": {
     "iopub.status.busy": "2022-05-13T07:35:05.094625Z",
     "iopub.execute_input": "2022-05-13T07:35:05.095183Z",
     "iopub.status.idle": "2022-05-13T07:35:05.142824Z",
     "shell.execute_reply.started": "2022-05-13T07:35:05.095124Z",
     "shell.execute_reply": "2022-05-13T07:35:05.141787Z"
    },
    "trusted": true,
    "pycharm": {
     "name": "#%%\n"
    }
   },
   "execution_count": null,
   "outputs": []
  },
  {
   "cell_type": "code",
   "source": [
    "# Missing values statistics\n",
    "missing_values = missing_values_table(app_train)\n",
    "missing_values.head(20)"
   ],
   "metadata": {
    "_uuid": "98b0a82a3009b8f6d0bc718a2e1eaba779b4ace9",
    "_cell_guid": "786881f0-235e-441c-8319-f715a3b7d920",
    "execution": {
     "iopub.status.busy": "2022-05-13T07:35:05.146817Z",
     "iopub.execute_input": "2022-05-13T07:35:05.147405Z",
     "iopub.status.idle": "2022-05-13T07:35:07.704933Z",
     "shell.execute_reply.started": "2022-05-13T07:35:05.147356Z",
     "shell.execute_reply": "2022-05-13T07:35:07.704155Z"
    },
    "trusted": true,
    "pycharm": {
     "name": "#%%\n"
    }
   },
   "execution_count": null,
   "outputs": []
  },
  {
   "cell_type": "markdown",
   "source": [
    "When it comes time to build our machine learning models, we will have to fill in these missing values (known as imputation). In later work, we will use models such as XGBoost that can [handle missing values with no need for imputation](https://stats.stackexchange.com/questions/235489/xgboost-can-handle-missing-data-in-the-forecasting-phase). Another option would be to drop columns with a high percentage of missing values, although it is impossible to know ahead of time if these columns will be helpful to our model. Therefore, we will keep all of the columns for now."
   ],
   "metadata": {
    "_uuid": "0b1be19103910ce83ebf54eeed99e42829643578",
    "_cell_guid": "df3c6a1d-b3ff-4565-bb32-5cba43c52729",
    "pycharm": {
     "name": "#%% md\n"
    }
   }
  },
  {
   "cell_type": "markdown",
   "source": [
    "## Column Types\n",
    "\n",
    "Let's look at the number of columns of each data type. `int64` and `float64` are numeric variables ([which can be either discrete or continuous](https://stats.stackexchange.com/questions/206/what-is-the-difference-between-discrete-data-and-continuous-data)). `object` columns contain strings and are  [categorical features.](http://support.minitab.com/en-us/minitab-express/1/help-and-how-to/modeling-statistics/regression/supporting-topics/basics/what-are-categorical-discrete-and-continuous-variables/) . "
   ],
   "metadata": {
    "_uuid": "0672e40c3ab75a7901c0de35d248b322a227dc7f",
    "pycharm": {
     "name": "#%% md\n"
    }
   }
  },
  {
   "cell_type": "code",
   "source": [
    "# Number of each type of column\n",
    "app_train.dtypes.value_counts()"
   ],
   "metadata": {
    "_uuid": "a03caadd76fa32f4b193e52467d4f39f2145d7b6",
    "execution": {
     "iopub.status.busy": "2022-05-13T07:35:07.706481Z",
     "iopub.execute_input": "2022-05-13T07:35:07.70696Z",
     "iopub.status.idle": "2022-05-13T07:35:07.755872Z",
     "shell.execute_reply.started": "2022-05-13T07:35:07.706836Z",
     "shell.execute_reply": "2022-05-13T07:35:07.754849Z"
    },
    "trusted": true,
    "pycharm": {
     "name": "#%%\n"
    }
   },
   "execution_count": null,
   "outputs": []
  },
  {
   "cell_type": "markdown",
   "source": [
    "Let's now look at the number of unique entries in each of the `object` (categorical) columns."
   ],
   "metadata": {
    "_uuid": "5859303c9acc63f7ff7acce063a9cd022a6d38cd",
    "pycharm": {
     "name": "#%% md\n"
    }
   }
  },
  {
   "cell_type": "code",
   "source": [
    "# Number of unique classes in each object column\n",
    "app_train.select_dtypes('object').apply(pd.Series.nunique, axis = 0)"
   ],
   "metadata": {
    "_uuid": "2d021eda10939a19b141292d34491b357acd201a",
    "execution": {
     "iopub.status.busy": "2022-05-13T07:35:07.757456Z",
     "iopub.execute_input": "2022-05-13T07:35:07.757804Z",
     "iopub.status.idle": "2022-05-13T07:35:08.381015Z",
     "shell.execute_reply.started": "2022-05-13T07:35:07.757735Z",
     "shell.execute_reply": "2022-05-13T07:35:08.380031Z"
    },
    "trusted": true,
    "pycharm": {
     "name": "#%%\n"
    }
   },
   "execution_count": null,
   "outputs": []
  },
  {
   "cell_type": "markdown",
   "source": [
    "Most of the categorical variables have a relatively small number of unique entries. We will need to find a way to deal with these categorical variables! "
   ],
   "metadata": {
    "_uuid": "10ceaf3ba31e26c822b242b1278d93ebfbefcc0a",
    "pycharm": {
     "name": "#%% md\n"
    }
   }
  },
  {
   "cell_type": "markdown",
   "source": [
    "## Encoding Categorical Variables\n",
    "\n",
    "Before we go any further, we need to deal with pesky categorical variables.  A machine learning model unfortunately cannot deal with categorical variables (except for some models such as [LightGBM](http://lightgbm.readthedocs.io/en/latest/Features.html)). Therefore, we have to find a way to encode (represent) these variables as numbers before handing them off to the model. There are two main ways to carry out this process:\n",
    "\n",
    "* Label encoding: assign each unique category in a categorical variable with an integer. No new columns are created. An example is shown below\n",
    "\n",
    "![image](https://raw.githubusercontent.com/WillKoehrsen/Machine-Learning-Projects/master/label_encoding.png)\n",
    "\n",
    "* One-hot encoding: create a new column for each unique category in a categorical variable. Each observation recieves a 1 in the column for its corresponding category and a 0 in all other new columns. \n",
    "\n",
    "![image](https://raw.githubusercontent.com/WillKoehrsen/Machine-Learning-Projects/master/one_hot_encoding.png)\n",
    "\n",
    "The problem with label encoding is that it gives the categories an arbitrary ordering. The value assigned to each of the categories is random and does not reflect any inherent aspect of the category. In the example above, programmer recieves a 4 and data scientist a 1, but if we did the same process again, the labels could be reversed or completely different. The actual assignment of the integers is arbitrary. Therefore, when we perform label encoding, the model might use the relative value of the feature (for example programmer = 4 and data scientist = 1) to assign weights which is not what we want. If we only have two unique values for a categorical variable (such as Male/Female), then label encoding is fine, but for more than 2 unique categories, one-hot encoding is the safe option.\n",
    "\n",
    "There is some debate about the relative merits of these approaches, and some models can deal with label encoded categorical variables with no issues. [Here is a good Stack Overflow discussion](https://datascience.stackexchange.com/questions/9443/when-to-use-one-hot-encoding-vs-labelencoder-vs-dictvectorizor). I think (and this is just a personal opinion) for categorical variables with many classes, one-hot encoding is the safest approach because it does not impose arbitrary values to categories. The only downside to one-hot encoding is that the number of features (dimensions of the data) can explode with categorical variables with many categories. To deal with this, we can perform one-hot encoding followed by [PCA](http://www.cs.otago.ac.nz/cosc453/student_tutorials/principal_components.pdf) or other [dimensionality reduction methods](https://www.analyticsvidhya.com/blog/2015/07/dimension-reduction-methods/) to reduce the number of dimensions (while still trying to preserve information). \n",
    "\n",
    "In this notebook, we will use Label Encoding for any categorical variables with only 2 categories and One-Hot Encoding for any categorical variables with more than 2 categories. This process may need to change as we get further into the project, but for now, we will see where this gets us. (We will also not use any dimensionality reduction in this notebook but will explore in future iterations)."
   ],
   "metadata": {
    "_uuid": "1b49e667293daabffd8a4b2b6d02cf44bf6a3ba8",
    "_cell_guid": "86d1b309-5524-4298-b873-2c1c09eddec6",
    "pycharm": {
     "name": "#%% md\n"
    }
   }
  },
  {
   "cell_type": "markdown",
   "source": [
    "### Label Encoding and One-Hot Encoding\n",
    "\n",
    "Let's implement the policy described above: for any categorical variable (`dtype == object`) with 2 unique categories, we will use label encoding, and for any categorical variable with more than 2 unique categories, we will use one-hot encoding. \n",
    "\n",
    "For label encoding, we use the Scikit-Learn `LabelEncoder` and for one-hot encoding, the pandas `get_dummies(df)` function."
   ],
   "metadata": {
    "_uuid": "46f5bf9a6de52e270aa911ffd895e704da5426ec",
    "_cell_guid": "95627792-157e-457a-88a8-3b3875c7e1d5",
    "pycharm": {
     "name": "#%% md\n"
    }
   }
  },
  {
   "cell_type": "code",
   "source": [
    "# Create a label encoder object\n",
    "le = LabelEncoder()\n",
    "le_count = 0\n",
    "\n",
    "# Iterate through the columns\n",
    "for col in app_train:\n",
    "    if app_train[col].dtype == 'object':\n",
    "        # If 2 or fewer unique categories\n",
    "        if len(list(app_train[col].unique())) <= 2:\n",
    "            # Train on the training data\n",
    "            le.fit(app_train[col])\n",
    "            # Transform both training and testing data\n",
    "            app_train[col] = le.transform(app_train[col])\n",
    "            app_test[col] = le.transform(app_test[col])\n",
    "            \n",
    "            # Keep track of how many columns were label encoded\n",
    "            le_count += 1\n",
    "            \n",
    "print('%d columns were label encoded.' % le_count)"
   ],
   "metadata": {
    "_uuid": "ddfaae5c3dcc7ec6bb47a2dffc10d364e8d25355",
    "_cell_guid": "70641d4d-1075-4837-8972-e58d70d8f242",
    "execution": {
     "iopub.status.busy": "2022-05-13T07:35:08.383019Z",
     "iopub.execute_input": "2022-05-13T07:35:08.383272Z",
     "iopub.status.idle": "2022-05-13T07:35:09.348863Z",
     "shell.execute_reply.started": "2022-05-13T07:35:08.383229Z",
     "shell.execute_reply": "2022-05-13T07:35:09.347903Z"
    },
    "trusted": true,
    "pycharm": {
     "name": "#%%\n"
    }
   },
   "execution_count": null,
   "outputs": []
  },
  {
   "cell_type": "code",
   "source": [
    "# one-hot encoding of categorical variables\n",
    "app_train = pd.get_dummies(app_train)\n",
    "app_test = pd.get_dummies(app_test)\n",
    "\n",
    "print('Training Features shape: ', app_train.shape)\n",
    "print('Testing Features shape: ', app_test.shape)"
   ],
   "metadata": {
    "_uuid": "6796c6dc793a08e162b6e20c6f185ef37bdf51f3",
    "_cell_guid": "0851773b-39fd-4cf0-9a66-e30adeef3e57",
    "execution": {
     "iopub.status.busy": "2022-05-13T07:35:09.350185Z",
     "iopub.execute_input": "2022-05-13T07:35:09.350454Z",
     "iopub.status.idle": "2022-05-13T07:35:10.815024Z",
     "shell.execute_reply.started": "2022-05-13T07:35:09.350404Z",
     "shell.execute_reply": "2022-05-13T07:35:10.814175Z"
    },
    "trusted": true,
    "pycharm": {
     "name": "#%%\n"
    }
   },
   "execution_count": null,
   "outputs": []
  },
  {
   "cell_type": "markdown",
   "source": [
    "### Aligning Training and Testing Data\n",
    "\n",
    "There need to be the same features (columns) in both the training and testing data. One-hot encoding has created more columns in the training data because there were some categorical variables with categories not represented in the testing data. To remove the columns in the training data that are not in the testing data, we need to `align` the dataframes. First we extract the target column from the training data (because this is not in the testing data but we need to keep this information). When we do the align, we must make sure to set `axis = 1` to align the dataframes based on the columns and not on the rows!"
   ],
   "metadata": {
    "_uuid": "1b2c4198638ec8e5155097d112249de8754eb5c0",
    "_cell_guid": "61d910b5-84f5-4655-bd8a-d29672c13741",
    "pycharm": {
     "name": "#%% md\n"
    }
   }
  },
  {
   "cell_type": "code",
   "source": [
    "train_labels = app_train['TARGET']\n",
    "\n",
    "# Align the training and testing data, keep only columns present in both dataframes\n",
    "app_train, app_test = app_train.align(app_test, join = 'inner', axis = 1)\n",
    "\n",
    "# Add the target back in\n",
    "app_train['TARGET'] = train_labels\n",
    "\n",
    "print('Training Features shape: ', app_train.shape)\n",
    "print('Testing Features shape: ', app_test.shape)"
   ],
   "metadata": {
    "_uuid": "e0d12a13cb95521c19b10d8829e8abe2b1118396",
    "_cell_guid": "d99ca215-e893-490c-a6a4-83f3e8a067b3",
    "execution": {
     "iopub.status.busy": "2022-05-13T07:35:10.816298Z",
     "iopub.execute_input": "2022-05-13T07:35:10.816577Z",
     "iopub.status.idle": "2022-05-13T07:35:11.628479Z",
     "shell.execute_reply.started": "2022-05-13T07:35:10.816524Z",
     "shell.execute_reply": "2022-05-13T07:35:11.627622Z"
    },
    "trusted": true,
    "pycharm": {
     "name": "#%%\n"
    }
   },
   "execution_count": null,
   "outputs": []
  },
  {
   "cell_type": "markdown",
   "source": [
    "The training and testing datasets now have the same features which is required for machine learning. The number of features has grown significantly due to one-hot encoding. At some point we probably will want to try [dimensionality reduction (removing features that are not relevant)](https://en.wikipedia.org/wiki/Dimensionality_reduction) to reduce the size of the datasets."
   ],
   "metadata": {
    "_uuid": "802ffdbae02e43a9ca4e256ffcd6bd40ae15f3e9",
    "pycharm": {
     "name": "#%% md\n"
    }
   }
  },
  {
   "cell_type": "markdown",
   "source": [
    "## Back to Exploratory Data Analysis\n",
    "\n",
    "### Anomalies\n",
    "\n",
    "One problem we always want to be on the lookout for when doing EDA is anomalies within the data. These may be due to mis-typed numbers, errors in measuring equipment, or they could be valid but extreme measurements. One way to support anomalies quantitatively is by looking at the statistics of a column using the `describe` method. The numbers in the `DAYS_BIRTH` column are negative because they are recorded relative to the current loan application. To see these stats in years, we can mutliple by -1 and divide by the number of days in a year:\n",
    "\n"
   ],
   "metadata": {
    "_uuid": "4d7c8dd1d5bb5a0ef84cb78e6bff927249e62145",
    "_cell_guid": "13918211-0e6b-4d72-955b-f997db19eea2",
    "pycharm": {
     "name": "#%% md\n"
    }
   }
  },
  {
   "cell_type": "code",
   "source": [
    "(app_train['DAYS_BIRTH'] / -365).describe()"
   ],
   "metadata": {
    "_uuid": "a60be93c2d7d63855e6d65c1109f408ad85da134",
    "execution": {
     "iopub.status.busy": "2022-05-13T07:35:11.629477Z",
     "iopub.execute_input": "2022-05-13T07:35:11.629743Z",
     "iopub.status.idle": "2022-05-13T07:35:11.699927Z",
     "shell.execute_reply.started": "2022-05-13T07:35:11.629692Z",
     "shell.execute_reply": "2022-05-13T07:35:11.699163Z"
    },
    "trusted": true,
    "pycharm": {
     "name": "#%%\n"
    }
   },
   "execution_count": null,
   "outputs": []
  },
  {
   "cell_type": "markdown",
   "source": [
    "Those ages look reasonable. There are no outliers for the age on either the high or low end. How about the days of employment? "
   ],
   "metadata": {
    "_uuid": "acb37a3e3f2e0b2fd581259788b9255398314157",
    "pycharm": {
     "name": "#%% md\n"
    }
   }
  },
  {
   "cell_type": "code",
   "source": [
    "app_train['DAYS_EMPLOYED'].describe()"
   ],
   "metadata": {
    "_uuid": "600c59dd5d970d3ccfea3a6af0036d85958adc91",
    "execution": {
     "iopub.status.busy": "2022-05-13T07:35:11.70118Z",
     "iopub.execute_input": "2022-05-13T07:35:11.70141Z",
     "iopub.status.idle": "2022-05-13T07:35:11.770835Z",
     "shell.execute_reply.started": "2022-05-13T07:35:11.701367Z",
     "shell.execute_reply": "2022-05-13T07:35:11.770104Z"
    },
    "trusted": true,
    "pycharm": {
     "name": "#%%\n"
    }
   },
   "execution_count": null,
   "outputs": []
  },
  {
   "cell_type": "markdown",
   "source": [
    "That doesn't look right! The maximum value (besides being positive) is about 1000 years! "
   ],
   "metadata": {
    "_uuid": "1cdd9dafce28e497e08062cd3b189ac353c04cd9",
    "pycharm": {
     "name": "#%% md\n"
    }
   }
  },
  {
   "cell_type": "code",
   "source": [
    "app_train['DAYS_EMPLOYED'].plot.hist(title = 'Days Employment Histogram');\n",
    "plt.xlabel('Days Employment');"
   ],
   "metadata": {
    "_uuid": "2878bfb3a2be4554f33e03e1a04d4c1978b52a08",
    "execution": {
     "iopub.status.busy": "2022-05-13T07:35:11.771825Z",
     "iopub.execute_input": "2022-05-13T07:35:11.772321Z",
     "iopub.status.idle": "2022-05-13T07:35:12.007859Z",
     "shell.execute_reply.started": "2022-05-13T07:35:11.772256Z",
     "shell.execute_reply": "2022-05-13T07:35:12.007091Z"
    },
    "trusted": true,
    "pycharm": {
     "name": "#%%\n"
    }
   },
   "execution_count": null,
   "outputs": []
  },
  {
   "cell_type": "markdown",
   "source": [
    "Just out of curiousity, let's subset the anomalous clients and see if they tend to have higher or low rates of default than the rest of the clients."
   ],
   "metadata": {
    "_uuid": "d28ca1e799c0a6113cc5e920297e1dc93d380af4",
    "pycharm": {
     "name": "#%% md\n"
    }
   }
  },
  {
   "cell_type": "code",
   "source": [
    "anom = app_train[app_train['DAYS_EMPLOYED'] == 365243]\n",
    "non_anom = app_train[app_train['DAYS_EMPLOYED'] != 365243]\n",
    "print('The non-anomalies default on %0.2f%% of loans' % (100 * non_anom['TARGET'].mean()))\n",
    "print('The anomalies default on %0.2f%% of loans' % (100 * anom['TARGET'].mean()))\n",
    "print('There are %d anomalous days of employment' % len(anom))"
   ],
   "metadata": {
    "_uuid": "67ea87d9ef6974b1780a7db1eefd13f90f81b5be",
    "execution": {
     "iopub.status.busy": "2022-05-13T07:35:12.009432Z",
     "iopub.execute_input": "2022-05-13T07:35:12.009704Z",
     "iopub.status.idle": "2022-05-13T07:35:12.56717Z",
     "shell.execute_reply.started": "2022-05-13T07:35:12.009651Z",
     "shell.execute_reply": "2022-05-13T07:35:12.566296Z"
    },
    "trusted": true,
    "pycharm": {
     "name": "#%%\n"
    }
   },
   "execution_count": null,
   "outputs": []
  },
  {
   "cell_type": "markdown",
   "source": [
    "Well that is extremely interesting! It turns out that the anomalies have a lower rate of default. \n",
    "\n",
    "Handling the anomalies depends on the exact situation, with no set rules. One of the safest approaches is just to set the anomalies to a missing value and then have them filled in (using Imputation) before machine learning. In this case, since all the anomalies have the exact same value, we want to fill them in with the same value in case all of these loans share something in common. The anomalous values seem to have some importance, so we want to tell the machine learning model if we did in fact fill in these values. As a solution, we will fill in the anomalous values with not a number (`np.nan`) and then create a new boolean column indicating whether or not the value was anomalous.\n",
    "\n"
   ],
   "metadata": {
    "_uuid": "1edfcf786aadb004f083e9896989a29e43bf80da",
    "pycharm": {
     "name": "#%% md\n"
    }
   }
  },
  {
   "cell_type": "code",
   "source": [
    "# Create an anomalous flag column\n",
    "app_train['DAYS_EMPLOYED_ANOM'] = app_train[\"DAYS_EMPLOYED\"] == 365243\n",
    "\n",
    "# Replace the anomalous values with nan\n",
    "app_train['DAYS_EMPLOYED'].replace({365243: np.nan}, inplace = True)\n",
    "\n",
    "app_train['DAYS_EMPLOYED'].plot.hist(title = 'Days Employment Histogram');\n",
    "plt.xlabel('Days Employment');"
   ],
   "metadata": {
    "_uuid": "e23ec3cb89428f3dd994b572f718cc729740cfab",
    "execution": {
     "iopub.status.busy": "2022-05-13T07:35:12.568541Z",
     "iopub.execute_input": "2022-05-13T07:35:12.568802Z",
     "iopub.status.idle": "2022-05-13T07:35:13.000047Z",
     "shell.execute_reply.started": "2022-05-13T07:35:12.568751Z",
     "shell.execute_reply": "2022-05-13T07:35:12.999028Z"
    },
    "trusted": true,
    "pycharm": {
     "name": "#%%\n"
    }
   },
   "execution_count": null,
   "outputs": []
  },
  {
   "cell_type": "markdown",
   "source": [
    "The distribution looks to be much more in line with what we would expect, and we also have created a new column to tell the model that these values were originally anomalous (becuase we will have to fill in the nans with some value, probably the median of the column). The other columns with `DAYS` in the dataframe look to be about what we expect with no obvious outliers. \n",
    "\n",
    "As an extremely important note, anything we do to the training data we also have to do to the testing data. Let's make sure to create the new column and fill in the existing column with `np.nan` in the testing data."
   ],
   "metadata": {
    "_uuid": "839595437c0721e2480f6b4ee58f3060b222f166",
    "pycharm": {
     "name": "#%% md\n"
    }
   }
  },
  {
   "cell_type": "code",
   "source": [
    "app_test['DAYS_EMPLOYED_ANOM'] = app_test[\"DAYS_EMPLOYED\"] == 365243\n",
    "app_test[\"DAYS_EMPLOYED\"].replace({365243: np.nan}, inplace = True)\n",
    "\n",
    "print('There are %d anomalies in the test data out of %d entries' % (app_test[\"DAYS_EMPLOYED_ANOM\"].sum(), len(app_test)))"
   ],
   "metadata": {
    "_uuid": "a0d7c77b2adecaa878f39cf86ffddcfbbe51a190",
    "execution": {
     "iopub.status.busy": "2022-05-13T07:35:13.00181Z",
     "iopub.execute_input": "2022-05-13T07:35:13.00252Z",
     "iopub.status.idle": "2022-05-13T07:35:13.07125Z",
     "shell.execute_reply.started": "2022-05-13T07:35:13.00245Z",
     "shell.execute_reply": "2022-05-13T07:35:13.070086Z"
    },
    "trusted": true,
    "pycharm": {
     "name": "#%%\n"
    }
   },
   "execution_count": null,
   "outputs": []
  },
  {
   "cell_type": "markdown",
   "source": [
    "### Correlations\n",
    "\n",
    "Now that we have dealt with the categorical variables and the outliers, let's continue with the EDA. One way to try and understand the data is by looking for correlations between the features and the target. We can calculate the Pearson correlation coefficient between every variable and the target using the `.corr` dataframe method.\n",
    "\n",
    "The correlation coefficient is not the greatest method to represent \"relevance\" of a feature, but it does give us an idea of possible relationships within the data. Some [general interpretations of the absolute value of the correlation coefficent](http://www.statstutor.ac.uk/resources/uploaded/pearsons.pdf) are:\n",
    "\n",
    "\n",
    "* .00-.19 “very weak”\n",
    "*  .20-.39 “weak”\n",
    "*  .40-.59 “moderate”\n",
    "*  .60-.79 “strong”\n",
    "* .80-1.0 “very strong”\n"
   ],
   "metadata": {
    "_uuid": "fd656b392faad3b34ecfa448b55ad03e75449e0a",
    "pycharm": {
     "name": "#%% md\n"
    }
   }
  },
  {
   "cell_type": "code",
   "source": [
    "# Find correlations with the target and sort\n",
    "correlations = app_train.corr()['TARGET'].sort_values()\n",
    "\n",
    "# Display correlations\n",
    "print('Most Positive Correlations:\\n', correlations.tail(15))\n",
    "print('\\nMost Negative Correlations:\\n', correlations.head(15))"
   ],
   "metadata": {
    "_uuid": "d39d15d64db1f2c9015c6f542911ef9a9cac119e",
    "_cell_guid": "02acdb8d-d95f-41b9-8ad1-e2b6cb26f398",
    "execution": {
     "iopub.status.busy": "2022-05-13T07:35:13.074223Z",
     "iopub.execute_input": "2022-05-13T07:35:13.074611Z",
     "iopub.status.idle": "2022-05-13T07:36:24.182983Z",
     "shell.execute_reply.started": "2022-05-13T07:35:13.074542Z",
     "shell.execute_reply": "2022-05-13T07:36:24.182151Z"
    },
    "trusted": true,
    "pycharm": {
     "name": "#%%\n"
    }
   },
   "execution_count": null,
   "outputs": []
  },
  {
   "cell_type": "markdown",
   "source": [
    "Let's take a look at some of more significant correlations: the `DAYS_BIRTH` is the most positive correlation. (except for `TARGET` because the correlation of a variable with itself is always 1!) Looking at the documentation, `DAYS_BIRTH` is the age in days of the client at the time of the loan in negative days (for whatever reason!). The correlation is positive, but the value of this feature is actually negative, meaning that as the client gets older, they are less likely to default on their loan (ie the target == 0). That's a little confusing, so we will take the absolute value of the feature and then the correlation will be negative."
   ],
   "metadata": {
    "_uuid": "67e1f0f22ec8e26c38827c24ca1e9409d73c9c64",
    "_cell_guid": "8cfa409c-ec74-4fa4-8093-e7d00596c9c5",
    "pycharm": {
     "name": "#%% md\n"
    }
   }
  },
  {
   "cell_type": "markdown",
   "source": [
    "### Effect of Age on Repayment"
   ],
   "metadata": {
    "_uuid": "c1b831b6d1c3221efb123fbc1a4882aa1f598ec0",
    "_cell_guid": "0f7b1cfb-9e5c-4720-9618-ad326940f3f3",
    "pycharm": {
     "name": "#%% md\n"
    }
   }
  },
  {
   "cell_type": "code",
   "source": [
    "# Find the correlation of the positive days since birth and target\n",
    "app_train['DAYS_BIRTH'] = abs(app_train['DAYS_BIRTH'])\n",
    "app_train['DAYS_BIRTH'].corr(app_train['TARGET'])"
   ],
   "metadata": {
    "_uuid": "f705c7aa49486ec3bf119c4edc4e4af58861b88d",
    "_cell_guid": "b0ab583c-dfbb-4ff7-80e5-d747fc408499",
    "execution": {
     "iopub.status.busy": "2022-05-13T07:36:24.184355Z",
     "iopub.execute_input": "2022-05-13T07:36:24.184626Z",
     "iopub.status.idle": "2022-05-13T07:36:24.2389Z",
     "shell.execute_reply.started": "2022-05-13T07:36:24.184574Z",
     "shell.execute_reply": "2022-05-13T07:36:24.238228Z"
    },
    "trusted": true,
    "pycharm": {
     "name": "#%%\n"
    }
   },
   "execution_count": null,
   "outputs": []
  },
  {
   "cell_type": "markdown",
   "source": [
    "As the client gets older, there is a negative linear relationship with the target meaning that as clients get older, they tend to repay their loans on time more often. \n",
    "\n",
    "Let's start looking at this variable. First, we can make a histogram of the age. We will put the x axis in years to make the plot a little more understandable."
   ],
   "metadata": {
    "_uuid": "2b95e2c33bdd50682e7105d0f27b9cc3ad5b482d",
    "_cell_guid": "3fde277c-ebf1-4eaf-a353-c18fc4b518a6",
    "pycharm": {
     "name": "#%% md\n"
    }
   }
  },
  {
   "cell_type": "code",
   "source": [
    "# Set the style of plots\n",
    "plt.style.use('fivethirtyeight')\n",
    "\n",
    "# Plot the distribution of ages in years\n",
    "plt.hist(app_train['DAYS_BIRTH'] / 365, edgecolor = 'k', bins = 25)\n",
    "plt.title('Age of Client'); plt.xlabel('Age (years)'); plt.ylabel('Count');"
   ],
   "metadata": {
    "_uuid": "739226c4594130d6aabeb25ffb8742c37657d7a4",
    "_cell_guid": "35e36393-e388-488e-ba7a-7473169d3e6f",
    "execution": {
     "iopub.status.busy": "2022-05-13T07:36:24.240009Z",
     "iopub.execute_input": "2022-05-13T07:36:24.240703Z",
     "iopub.status.idle": "2022-05-13T07:36:24.5866Z",
     "shell.execute_reply.started": "2022-05-13T07:36:24.240648Z",
     "shell.execute_reply": "2022-05-13T07:36:24.585438Z"
    },
    "trusted": true,
    "pycharm": {
     "name": "#%%\n"
    }
   },
   "execution_count": null,
   "outputs": []
  },
  {
   "cell_type": "markdown",
   "source": [
    "By itself, the distribution of age does not tell us much other than that there are no outliers as all the ages are reasonable. To visualize the effect of the age on the target, we will next make a [kernel density estimation plot](https://en.wikipedia.org/wiki/Kernel_density_estimation) (KDE) colored by the value of the target. A [kernel density estimate plot shows the distribution of a single variable](https://chemicalstatistician.wordpress.com/2013/06/09/exploratory-data-analysis-kernel-density-estimation-in-r-on-ozone-pollution-data-in-new-york-and-ozonopolis/) and can be thought of as a smoothed histogram (it is created by computing a kernel, usually a Gaussian, at each data point and then averaging all the individual kernels to develop a single smooth curve). We will use the seaborn `kdeplot` for this graph."
   ],
   "metadata": {
    "_uuid": "340680b4a4ecf310a6369808157b17cac7c13461",
    "_cell_guid": "02f5d3c5-e527-430b-a38d-531aeb8f3dd1",
    "pycharm": {
     "name": "#%% md\n"
    }
   }
  },
  {
   "cell_type": "code",
   "source": [
    "plt.figure(figsize = (10, 8))\n",
    "\n",
    "# KDE plot of loans that were repaid on time\n",
    "sns.kdeplot(app_train.loc[app_train['TARGET'] == 0, 'DAYS_BIRTH'] / 365, label = 'target == 0')\n",
    "\n",
    "# KDE plot of loans which were not repaid on time\n",
    "sns.kdeplot(app_train.loc[app_train['TARGET'] == 1, 'DAYS_BIRTH'] / 365, label = 'target == 1')\n",
    "\n",
    "# Labeling of plot\n",
    "plt.xlabel('Age (years)'); plt.ylabel('Density'); plt.title('Distribution of Ages');"
   ],
   "metadata": {
    "_uuid": "2e045e65f048789b577477356df4337c9e5e2087",
    "_cell_guid": "3982a18f-2731-4bb2-80c9-831b2377421f",
    "execution": {
     "iopub.status.busy": "2022-05-13T07:36:24.588551Z",
     "iopub.execute_input": "2022-05-13T07:36:24.589306Z",
     "iopub.status.idle": "2022-05-13T07:36:25.066928Z",
     "shell.execute_reply.started": "2022-05-13T07:36:24.589231Z",
     "shell.execute_reply": "2022-05-13T07:36:25.06586Z"
    },
    "trusted": true,
    "pycharm": {
     "name": "#%%\n"
    }
   },
   "execution_count": null,
   "outputs": []
  },
  {
   "cell_type": "markdown",
   "source": [
    "The target == 1 curve skews towards the younger end of the range. Although this is not a significant correlation (-0.07 correlation coefficient), this variable is likely going to be useful in a machine learning model because it does affect the target. Let's look at this relationship in another way: average failure to repay loans by age bracket. \n",
    "\n",
    "To make this graph, first we `cut` the age category into bins of 5 years each. Then, for each bin, we calculate the average value of the target, which tells us the ratio of loans that were not repaid in each age category."
   ],
   "metadata": {
    "_uuid": "57757e02285b8067b61e3f586174ad64bec78ac1",
    "_cell_guid": "9749e164-efea-47d2-ab60-5a8b89ff0570",
    "pycharm": {
     "name": "#%% md\n"
    }
   }
  },
  {
   "cell_type": "code",
   "source": [
    "# Age information into a separate dataframe\n",
    "age_data = app_train[['TARGET', 'DAYS_BIRTH']]\n",
    "age_data['YEARS_BIRTH'] = age_data['DAYS_BIRTH'] / 365\n",
    "\n",
    "# Bin the age data\n",
    "age_data['YEARS_BINNED'] = pd.cut(age_data['YEARS_BIRTH'], bins = np.linspace(20, 70, num = 11))\n",
    "age_data.head(10)"
   ],
   "metadata": {
    "_uuid": "6c50572f095bff250bfed1993e2c53118277b5dd",
    "_cell_guid": "4296e926-7245-40df-bb0a-f6e59d8e566a",
    "execution": {
     "iopub.status.busy": "2022-05-13T07:36:25.068585Z",
     "iopub.execute_input": "2022-05-13T07:36:25.06908Z",
     "iopub.status.idle": "2022-05-13T07:36:25.370897Z",
     "shell.execute_reply.started": "2022-05-13T07:36:25.069021Z",
     "shell.execute_reply": "2022-05-13T07:36:25.369923Z"
    },
    "trusted": true,
    "pycharm": {
     "name": "#%%\n"
    }
   },
   "execution_count": null,
   "outputs": []
  },
  {
   "cell_type": "code",
   "source": [
    "# Group by the bin and calculate averages\n",
    "age_groups  = age_data.groupby('YEARS_BINNED').mean()\n",
    "age_groups"
   ],
   "metadata": {
    "_uuid": "7082483e5fd9114856926de28968e5ae0b478b36",
    "_cell_guid": "18873d6b-3877-4c77-830e-0f3e10e5e7fb",
    "execution": {
     "iopub.status.busy": "2022-05-13T07:36:25.372456Z",
     "iopub.execute_input": "2022-05-13T07:36:25.372837Z",
     "iopub.status.idle": "2022-05-13T07:36:25.446459Z",
     "shell.execute_reply.started": "2022-05-13T07:36:25.372767Z",
     "shell.execute_reply": "2022-05-13T07:36:25.44543Z"
    },
    "trusted": true,
    "pycharm": {
     "name": "#%%\n"
    }
   },
   "execution_count": null,
   "outputs": []
  },
  {
   "cell_type": "code",
   "source": [
    "plt.figure(figsize = (8, 8))\n",
    "\n",
    "# Graph the age bins and the average of the target as a bar plot\n",
    "plt.bar(age_groups.index.astype(str), 100 * age_groups['TARGET'])\n",
    "\n",
    "# Plot labeling\n",
    "plt.xticks(rotation = 75); plt.xlabel('Age Group (years)'); plt.ylabel('Failure to Repay (%)')\n",
    "plt.title('Failure to Repay by Age Group');"
   ],
   "metadata": {
    "_uuid": "823b5032f472b05ce079ae5a7680389f31ddd8b7",
    "_cell_guid": "004d1021-d73f-4356-9ef8-0464c95d1708",
    "execution": {
     "iopub.status.busy": "2022-05-13T07:36:25.448031Z",
     "iopub.execute_input": "2022-05-13T07:36:25.448363Z",
     "iopub.status.idle": "2022-05-13T07:36:25.848507Z",
     "shell.execute_reply.started": "2022-05-13T07:36:25.448299Z",
     "shell.execute_reply": "2022-05-13T07:36:25.847508Z"
    },
    "trusted": true,
    "pycharm": {
     "name": "#%%\n"
    }
   },
   "execution_count": null,
   "outputs": []
  },
  {
   "cell_type": "markdown",
   "source": [
    "There is a clear trend: younger applicants are more likely to not repay the loan! The rate of failure to repay is above 10% for the youngest three age groups and beolow 5% for the oldest age group.\n",
    "\n",
    "This is information that could be directly used by the bank: because younger clients are less likely to repay the loan, maybe they should be provided with more guidance or financial planning tips. This does not mean the bank should discriminate against younger clients, but it would be smart to take precautionary measures to help younger clients pay on time."
   ],
   "metadata": {
    "_uuid": "eb2bd6392ed6d6f7e002bc8dbea6aab0f30487d9",
    "_cell_guid": "2dad060f-bcab-4fe3-aa19-29fbf3e6fdab",
    "pycharm": {
     "name": "#%% md\n"
    }
   }
  },
  {
   "cell_type": "markdown",
   "source": [
    "### Exterior Sources\n",
    "\n",
    "The 3 variables with the strongest negative correlations with the target are `EXT_SOURCE_1`, `EXT_SOURCE_2`, and `EXT_SOURCE_3`.\n",
    "According to the documentation, these features represent a \"normalized score from external data source\". I'm not sure what this exactly means, but it may be a cumulative sort of credit rating made using numerous sources of data. \n",
    "\n",
    "Let's take a look at these variables.\n",
    "\n",
    "First, we can show the correlations of the `EXT_SOURCE` features with the target and with each other."
   ],
   "metadata": {
    "_uuid": "43a3bb87bdaa65509e9dc887492239ae06cd1c77",
    "_cell_guid": "4749204f-ec63-4eeb-8d25-9c80967348f1",
    "pycharm": {
     "name": "#%% md\n"
    }
   }
  },
  {
   "cell_type": "code",
   "source": [
    "# Extract the EXT_SOURCE variables and show correlations\n",
    "ext_data = app_train[['TARGET', 'EXT_SOURCE_1', 'EXT_SOURCE_2', 'EXT_SOURCE_3', 'DAYS_BIRTH']]\n",
    "ext_data_corrs = ext_data.corr()\n",
    "ext_data_corrs"
   ],
   "metadata": {
    "_uuid": "6197819149feaff75176e64e54c65ea6be3864fe",
    "_cell_guid": "e2ab3b7f-3a53-4495-a1de-31ad287f032a",
    "execution": {
     "iopub.status.busy": "2022-05-13T07:36:25.850119Z",
     "iopub.execute_input": "2022-05-13T07:36:25.850679Z",
     "iopub.status.idle": "2022-05-13T07:36:25.954864Z",
     "shell.execute_reply.started": "2022-05-13T07:36:25.850618Z",
     "shell.execute_reply": "2022-05-13T07:36:25.953802Z"
    },
    "trusted": true,
    "pycharm": {
     "name": "#%%\n"
    }
   },
   "execution_count": null,
   "outputs": []
  },
  {
   "cell_type": "code",
   "source": [
    "plt.figure(figsize = (8, 6))\n",
    "\n",
    "# Heatmap of correlations\n",
    "sns.heatmap(ext_data_corrs, cmap = plt.cm.RdYlBu_r, vmin = -0.25, annot = True, vmax = 0.6)\n",
    "plt.title('Correlation Heatmap');"
   ],
   "metadata": {
    "_uuid": "20b21a6b4e15a726c29596abeb01346dc416729c",
    "_cell_guid": "0479863d-cfa9-47ab-83e6-7d7877e3e939",
    "execution": {
     "iopub.status.busy": "2022-05-13T07:36:25.956444Z",
     "iopub.execute_input": "2022-05-13T07:36:25.956727Z",
     "iopub.status.idle": "2022-05-13T07:36:26.385245Z",
     "shell.execute_reply.started": "2022-05-13T07:36:25.956671Z",
     "shell.execute_reply": "2022-05-13T07:36:26.384203Z"
    },
    "trusted": true,
    "pycharm": {
     "name": "#%%\n"
    }
   },
   "execution_count": null,
   "outputs": []
  },
  {
   "cell_type": "markdown",
   "source": [
    "All three `EXT_SOURCE` featureshave negative correlations with the target, indicating that as the value of the `EXT_SOURCE` increases, the client is more likely to repay the loan. We can also see that `DAYS_BIRTH` is positively correlated with `EXT_SOURCE_1` indicating that maybe one of the factors in this score is the client age.\n",
    "\n",
    "Next we can look at the distribution of each of these features colored by the value of the target. This will let us visualize the effect of this variable on the target."
   ],
   "metadata": {
    "_uuid": "6a592aa7c01858b268489ccb8fd00690cd26cd58",
    "_cell_guid": "78bd5acc-003d-4795-a57a-a6c4fc9c8c5f",
    "pycharm": {
     "name": "#%% md\n"
    }
   }
  },
  {
   "cell_type": "code",
   "source": [
    "plt.figure(figsize = (10, 12))\n",
    "\n",
    "# iterate through the sources\n",
    "for i, source in enumerate(['EXT_SOURCE_1', 'EXT_SOURCE_2', 'EXT_SOURCE_3']):\n",
    "    \n",
    "    # create a new subplot for each source\n",
    "    plt.subplot(3, 1, i + 1)\n",
    "    # plot repaid loans\n",
    "    sns.kdeplot(app_train.loc[app_train['TARGET'] == 0, source], label = 'target == 0')\n",
    "    # plot loans that were not repaid\n",
    "    sns.kdeplot(app_train.loc[app_train['TARGET'] == 1, source], label = 'target == 1')\n",
    "    \n",
    "    # Label the plots\n",
    "    plt.title('Distribution of %s by Target Value' % source)\n",
    "    plt.xlabel('%s' % source); plt.ylabel('Density');\n",
    "    \n",
    "plt.tight_layout(h_pad = 2.5)\n",
    "    "
   ],
   "metadata": {
    "_uuid": "49afab6b3790abcc2dea04c483f462f39e536503",
    "_cell_guid": "5e2b6507-96d1-4f96-964f-d8241e321f09",
    "execution": {
     "iopub.status.busy": "2022-05-13T07:36:26.386839Z",
     "iopub.execute_input": "2022-05-13T07:36:26.387429Z",
     "iopub.status.idle": "2022-05-13T07:36:27.411866Z",
     "shell.execute_reply.started": "2022-05-13T07:36:26.387356Z",
     "shell.execute_reply": "2022-05-13T07:36:27.4111Z"
    },
    "trusted": true,
    "pycharm": {
     "name": "#%%\n"
    }
   },
   "execution_count": null,
   "outputs": []
  },
  {
   "cell_type": "markdown",
   "source": [
    "`EXT_SOURCE_3` displays the greatest difference between the values of the target. We can clearly see that this feature has some relationship to the likelihood of an applicant to repay a loan. The relationship is not very strong (in fact they are all [considered very weak](http://www.statstutor.ac.uk/resources/uploaded/pearsons.pdf), but these variables will still be useful for a machine learning model to predict whether or not an applicant will repay a loan on time."
   ],
   "metadata": {
    "_uuid": "71ce5855665256dacfd7c52bceb11c68f5c58759",
    "_cell_guid": "0ee531e8-f131-4ae3-b542-d4bf550d9bd5",
    "pycharm": {
     "name": "#%% md\n"
    }
   }
  },
  {
   "cell_type": "markdown",
   "source": [
    "## Pairs Plot\n",
    "\n",
    "As a final exploratory plot, we can make a pairs plot of the `EXT_SOURCE` variables and the `DAYS_BIRTH` variable. The [Pairs Plot](https://towardsdatascience.com/visualizing-data-with-pair-plots-in-python-f228cf529166) is a great exploration tool because it lets us see relationships between multiple pairs of variables as well as distributions of single variables. Here we are using the seaborn visualization library and the PairGrid function to create a Pairs Plot with scatterplots on the upper triangle, histograms on the diagonal, and 2D kernel density plots and correlation coefficients on the lower triangle.\n",
    "\n",
    "If you don't understand this code, that's all right! Plotting in Python can be overly complex, and for anything beyond the simplest graphs, I usually find an existing implementation and adapt the code (don't repeat yourself)! "
   ],
   "metadata": {
    "_uuid": "53f486249f8afec0496d3de25120e57d956c2eb7",
    "pycharm": {
     "name": "#%% md\n"
    }
   }
  },
  {
   "cell_type": "code",
   "source": [
    "# Copy the data for plotting\n",
    "plot_data = ext_data.drop(columns = ['DAYS_BIRTH']).copy()\n",
    "\n",
    "# Add in the age of the client in years\n",
    "plot_data['YEARS_BIRTH'] = age_data['YEARS_BIRTH']\n",
    "\n",
    "# Drop na values and limit to first 100000 rows\n",
    "plot_data = plot_data.dropna().loc[:100000, :]\n",
    "\n",
    "# Function to calculate correlation coefficient between two columns\n",
    "def corr_func(x, y, **kwargs):\n",
    "    r = np.corrcoef(x, y)[0][1]\n",
    "    ax = plt.gca()\n",
    "    ax.annotate(\"r = {:.2f}\".format(r),\n",
    "                xy=(.2, .8), xycoords=ax.transAxes,\n",
    "                size = 20)\n",
    "\n",
    "# Create the pairgrid object\n",
    "grid = sns.PairGrid(data = plot_data, size = 3, diag_sharey=False,\n",
    "                    hue = 'TARGET', \n",
    "                    vars = [x for x in list(plot_data.columns) if x != 'TARGET'])\n",
    "\n",
    "# Upper is a scatter plot\n",
    "grid.map_upper(plt.scatter, alpha = 0.2)\n",
    "\n",
    "# Diagonal is a histogram\n",
    "grid.map_diag(sns.kdeplot)\n",
    "\n",
    "# Bottom is density plot\n",
    "grid.map_lower(sns.kdeplot, cmap = plt.cm.OrRd_r);\n",
    "\n",
    "plt.suptitle('Ext Source and Age Features Pairs Plot', size = 32, y = 1.05);"
   ],
   "metadata": {
    "_uuid": "9400f9d2810f4331005c9b91e040818279d1eaf8",
    "_cell_guid": "7b185a4e-ac04-4ff2-b5cb-46eacf6a70b6",
    "execution": {
     "iopub.status.busy": "2022-05-13T07:36:27.413356Z",
     "iopub.execute_input": "2022-05-13T07:36:27.413625Z",
     "iopub.status.idle": "2022-05-13T07:38:59.367152Z",
     "shell.execute_reply.started": "2022-05-13T07:36:27.413573Z",
     "shell.execute_reply": "2022-05-13T07:38:59.363938Z"
    },
    "trusted": true,
    "pycharm": {
     "name": "#%%\n"
    }
   },
   "execution_count": null,
   "outputs": []
  },
  {
   "cell_type": "markdown",
   "source": [
    "In this plot, the red indicates loans that were not repaid and the blue are loans that are paid. We can see the different relationships within the data. There does appear to be a moderate positive linear relationship between the `EXT_SOURCE_1` and the `DAYS_BIRTH` (or equivalently `YEARS_BIRTH`), indicating that this feature may take into account the age of the client. "
   ],
   "metadata": {
    "_uuid": "88f9f486c74856bd87ff7699998088d9ee7fd926",
    "_cell_guid": "839f51f5-02f4-472d-9de4-aa2f760c171c",
    "pycharm": {
     "name": "#%% md\n"
    }
   }
  },
  {
   "cell_type": "markdown",
   "source": [
    "## Scaling the Data\n",
    "\n",
    "First, I will make sure every column now is numerical data"
   ],
   "metadata": {
    "pycharm": {
     "name": "#%% md\n"
    }
   }
  },
  {
   "cell_type": "code",
   "source": [
    "pd.set_option('display.max_rows', None)\n",
    "print(app_train.dtypes)\n",
    "pd.set_option('display.max_rows', 50)"
   ],
   "metadata": {
    "execution": {
     "iopub.status.busy": "2022-05-13T07:38:59.368545Z",
     "iopub.execute_input": "2022-05-13T07:38:59.368822Z",
     "iopub.status.idle": "2022-05-13T07:38:59.421929Z",
     "shell.execute_reply.started": "2022-05-13T07:38:59.368776Z",
     "shell.execute_reply": "2022-05-13T07:38:59.420384Z"
    },
    "trusted": true,
    "pycharm": {
     "name": "#%%\n"
    }
   },
   "execution_count": null,
   "outputs": []
  },
  {
   "cell_type": "markdown",
   "source": [
    "OK. All columns are numerical Data. We can now Standard scale the data"
   ],
   "metadata": {
    "pycharm": {
     "name": "#%% md\n"
    }
   }
  },
  {
   "cell_type": "code",
   "source": [
    "from sklearn.preprocessing import MinMaxScaler, Imputer\n",
    "\n",
    "\n",
    "min_max = MinMaxScaler()\n",
    "\n",
    "\n",
    "\n",
    "# Drop the target (and sk id client) from the training data\n",
    "if 'TARGET' in app_train:\n",
    "    target = app_train[\"TARGET\"]\n",
    "    train = app_train.drop(columns = ['TARGET', \"SK_ID_CURR\"])\n",
    "else:\n",
    "    train = app_train.drop(columns = [\"SK_ID_CURR\"])\n",
    "    \n",
    "# Feature names. Little trick so that the scaler and imputer does not convert df into np but keeps df instead\n",
    "features = list(train.columns)\n",
    "\n",
    "# Copy of the testing data (drop sk id because it does not have to be scaled)\n",
    "test = app_test.drop(columns = [\"SK_ID_CURR\"])\n",
    "\n",
    "\n",
    "print(train.shape, test.shape)\n",
    "\n",
    "\n",
    "# Median imputation of missing values\n",
    "imputer = Imputer(strategy = 'median')\n",
    "\n",
    "# Scale each feature to 0-1\n",
    "scaler = MinMaxScaler(feature_range = (0, 1))\n",
    "\n",
    "# Fit on the training data\n",
    "imputer.fit(train)\n",
    "\n",
    "# Transform both training and testing data\n",
    "train[features] = imputer.transform(train[features])\n",
    "test[features] = imputer.transform(test[features])\n",
    "\n",
    "# Repeat with the scaler\n",
    "scaler.fit(train)\n",
    "train[features] = scaler.transform(train[features])\n",
    "test[features] = scaler.transform(test[features])\n",
    "\n",
    "#Get the SK_ID_CURR back\n",
    "column_train = app_train[\"SK_ID_CURR\"]\n",
    "column_test = app_test[\"SK_ID_CURR\"]\n",
    "print(len(column_train), len(train), len(column_test),len(test))\n",
    "train.insert(loc=0 , column = \"SK_ID_CURR\", value = column_train)\n",
    "test.insert(loc=0 , column = \"SK_ID_CURR\", value = column_test)\n",
    "\n",
    "\n",
    "\n",
    "print('Training data shape: ', train.shape)\n",
    "print('Testing data shape: ', test.shape)\n",
    "\n",
    "\n"
   ],
   "metadata": {
    "execution": {
     "iopub.status.busy": "2022-05-13T07:38:59.424265Z",
     "iopub.execute_input": "2022-05-13T07:38:59.425247Z",
     "iopub.status.idle": "2022-05-13T07:40:12.696189Z",
     "shell.execute_reply.started": "2022-05-13T07:38:59.425146Z",
     "shell.execute_reply": "2022-05-13T07:40:12.693261Z"
    },
    "trusted": true,
    "pycharm": {
     "name": "#%%\n"
    }
   },
   "execution_count": null,
   "outputs": []
  },
  {
   "cell_type": "code",
   "source": [
    "pd.set_option('display.max_rows', 5)\n",
    "train"
   ],
   "metadata": {
    "execution": {
     "iopub.status.busy": "2022-05-13T07:40:12.701291Z",
     "iopub.execute_input": "2022-05-13T07:40:12.702201Z",
     "iopub.status.idle": "2022-05-13T07:40:15.060832Z",
     "shell.execute_reply.started": "2022-05-13T07:40:12.702033Z",
     "shell.execute_reply": "2022-05-13T07:40:15.059963Z"
    },
    "trusted": true,
    "pycharm": {
     "name": "#%%\n"
    }
   },
   "execution_count": null,
   "outputs": []
  },
  {
   "cell_type": "code",
   "source": [
    "pd.set_option('display.max_rows', 5)\n",
    "test"
   ],
   "metadata": {
    "execution": {
     "iopub.status.busy": "2022-05-13T07:40:15.062294Z",
     "iopub.execute_input": "2022-05-13T07:40:15.062559Z",
     "iopub.status.idle": "2022-05-13T07:40:15.309194Z",
     "shell.execute_reply.started": "2022-05-13T07:40:15.062494Z",
     "shell.execute_reply": "2022-05-13T07:40:15.308259Z"
    },
    "trusted": true,
    "pycharm": {
     "name": "#%%\n"
    }
   },
   "execution_count": null,
   "outputs": []
  },
  {
   "cell_type": "code",
   "source": [
    "train.to_csv(\"data_train_preprocessed.csv\",index=False)\n",
    "test.to_csv(\"data_test_preprocessed.csv\",index=False)"
   ],
   "metadata": {
    "execution": {
     "iopub.status.busy": "2022-05-13T07:40:15.310499Z",
     "iopub.execute_input": "2022-05-13T07:40:15.310739Z",
     "iopub.status.idle": "2022-05-13T07:42:06.681405Z",
     "shell.execute_reply.started": "2022-05-13T07:40:15.310695Z",
     "shell.execute_reply": "2022-05-13T07:42:06.680593Z"
    },
    "trusted": true,
    "pycharm": {
     "name": "#%%\n"
    }
   },
   "execution_count": null,
   "outputs": []
  },
  {
   "cell_type": "code",
   "source": [
    "test"
   ],
   "metadata": {
    "execution": {
     "iopub.status.busy": "2022-05-13T07:42:06.68394Z",
     "iopub.execute_input": "2022-05-13T07:42:06.685052Z",
     "iopub.status.idle": "2022-05-13T07:42:06.921806Z",
     "shell.execute_reply.started": "2022-05-13T07:42:06.684173Z",
     "shell.execute_reply": "2022-05-13T07:42:06.921055Z"
    },
    "trusted": true,
    "pycharm": {
     "name": "#%%\n"
    }
   },
   "execution_count": null,
   "outputs": []
  },
  {
   "cell_type": "code",
   "source": [
    "train"
   ],
   "metadata": {
    "execution": {
     "iopub.status.busy": "2022-05-13T07:42:06.922946Z",
     "iopub.execute_input": "2022-05-13T07:42:06.92326Z",
     "iopub.status.idle": "2022-05-13T07:42:08.114916Z",
     "shell.execute_reply.started": "2022-05-13T07:42:06.923204Z",
     "shell.execute_reply": "2022-05-13T07:42:08.114044Z"
    },
    "trusted": true,
    "pycharm": {
     "name": "#%%\n"
    }
   },
   "execution_count": null,
   "outputs": []
  },
  {
   "cell_type": "code",
   "source": [],
   "metadata": {
    "pycharm": {
     "name": "#%%\n"
    }
   },
   "execution_count": null,
   "outputs": []
  },
  {
   "cell_type": "markdown",
   "source": [
    "## Modèle"
   ],
   "metadata": {
    "pycharm": {
     "name": "#%% md\n"
    }
   }
  },
  {
   "cell_type": "code",
   "source": [],
   "metadata": {
    "execution": {
     "iopub.status.busy": "2022-05-13T07:50:14.135063Z",
     "iopub.execute_input": "2022-05-13T07:50:14.135381Z",
     "iopub.status.idle": "2022-05-13T07:50:33.437967Z",
     "shell.execute_reply.started": "2022-05-13T07:50:14.135343Z",
     "shell.execute_reply": "2022-05-13T07:50:33.4362Z"
    },
    "trusted": true,
    "pycharm": {
     "name": "#%%\n"
    }
   },
   "execution_count": null,
   "outputs": []
  },
  {
   "cell_type": "code",
   "source": [
    "import sklearn.metrics"
   ],
   "metadata": {
    "execution": {
     "iopub.status.busy": "2022-05-13T07:51:31.515423Z",
     "iopub.execute_input": "2022-05-13T07:51:31.515757Z",
     "iopub.status.idle": "2022-05-13T07:51:38.476375Z",
     "shell.execute_reply.started": "2022-05-13T07:51:31.515708Z",
     "shell.execute_reply": "2022-05-13T07:51:38.474328Z"
    },
    "trusted": true,
    "pycharm": {
     "name": "#%%\n"
    }
   },
   "execution_count": null,
   "outputs": []
  },
  {
   "cell_type": "code",
   "source": [
    "# Load packages\n",
    "import os\n",
    "import numpy as np\n",
    "import pandas as pd\n",
    "import matplotlib.pyplot as plt\n",
    "import seaborn as sns\n",
    "from sklearn.ensemble import GradientBoostingClassifier\n",
    "# Transformations de variables\n",
    "from sklearn.preprocessing import LabelEncoder, OneHotEncoder, RobustScaler\n",
    "from sklearn.impute import SimpleImputer\n",
    "from sklearn.pipeline import Pipeline\n",
    "\n",
    "# Metrics de ML\n",
    "from sklearn.metrics import auc, roc_curve, roc_auc_score, make_scorer\n",
    "from sklearn.metrics import accuracy_score, recall_score\n",
    "from sklearn.metrics import precision_recall_curve, average_precision_score\n",
    "from sklearn.metrics import precision_score, recall_score, f1_score, confusion_matrix\n",
    "\n",
    "from sklearn.neighbors import NearestNeighbors\n",
    "\n",
    "# Packages de cross_validation\n",
    "from sklearn.model_selection import cross_val_score, cross_val_predict\n",
    "from sklearn.model_selection import cross_validate\n",
    "from sklearn.calibration import calibration_curve, CalibratedClassifierCV\n",
    "from sklearn.model_selection import KFold, StratifiedKFold\n",
    "from sklearn.model_selection import train_test_split\n",
    "\n",
    "# Modèles de ML\n",
    "\n",
    "from sklearn.ensemble import RandomForestClassifier\n",
    "from sklearn.linear_model import LogisticRegression\n",
    "from sklearn.neighbors import KNeighborsClassifier\n",
    "from sklearn.neural_network import MLPClassifier\n",
    "from sklearn.dummy import DummyClassifier\n",
    "\n",
    "from sklearn.svm import SVC\n",
    "from sklearn.naive_bayes import GaussianNB\n",
    "from sklearn.linear_model import ElasticNet\n",
    "\n",
    "color = sns.color_palette()\n",
    "\n",
    "from sklearn.metrics import auc\n",
    "from sklearn.metrics import roc_curve\n",
    "\n",
    "from collections import Counter\n",
    "from imblearn.over_sampling import SMOTE\n",
    "from imblearn.under_sampling import RandomUnderSampler\n",
    "from imblearn.pipeline import Pipeline\n",
    "\n",
    "import pickle\n",
    "\n",
    "\n",
    "def custom_score_fct(y_true, y_pred):\n",
    "    \"\"\" custom function that acts as a scorer for or problem.\n",
    "    it will take into account the fact that a loan payment default is much more important than a payment.\n",
    "     the severity of default is arbitrary set to 10 times the severity of a payment\n",
    "     it is then better to not give a loan to sbdy who would have repay it, than giving it to sbdy who will not.\n",
    "\n",
    "     The function will then be an adjusted f1 score where false negative will have more impact than false positive\"\"\"\n",
    "\n",
    "    try:\n",
    "        CM = confusion_matrix(y_true, y_pred)\n",
    "\n",
    "        #True positives, False positives, True negatives,  False negatives\n",
    "        TP = CM[1][1]\n",
    "        FP = CM[0][1]\n",
    "        TN = CM[0][0]\n",
    "        FN = CM[1][0]\n",
    "\n",
    "    except:\n",
    "        return 0\n",
    "\n",
    "\n",
    "\n",
    "def custom_SMOTE_func(X, y, frac_over = 0.2, frac_under = 0.5):\n",
    "\n",
    "    \"\"\"balance a dataset by using SMOTE for oversapling\n",
    "    the minority class by 20%, and undersampling (if needed)\n",
    "    the majority class so that it is 2x bigger than the minority\n",
    "    class \"\"\"\n",
    "\n",
    "\n",
    "    #Combine SMOTE with random under-sampling of the majority class\n",
    "\n",
    "    # summarize class distribution\n",
    "    counter = Counter(y)\n",
    "    print(\"old count : \", counter)\n",
    "\n",
    "    # define pipeline\n",
    "    over = SMOTE(sampling_strategy = frac_over)\n",
    "    under = RandomUnderSampler(sampling_strategy = frac_under)\n",
    "    steps = [('o', over), ('u', under)]\n",
    "    pipeline = Pipeline(steps=steps)\n",
    "\n",
    "    # transform the dataset\n",
    "    X_bal, y_bal = pipeline.fit_resample(X, y)\n",
    "\n",
    "    # summarize the new class distribution\n",
    "    counter = Counter(y_bal)\n",
    "    print(\"new count : \", counter)\n",
    "\n",
    "    return X_bal, y_bal\n",
    "\n",
    "\n"
   ],
   "metadata": {
    "execution": {
     "iopub.status.busy": "2022-05-13T07:42:19.249712Z",
     "iopub.status.idle": "2022-05-13T07:42:19.25028Z"
    },
    "trusted": true,
    "pycharm": {
     "name": "#%%\n"
    }
   },
   "execution_count": null,
   "outputs": []
  },
  {
   "cell_type": "code",
   "source": [
    "data_train = train #data train WITHOUT TARGET that has been saved in the following file\n",
    "data_test = test \n"
   ],
   "metadata": {
    "execution": {
     "iopub.status.busy": "2022-05-13T07:42:19.251108Z",
     "iopub.status.idle": "2022-05-13T07:42:19.251659Z"
    },
    "trusted": true,
    "pycharm": {
     "name": "#%%\n"
    }
   },
   "execution_count": null,
   "outputs": []
  },
  {
   "cell_type": "code",
   "source": [
    "print(data_train.shape, data_test.shape)"
   ],
   "metadata": {
    "execution": {
     "iopub.status.busy": "2022-05-13T07:42:19.252535Z",
     "iopub.status.idle": "2022-05-13T07:42:19.253414Z"
    },
    "trusted": true,
    "pycharm": {
     "name": "#%%\n"
    }
   },
   "execution_count": null,
   "outputs": []
  },
  {
   "cell_type": "code",
   "source": [],
   "metadata": {
    "execution": {
     "iopub.status.busy": "2022-05-13T07:42:19.254465Z",
     "iopub.status.idle": "2022-05-13T07:42:19.25525Z"
    },
    "trusted": true,
    "pycharm": {
     "name": "#%%\n"
    }
   },
   "execution_count": null,
   "outputs": []
  },
  {
   "cell_type": "code",
   "source": [
    "data = data_train\n",
    "data.head(5)"
   ],
   "metadata": {
    "execution": {
     "iopub.status.busy": "2022-05-13T07:42:19.256308Z",
     "iopub.status.idle": "2022-05-13T07:42:19.257091Z"
    },
    "trusted": true,
    "pycharm": {
     "name": "#%%\n"
    }
   },
   "execution_count": null,
   "outputs": []
  },
  {
   "cell_type": "code",
   "source": [
    "data = data.drop([\"SK_ID_CURR\"], axis=1)"
   ],
   "metadata": {
    "pycharm": {
     "name": "#%%\n"
    }
   },
   "execution_count": null,
   "outputs": []
  },
  {
   "cell_type": "code",
   "execution_count": null,
   "outputs": [],
   "source": [
    "sns.countplot(x='TARGET', data=data)"
   ],
   "metadata": {
    "collapsed": false,
    "pycharm": {
     "name": "#%%\n"
    }
   }
  },
  {
   "cell_type": "code",
   "execution_count": null,
   "outputs": [],
   "source": [
    "X = data.drop(labels=[\"TARGET\"], axis=1, inplace=False)\n",
    "y = data[\"TARGET\"]\n"
   ],
   "metadata": {
    "collapsed": false,
    "pycharm": {
     "name": "#%%\n"
    }
   }
  },
  {
   "cell_type": "code",
   "execution_count": null,
   "outputs": [],
   "source": [
    "X.std()"
   ],
   "metadata": {
    "collapsed": false,
    "pycharm": {
     "name": "#%%\n"
    }
   }
  },
  {
   "cell_type": "code",
   "execution_count": null,
   "outputs": [],
   "source": [
    "from sklearn.decomposition import PCA\n",
    "\n",
    "\n",
    "# Truncated SVD Permet d'implémenter des PCA sur des sparse matrix (car ne centre pas les matrices avant réduction)\n",
    "# Le maximum de nb_composants de la PCA vaut le minimum entre nb_features et nb_échantillons, qui vaut ici 1050\n",
    "pca = PCA()\n",
    "\n",
    "\n",
    "\n",
    "pca.fit(X)\n",
    "\n",
    "\n",
    "plt.figure()\n",
    "plt.title('Count Vect : Somme cumulée de variance des composantes de l\\'ACP')\n",
    "plt.xlabel('Nombre de composantes de l\\'ACP')\n",
    "plt.ylabel('Variance cumulée')\n",
    "plt.plot(list(range(pca.explained_variance_ratio_.shape[0])),\n",
    "         np.cumsum(pca.explained_variance_ratio_))\n",
    "\n",
    "# Dictionnaire de classifieurs\n",
    "\n",
    "params_logistic_reg = {\"classification__C\" : np.logspace(-2,2,5)}\n",
    "params_random_forest = {\"classification__n_estimators\" : [10,50,100,200,500]}\n",
    "params_xgboos = {\"classification__n_estimators\" : [10,50,100,200]}\n",
    "\n",
    "dct_classifiers = {'Dummy Classifier': [DummyClassifier(), None],\n",
    "                   'Logistic Regression': [LogisticRegression(),params_logistic_reg],\n",
    "                   'Random Forest': [RandomForestClassifier(n_estimators=100),params_random_forest],\n",
    "                   'Xgboost': [GradientBoostingClassifier(),params_xgboos]\n",
    "                   }\n",
    "\n",
    "\n",
    "\n"
   ],
   "metadata": {
    "collapsed": false,
    "pycharm": {
     "name": "#%%\n"
    }
   }
  },
  {
   "cell_type": "code",
   "execution_count": null,
   "outputs": [],
   "source": [],
   "metadata": {
    "collapsed": false,
    "pycharm": {
     "name": "#%%\n"
    }
   }
  },
  {
   "cell_type": "code",
   "execution_count": null,
   "outputs": [],
   "source": [
    "#Implement the scorer\n",
    "\n",
    "from sklearn.metrics import make_scorer\n",
    "\n",
    "\n",
    "custom_score = make_scorer(custom_score_fct, greater_is_better= True)"
   ],
   "metadata": {
    "collapsed": false,
    "pycharm": {
     "name": "#%%\n"
    }
   }
  },
  {
   "cell_type": "code",
   "execution_count": null,
   "outputs": [],
   "source": [
    "\n",
    "from sklearn.model_selection import GridSearchCV\n",
    "from imblearn.pipeline import Pipeline\n",
    "import time\n",
    "\n",
    "\n",
    "n_frac = 1000\n",
    "# n_frac = len(X)\n",
    "X_train, X_test, y_train, y_test = train_test_split(X[:n_frac], y[:n_frac], test_size=0.2, random_state=42)\n",
    "\n",
    "list_scores = []\n",
    "list_best_estimators = []\n",
    "\n",
    "best_test_score = 0  # will be used to automatically determine the best estimator\n",
    "\n",
    "\n",
    "for (name_model, model) in dct_classifiers.items():\n",
    "    print(name_model, \"...\")\n",
    "    start_time = time.time()\n",
    "\n",
    "\n",
    "    param_grid = {\n",
    "        \"over_sampling__sampling_strategy\" : np.linspace(0.1,0.5,4),\n",
    "        \"under_sampling__sampling_strategy\" : np.linspace(0.1,0.5,4)\n",
    "    }\n",
    "\n",
    "    model_classifier=model[0]\n",
    "    param_grid_model = model[1]\n",
    "\n",
    "    pca = PCA(n_components = 30)  #90% of explained variance\n",
    "\n",
    "    over_sampling = SMOTE()\n",
    "    under_sampling = RandomUnderSampler()\n",
    "\n",
    "    steps = [('over_sampling', over_sampling), ('under_sampling', under_sampling),\n",
    "             (\"pca\", pca),\n",
    "             ('classification', model_classifier)]\n",
    "\n",
    "    if name_model != 'Dummy Classifier':   #Special case for dummy classifier\n",
    "        #dont change param grid because there is no parameter to add for dummy classifier\n",
    "        param_grid.update(param_grid_model) #Concacenate 2 dicts\n",
    "\n",
    "    model_pipeline = Pipeline(steps=steps)\n",
    "\n",
    "    stratified_kfold = StratifiedKFold(n_splits=3,\n",
    "                                       shuffle=True,\n",
    "                                       random_state=11)\n",
    "\n",
    "    grid_search = GridSearchCV(estimator=model_pipeline,\n",
    "                               param_grid=param_grid,\n",
    "                               scoring=custom_score,\n",
    "                               cv=stratified_kfold,\n",
    "                               n_jobs=-1,\n",
    "                               verbose = 2)\n",
    "\n",
    "    grid_search.fit(X_train, y_train)\n",
    "\n",
    "    cv_score = grid_search.best_score_\n",
    "    list_scores.append(cv_score)\n",
    "    list_best_estimators.append(grid_search.best_estimator_)\n",
    "    test_score = grid_search.score(X_test, y_test)\n",
    "    # #\n",
    "    # # list_scores.append(test_score)\n",
    "    # #\n",
    "    # # if test_score >= best_test_score:\n",
    "    # #     best_test_score = test_score\n",
    "    # #     best_classifier = model_classifier\n",
    "    # #     best_params = grid_search.best_params_\n",
    "    #\n",
    "    print(f'Cross-validation score: {cv_score}\\nTest score: {test_score}')\n",
    "    print(\"time taken : %s seconds\" % (time.time() - start_time))\n",
    "    print(\"\\n -------  \\n\")\n",
    "\n"
   ],
   "metadata": {
    "collapsed": false,
    "pycharm": {
     "name": "#%%\n"
    }
   }
  },
  {
   "cell_type": "code",
   "execution_count": null,
   "outputs": [],
   "source": [],
   "metadata": {
    "collapsed": false,
    "pycharm": {
     "name": "#%%\n"
    }
   }
  },
  {
   "cell_type": "code",
   "execution_count": null,
   "outputs": [],
   "source": [],
   "metadata": {
    "collapsed": false,
    "pycharm": {
     "name": "#%%\n"
    }
   }
  },
  {
   "cell_type": "code",
   "execution_count": null,
   "outputs": [],
   "source": [
    "print(list_scores)\n",
    "for element in list_best_estimators:\n",
    "    print(element)"
   ],
   "metadata": {
    "collapsed": false,
    "pycharm": {
     "name": "#%%\n"
    }
   }
  },
  {
   "cell_type": "code",
   "execution_count": null,
   "outputs": [],
   "source": [
    "index_max = list_scores.index(max(list_scores))"
   ],
   "metadata": {
    "collapsed": false,
    "pycharm": {
     "name": "#%%\n"
    }
   }
  },
  {
   "cell_type": "code",
   "execution_count": null,
   "outputs": [],
   "source": [
    "model_final = list_best_estimators[index_max]"
   ],
   "metadata": {
    "collapsed": false,
    "pycharm": {
     "name": "#%%\n"
    }
   }
  },
  {
   "cell_type": "code",
   "execution_count": null,
   "outputs": [],
   "source": [
    "pickle.dump(model_final, open(\"modele_final_11_05___9\", \"wb\"))"
   ],
   "metadata": {
    "collapsed": false,
    "pycharm": {
     "name": "#%%\n"
    }
   }
  },
  {
   "cell_type": "code",
   "execution_count": null,
   "outputs": [],
   "source": [
    "model_final.predict_proba(X_test)"
   ],
   "metadata": {
    "collapsed": false,
    "pycharm": {
     "name": "#%%\n"
    }
   }
  },
  {
   "cell_type": "code",
   "execution_count": null,
   "outputs": [],
   "source": [],
   "metadata": {
    "collapsed": false,
    "pycharm": {
     "name": "#%%\n"
    }
   }
  }
 ]
}