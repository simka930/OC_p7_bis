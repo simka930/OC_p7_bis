{
 "cells": [
  {
   "cell_type": "markdown",
   "source": [
    "# Notebook élaboration du modèle de classification\n",
    "\n",
    "Dans le cadre du projet 7 Open_Classrooms, ce notebook a pour but d'établir le modèle de ML le plus performant possible dans le but de classifier les clients en \"accord de prêt bancaire\" ou \"refus de prêt bancaire\".\n",
    "\n",
    "\n",
    "### Import des fonctions"
   ],
   "metadata": {
    "collapsed": false,
    "pycharm": {
     "name": "#%% md\n"
    }
   }
  },
  {
   "cell_type": "code",
   "execution_count": 23,
   "outputs": [
    {
     "name": "stdout",
     "output_type": "stream",
     "text": [
      "The autoreload extension is already loaded. To reload it, use:\n",
      "  %reload_ext autoreload\n"
     ]
    }
   ],
   "source": [
    "%reset -f\n",
    "%load_ext autoreload\n",
    "%autoreload 2"
   ],
   "metadata": {
    "collapsed": false,
    "pycharm": {
     "name": "#%%\n"
    }
   }
  },
  {
   "cell_type": "code",
   "execution_count": 49,
   "outputs": [],
   "source": [
    "import json\n",
    "\n",
    "import numpy\n",
    "import sklearn.metrics\n",
    "\n",
    "# Load packages\n",
    "import os\n",
    "import numpy as np\n",
    "import pandas as pd\n",
    "import matplotlib.pyplot as plt\n",
    "import seaborn as sns\n",
    "from sklearn.ensemble import GradientBoostingClassifier\n",
    "# Transformations de variables\n",
    "from sklearn.preprocessing import LabelEncoder, OneHotEncoder, RobustScaler\n",
    "from sklearn.impute import SimpleImputer\n",
    "from sklearn.pipeline import Pipeline\n",
    "\n",
    "# Metrics de ML\n",
    "from sklearn.metrics import auc, roc_curve, roc_auc_score, make_scorer\n",
    "from sklearn.metrics import accuracy_score, recall_score\n",
    "from sklearn.metrics import precision_recall_curve, average_precision_score\n",
    "from sklearn.metrics import precision_score, recall_score, f1_score, confusion_matrix\n",
    "\n",
    "from sklearn.neighbors import NearestNeighbors\n",
    "\n",
    "# Packages de cross_validation\n",
    "from sklearn.model_selection import cross_val_score, cross_val_predict\n",
    "from sklearn.model_selection import cross_validate\n",
    "from sklearn.calibration import calibration_curve, CalibratedClassifierCV\n",
    "from sklearn.model_selection import KFold, StratifiedKFold\n",
    "from sklearn.model_selection import train_test_split\n",
    "\n",
    "# Modèles de ML\n",
    "\n",
    "from sklearn.ensemble import RandomForestClassifier\n",
    "from sklearn.linear_model import LogisticRegression\n",
    "from sklearn.neighbors import KNeighborsClassifier\n",
    "from sklearn.neural_network import MLPClassifier\n",
    "from sklearn.dummy import DummyClassifier\n",
    "\n",
    "from sklearn.svm import SVC\n",
    "from sklearn.naive_bayes import GaussianNB\n",
    "from sklearn.linear_model import ElasticNet\n",
    "\n",
    "color = sns.color_palette()\n",
    "\n",
    "from sklearn.metrics import auc\n",
    "from sklearn.metrics import roc_curve\n",
    "\n",
    "from collections import Counter\n",
    "from imblearn.over_sampling import SMOTE\n",
    "from imblearn.under_sampling import RandomUnderSampler\n",
    "from imblearn.pipeline import Pipeline\n",
    "\n",
    "\n",
    "from sklearn.decomposition import PCA\n",
    "from functionsp7 import *\n",
    "import pickle\n"
   ],
   "metadata": {
    "collapsed": false,
    "pycharm": {
     "name": "#%%\n"
    }
   }
  },
  {
   "cell_type": "markdown",
   "source": [
    "### Récupération du dataset prétraité\n",
    "\n",
    "Les dataset suivants ont été obtenus dans le premier notebook de preprocessing et d'analyse exploratoire, qui est un kernel kaggle."
   ],
   "metadata": {
    "collapsed": false,
    "pycharm": {
     "name": "#%% md\n"
    }
   }
  },
  {
   "cell_type": "code",
   "execution_count": 25,
   "outputs": [],
   "source": [
    "data_train = pd.read_csv(\"data_train_preprocessed.csv\")\n",
    "#data train WITHOUT TARGET that has been saved in the following file\n",
    "\n",
    "\n",
    "target = pd.read_csv(\"column_target\")\n",
    "# series of targets assossiated with previous files\n",
    "\n",
    "data_test = pd.read_csv(\"data_test_preprocessed.csv\")\n",
    "# data test. given by kaggle to evaluated the model of the competitors. has no target value. This dataset is the one of which the clients are point of interest in our project, and that will appear in the final dashboard.\n",
    "\n",
    "\n"
   ],
   "metadata": {
    "collapsed": false,
    "pycharm": {
     "name": "#%%\n"
    }
   }
  },
  {
   "cell_type": "code",
   "execution_count": 26,
   "outputs": [
    {
     "name": "stdout",
     "output_type": "stream",
     "text": [
      "(307511, 240) (48744, 240)\n"
     ]
    }
   ],
   "source": [
    "print(data_train.shape, data_test.shape)\n",
    "# check shape of datasets"
   ],
   "metadata": {
    "collapsed": false,
    "pycharm": {
     "name": "#%%\n"
    }
   }
  },
  {
   "cell_type": "code",
   "execution_count": 27,
   "outputs": [],
   "source": [
    "data_train.insert(loc=1, column = 'TARGET', value = target)\n",
    "# insert target column in the Train dataset"
   ],
   "metadata": {
    "collapsed": false,
    "pycharm": {
     "name": "#%%\n"
    }
   }
  },
  {
   "cell_type": "code",
   "execution_count": 28,
   "outputs": [
    {
     "data": {
      "text/plain": "    SK_ID_CURR  TARGET  NAME_CONTRACT_TYPE  FLAG_OWN_CAR  FLAG_OWN_REALTY  \\\n0       100002       1                 0.0           0.0              1.0   \n1       100003       0                 0.0           0.0              0.0   \n2       100004       0                 1.0           1.0              1.0   \n3       100006       0                 0.0           0.0              1.0   \n4       100007       0                 0.0           0.0              1.0   \n5       100008       0                 0.0           0.0              1.0   \n6       100009       0                 0.0           1.0              1.0   \n7       100010       0                 0.0           1.0              1.0   \n8       100011       0                 0.0           0.0              1.0   \n9       100012       0                 1.0           0.0              1.0   \n10      100014       0                 0.0           0.0              1.0   \n11      100015       0                 0.0           0.0              1.0   \n12      100016       0                 0.0           0.0              1.0   \n13      100017       0                 0.0           1.0              0.0   \n14      100018       0                 0.0           0.0              1.0   \n15      100019       0                 0.0           1.0              1.0   \n16      100020       0                 0.0           0.0              0.0   \n17      100021       0                 1.0           0.0              1.0   \n18      100022       0                 1.0           0.0              1.0   \n19      100023       0                 0.0           0.0              1.0   \n\n    CNT_CHILDREN  AMT_INCOME_TOTAL  AMT_CREDIT  AMT_ANNUITY  AMT_GOODS_PRICE  \\\n0       0.000000          0.001512    0.090287     0.090032         0.077441   \n1       0.000000          0.002089    0.311736     0.132924         0.271605   \n2       0.000000          0.000358    0.022472     0.020025         0.023569   \n3       0.000000          0.000935    0.066837     0.109477         0.063973   \n4       0.000000          0.000819    0.116854     0.078975         0.117845   \n5       0.000000          0.000627    0.111235     0.101018         0.103255   \n6       0.052632          0.001243    0.378458     0.154774         0.337823   \n7       0.000000          0.002858    0.370787     0.157792         0.371493   \n8       0.000000          0.000742    0.243348     0.125623         0.217733   \n9       0.000000          0.000935    0.089888     0.072675         0.090909   \n10      0.052632          0.000742    0.151685     0.076290         0.152637   \n11      0.000000          0.000109    0.025809     0.035346         0.023569   \n12      0.000000          0.000358    0.008955     0.016637         0.006734   \n13      0.052632          0.001704    0.218094     0.106669         0.163861   \n14      0.000000          0.001396    0.181943     0.121534         0.159371   \n15      0.000000          0.001127    0.063613     0.072324         0.051627   \n16      0.000000          0.000704    0.116006     0.095683         0.086420   \n17      0.052632          0.000473    0.056180     0.046350         0.057239   \n18      0.000000          0.000742    0.028090     0.024412         0.029181   \n19      0.052632          0.000550    0.124717     0.062197         0.103255   \n\n    ...  WALLSMATERIAL_MODE_Block  WALLSMATERIAL_MODE_Mixed  \\\n0   ...                       0.0                       0.0   \n1   ...                       1.0                       0.0   \n2   ...                       0.0                       0.0   \n3   ...                       0.0                       0.0   \n4   ...                       0.0                       0.0   \n5   ...                       0.0                       0.0   \n6   ...                       0.0                       0.0   \n7   ...                       0.0                       0.0   \n8   ...                       0.0                       0.0   \n9   ...                       0.0                       0.0   \n10  ...                       0.0                       0.0   \n11  ...                       0.0                       0.0   \n12  ...                       0.0                       0.0   \n13  ...                       0.0                       0.0   \n14  ...                       0.0                       0.0   \n15  ...                       0.0                       0.0   \n16  ...                       0.0                       0.0   \n17  ...                       0.0                       0.0   \n18  ...                       0.0                       0.0   \n19  ...                       0.0                       0.0   \n\n    WALLSMATERIAL_MODE_Monolithic  WALLSMATERIAL_MODE_Others  \\\n0                             0.0                        0.0   \n1                             0.0                        0.0   \n2                             0.0                        0.0   \n3                             0.0                        0.0   \n4                             0.0                        0.0   \n5                             0.0                        0.0   \n6                             0.0                        0.0   \n7                             0.0                        0.0   \n8                             0.0                        0.0   \n9                             0.0                        0.0   \n10                            0.0                        0.0   \n11                            0.0                        0.0   \n12                            0.0                        0.0   \n13                            0.0                        0.0   \n14                            0.0                        0.0   \n15                            0.0                        0.0   \n16                            0.0                        0.0   \n17                            0.0                        0.0   \n18                            0.0                        0.0   \n19                            0.0                        0.0   \n\n    WALLSMATERIAL_MODE_Panel  WALLSMATERIAL_MODE_Stone, brick  \\\n0                        0.0                              1.0   \n1                        0.0                              0.0   \n2                        0.0                              0.0   \n3                        0.0                              0.0   \n4                        0.0                              0.0   \n5                        0.0                              0.0   \n6                        0.0                              0.0   \n7                        0.0                              0.0   \n8                        0.0                              0.0   \n9                        0.0                              0.0   \n10                       0.0                              0.0   \n11                       0.0                              0.0   \n12                       0.0                              0.0   \n13                       1.0                              0.0   \n14                       1.0                              0.0   \n15                       0.0                              0.0   \n16                       0.0                              0.0   \n17                       0.0                              0.0   \n18                       0.0                              1.0   \n19                       0.0                              0.0   \n\n    WALLSMATERIAL_MODE_Wooden  EMERGENCYSTATE_MODE_No  \\\n0                         0.0                     1.0   \n1                         0.0                     1.0   \n2                         0.0                     0.0   \n3                         0.0                     0.0   \n4                         0.0                     0.0   \n5                         0.0                     0.0   \n6                         0.0                     0.0   \n7                         0.0                     0.0   \n8                         0.0                     0.0   \n9                         0.0                     0.0   \n10                        0.0                     0.0   \n11                        0.0                     0.0   \n12                        0.0                     1.0   \n13                        0.0                     1.0   \n14                        0.0                     1.0   \n15                        0.0                     0.0   \n16                        0.0                     0.0   \n17                        0.0                     0.0   \n18                        0.0                     1.0   \n19                        0.0                     0.0   \n\n    EMERGENCYSTATE_MODE_Yes  DAYS_EMPLOYED_ANOM  \n0                       0.0                 0.0  \n1                       0.0                 0.0  \n2                       0.0                 0.0  \n3                       0.0                 0.0  \n4                       0.0                 0.0  \n5                       0.0                 0.0  \n6                       0.0                 0.0  \n7                       0.0                 0.0  \n8                       0.0                 1.0  \n9                       0.0                 0.0  \n10                      0.0                 0.0  \n11                      0.0                 1.0  \n12                      0.0                 0.0  \n13                      0.0                 0.0  \n14                      0.0                 0.0  \n15                      0.0                 0.0  \n16                      0.0                 0.0  \n17                      0.0                 0.0  \n18                      0.0                 0.0  \n19                      0.0                 0.0  \n\n[20 rows x 241 columns]",
      "text/html": "<div>\n<style scoped>\n    .dataframe tbody tr th:only-of-type {\n        vertical-align: middle;\n    }\n\n    .dataframe tbody tr th {\n        vertical-align: top;\n    }\n\n    .dataframe thead th {\n        text-align: right;\n    }\n</style>\n<table border=\"1\" class=\"dataframe\">\n  <thead>\n    <tr style=\"text-align: right;\">\n      <th></th>\n      <th>SK_ID_CURR</th>\n      <th>TARGET</th>\n      <th>NAME_CONTRACT_TYPE</th>\n      <th>FLAG_OWN_CAR</th>\n      <th>FLAG_OWN_REALTY</th>\n      <th>CNT_CHILDREN</th>\n      <th>AMT_INCOME_TOTAL</th>\n      <th>AMT_CREDIT</th>\n      <th>AMT_ANNUITY</th>\n      <th>AMT_GOODS_PRICE</th>\n      <th>...</th>\n      <th>WALLSMATERIAL_MODE_Block</th>\n      <th>WALLSMATERIAL_MODE_Mixed</th>\n      <th>WALLSMATERIAL_MODE_Monolithic</th>\n      <th>WALLSMATERIAL_MODE_Others</th>\n      <th>WALLSMATERIAL_MODE_Panel</th>\n      <th>WALLSMATERIAL_MODE_Stone, brick</th>\n      <th>WALLSMATERIAL_MODE_Wooden</th>\n      <th>EMERGENCYSTATE_MODE_No</th>\n      <th>EMERGENCYSTATE_MODE_Yes</th>\n      <th>DAYS_EMPLOYED_ANOM</th>\n    </tr>\n  </thead>\n  <tbody>\n    <tr>\n      <th>0</th>\n      <td>100002</td>\n      <td>1</td>\n      <td>0.0</td>\n      <td>0.0</td>\n      <td>1.0</td>\n      <td>0.000000</td>\n      <td>0.001512</td>\n      <td>0.090287</td>\n      <td>0.090032</td>\n      <td>0.077441</td>\n      <td>...</td>\n      <td>0.0</td>\n      <td>0.0</td>\n      <td>0.0</td>\n      <td>0.0</td>\n      <td>0.0</td>\n      <td>1.0</td>\n      <td>0.0</td>\n      <td>1.0</td>\n      <td>0.0</td>\n      <td>0.0</td>\n    </tr>\n    <tr>\n      <th>1</th>\n      <td>100003</td>\n      <td>0</td>\n      <td>0.0</td>\n      <td>0.0</td>\n      <td>0.0</td>\n      <td>0.000000</td>\n      <td>0.002089</td>\n      <td>0.311736</td>\n      <td>0.132924</td>\n      <td>0.271605</td>\n      <td>...</td>\n      <td>1.0</td>\n      <td>0.0</td>\n      <td>0.0</td>\n      <td>0.0</td>\n      <td>0.0</td>\n      <td>0.0</td>\n      <td>0.0</td>\n      <td>1.0</td>\n      <td>0.0</td>\n      <td>0.0</td>\n    </tr>\n    <tr>\n      <th>2</th>\n      <td>100004</td>\n      <td>0</td>\n      <td>1.0</td>\n      <td>1.0</td>\n      <td>1.0</td>\n      <td>0.000000</td>\n      <td>0.000358</td>\n      <td>0.022472</td>\n      <td>0.020025</td>\n      <td>0.023569</td>\n      <td>...</td>\n      <td>0.0</td>\n      <td>0.0</td>\n      <td>0.0</td>\n      <td>0.0</td>\n      <td>0.0</td>\n      <td>0.0</td>\n      <td>0.0</td>\n      <td>0.0</td>\n      <td>0.0</td>\n      <td>0.0</td>\n    </tr>\n    <tr>\n      <th>3</th>\n      <td>100006</td>\n      <td>0</td>\n      <td>0.0</td>\n      <td>0.0</td>\n      <td>1.0</td>\n      <td>0.000000</td>\n      <td>0.000935</td>\n      <td>0.066837</td>\n      <td>0.109477</td>\n      <td>0.063973</td>\n      <td>...</td>\n      <td>0.0</td>\n      <td>0.0</td>\n      <td>0.0</td>\n      <td>0.0</td>\n      <td>0.0</td>\n      <td>0.0</td>\n      <td>0.0</td>\n      <td>0.0</td>\n      <td>0.0</td>\n      <td>0.0</td>\n    </tr>\n    <tr>\n      <th>4</th>\n      <td>100007</td>\n      <td>0</td>\n      <td>0.0</td>\n      <td>0.0</td>\n      <td>1.0</td>\n      <td>0.000000</td>\n      <td>0.000819</td>\n      <td>0.116854</td>\n      <td>0.078975</td>\n      <td>0.117845</td>\n      <td>...</td>\n      <td>0.0</td>\n      <td>0.0</td>\n      <td>0.0</td>\n      <td>0.0</td>\n      <td>0.0</td>\n      <td>0.0</td>\n      <td>0.0</td>\n      <td>0.0</td>\n      <td>0.0</td>\n      <td>0.0</td>\n    </tr>\n    <tr>\n      <th>5</th>\n      <td>100008</td>\n      <td>0</td>\n      <td>0.0</td>\n      <td>0.0</td>\n      <td>1.0</td>\n      <td>0.000000</td>\n      <td>0.000627</td>\n      <td>0.111235</td>\n      <td>0.101018</td>\n      <td>0.103255</td>\n      <td>...</td>\n      <td>0.0</td>\n      <td>0.0</td>\n      <td>0.0</td>\n      <td>0.0</td>\n      <td>0.0</td>\n      <td>0.0</td>\n      <td>0.0</td>\n      <td>0.0</td>\n      <td>0.0</td>\n      <td>0.0</td>\n    </tr>\n    <tr>\n      <th>6</th>\n      <td>100009</td>\n      <td>0</td>\n      <td>0.0</td>\n      <td>1.0</td>\n      <td>1.0</td>\n      <td>0.052632</td>\n      <td>0.001243</td>\n      <td>0.378458</td>\n      <td>0.154774</td>\n      <td>0.337823</td>\n      <td>...</td>\n      <td>0.0</td>\n      <td>0.0</td>\n      <td>0.0</td>\n      <td>0.0</td>\n      <td>0.0</td>\n      <td>0.0</td>\n      <td>0.0</td>\n      <td>0.0</td>\n      <td>0.0</td>\n      <td>0.0</td>\n    </tr>\n    <tr>\n      <th>7</th>\n      <td>100010</td>\n      <td>0</td>\n      <td>0.0</td>\n      <td>1.0</td>\n      <td>1.0</td>\n      <td>0.000000</td>\n      <td>0.002858</td>\n      <td>0.370787</td>\n      <td>0.157792</td>\n      <td>0.371493</td>\n      <td>...</td>\n      <td>0.0</td>\n      <td>0.0</td>\n      <td>0.0</td>\n      <td>0.0</td>\n      <td>0.0</td>\n      <td>0.0</td>\n      <td>0.0</td>\n      <td>0.0</td>\n      <td>0.0</td>\n      <td>0.0</td>\n    </tr>\n    <tr>\n      <th>8</th>\n      <td>100011</td>\n      <td>0</td>\n      <td>0.0</td>\n      <td>0.0</td>\n      <td>1.0</td>\n      <td>0.000000</td>\n      <td>0.000742</td>\n      <td>0.243348</td>\n      <td>0.125623</td>\n      <td>0.217733</td>\n      <td>...</td>\n      <td>0.0</td>\n      <td>0.0</td>\n      <td>0.0</td>\n      <td>0.0</td>\n      <td>0.0</td>\n      <td>0.0</td>\n      <td>0.0</td>\n      <td>0.0</td>\n      <td>0.0</td>\n      <td>1.0</td>\n    </tr>\n    <tr>\n      <th>9</th>\n      <td>100012</td>\n      <td>0</td>\n      <td>1.0</td>\n      <td>0.0</td>\n      <td>1.0</td>\n      <td>0.000000</td>\n      <td>0.000935</td>\n      <td>0.089888</td>\n      <td>0.072675</td>\n      <td>0.090909</td>\n      <td>...</td>\n      <td>0.0</td>\n      <td>0.0</td>\n      <td>0.0</td>\n      <td>0.0</td>\n      <td>0.0</td>\n      <td>0.0</td>\n      <td>0.0</td>\n      <td>0.0</td>\n      <td>0.0</td>\n      <td>0.0</td>\n    </tr>\n    <tr>\n      <th>10</th>\n      <td>100014</td>\n      <td>0</td>\n      <td>0.0</td>\n      <td>0.0</td>\n      <td>1.0</td>\n      <td>0.052632</td>\n      <td>0.000742</td>\n      <td>0.151685</td>\n      <td>0.076290</td>\n      <td>0.152637</td>\n      <td>...</td>\n      <td>0.0</td>\n      <td>0.0</td>\n      <td>0.0</td>\n      <td>0.0</td>\n      <td>0.0</td>\n      <td>0.0</td>\n      <td>0.0</td>\n      <td>0.0</td>\n      <td>0.0</td>\n      <td>0.0</td>\n    </tr>\n    <tr>\n      <th>11</th>\n      <td>100015</td>\n      <td>0</td>\n      <td>0.0</td>\n      <td>0.0</td>\n      <td>1.0</td>\n      <td>0.000000</td>\n      <td>0.000109</td>\n      <td>0.025809</td>\n      <td>0.035346</td>\n      <td>0.023569</td>\n      <td>...</td>\n      <td>0.0</td>\n      <td>0.0</td>\n      <td>0.0</td>\n      <td>0.0</td>\n      <td>0.0</td>\n      <td>0.0</td>\n      <td>0.0</td>\n      <td>0.0</td>\n      <td>0.0</td>\n      <td>1.0</td>\n    </tr>\n    <tr>\n      <th>12</th>\n      <td>100016</td>\n      <td>0</td>\n      <td>0.0</td>\n      <td>0.0</td>\n      <td>1.0</td>\n      <td>0.000000</td>\n      <td>0.000358</td>\n      <td>0.008955</td>\n      <td>0.016637</td>\n      <td>0.006734</td>\n      <td>...</td>\n      <td>0.0</td>\n      <td>0.0</td>\n      <td>0.0</td>\n      <td>0.0</td>\n      <td>0.0</td>\n      <td>0.0</td>\n      <td>0.0</td>\n      <td>1.0</td>\n      <td>0.0</td>\n      <td>0.0</td>\n    </tr>\n    <tr>\n      <th>13</th>\n      <td>100017</td>\n      <td>0</td>\n      <td>0.0</td>\n      <td>1.0</td>\n      <td>0.0</td>\n      <td>0.052632</td>\n      <td>0.001704</td>\n      <td>0.218094</td>\n      <td>0.106669</td>\n      <td>0.163861</td>\n      <td>...</td>\n      <td>0.0</td>\n      <td>0.0</td>\n      <td>0.0</td>\n      <td>0.0</td>\n      <td>1.0</td>\n      <td>0.0</td>\n      <td>0.0</td>\n      <td>1.0</td>\n      <td>0.0</td>\n      <td>0.0</td>\n    </tr>\n    <tr>\n      <th>14</th>\n      <td>100018</td>\n      <td>0</td>\n      <td>0.0</td>\n      <td>0.0</td>\n      <td>1.0</td>\n      <td>0.000000</td>\n      <td>0.001396</td>\n      <td>0.181943</td>\n      <td>0.121534</td>\n      <td>0.159371</td>\n      <td>...</td>\n      <td>0.0</td>\n      <td>0.0</td>\n      <td>0.0</td>\n      <td>0.0</td>\n      <td>1.0</td>\n      <td>0.0</td>\n      <td>0.0</td>\n      <td>1.0</td>\n      <td>0.0</td>\n      <td>0.0</td>\n    </tr>\n    <tr>\n      <th>15</th>\n      <td>100019</td>\n      <td>0</td>\n      <td>0.0</td>\n      <td>1.0</td>\n      <td>1.0</td>\n      <td>0.000000</td>\n      <td>0.001127</td>\n      <td>0.063613</td>\n      <td>0.072324</td>\n      <td>0.051627</td>\n      <td>...</td>\n      <td>0.0</td>\n      <td>0.0</td>\n      <td>0.0</td>\n      <td>0.0</td>\n      <td>0.0</td>\n      <td>0.0</td>\n      <td>0.0</td>\n      <td>0.0</td>\n      <td>0.0</td>\n      <td>0.0</td>\n    </tr>\n    <tr>\n      <th>16</th>\n      <td>100020</td>\n      <td>0</td>\n      <td>0.0</td>\n      <td>0.0</td>\n      <td>0.0</td>\n      <td>0.000000</td>\n      <td>0.000704</td>\n      <td>0.116006</td>\n      <td>0.095683</td>\n      <td>0.086420</td>\n      <td>...</td>\n      <td>0.0</td>\n      <td>0.0</td>\n      <td>0.0</td>\n      <td>0.0</td>\n      <td>0.0</td>\n      <td>0.0</td>\n      <td>0.0</td>\n      <td>0.0</td>\n      <td>0.0</td>\n      <td>0.0</td>\n    </tr>\n    <tr>\n      <th>17</th>\n      <td>100021</td>\n      <td>0</td>\n      <td>1.0</td>\n      <td>0.0</td>\n      <td>1.0</td>\n      <td>0.052632</td>\n      <td>0.000473</td>\n      <td>0.056180</td>\n      <td>0.046350</td>\n      <td>0.057239</td>\n      <td>...</td>\n      <td>0.0</td>\n      <td>0.0</td>\n      <td>0.0</td>\n      <td>0.0</td>\n      <td>0.0</td>\n      <td>0.0</td>\n      <td>0.0</td>\n      <td>0.0</td>\n      <td>0.0</td>\n      <td>0.0</td>\n    </tr>\n    <tr>\n      <th>18</th>\n      <td>100022</td>\n      <td>0</td>\n      <td>1.0</td>\n      <td>0.0</td>\n      <td>1.0</td>\n      <td>0.000000</td>\n      <td>0.000742</td>\n      <td>0.028090</td>\n      <td>0.024412</td>\n      <td>0.029181</td>\n      <td>...</td>\n      <td>0.0</td>\n      <td>0.0</td>\n      <td>0.0</td>\n      <td>0.0</td>\n      <td>0.0</td>\n      <td>1.0</td>\n      <td>0.0</td>\n      <td>1.0</td>\n      <td>0.0</td>\n      <td>0.0</td>\n    </tr>\n    <tr>\n      <th>19</th>\n      <td>100023</td>\n      <td>0</td>\n      <td>0.0</td>\n      <td>0.0</td>\n      <td>1.0</td>\n      <td>0.052632</td>\n      <td>0.000550</td>\n      <td>0.124717</td>\n      <td>0.062197</td>\n      <td>0.103255</td>\n      <td>...</td>\n      <td>0.0</td>\n      <td>0.0</td>\n      <td>0.0</td>\n      <td>0.0</td>\n      <td>0.0</td>\n      <td>0.0</td>\n      <td>0.0</td>\n      <td>0.0</td>\n      <td>0.0</td>\n      <td>0.0</td>\n    </tr>\n  </tbody>\n</table>\n<p>20 rows × 241 columns</p>\n</div>"
     },
     "execution_count": 28,
     "metadata": {},
     "output_type": "execute_result"
    }
   ],
   "source": [
    "data = data_train\n",
    "data.head(20)\n",
    "# check the dataset"
   ],
   "metadata": {
    "collapsed": false,
    "pycharm": {
     "name": "#%%\n"
    }
   }
  },
  {
   "cell_type": "code",
   "execution_count": 29,
   "outputs": [],
   "source": [
    "data = data.drop([\"SK_ID_CURR\"], axis=1)\n",
    "# Remove the column ID that is not a feature for the project. this is just what identifies the client."
   ],
   "metadata": {
    "collapsed": false,
    "pycharm": {
     "name": "#%%\n"
    }
   }
  },
  {
   "cell_type": "markdown",
   "source": [
    "### Equilibrage des données\n",
    "\n",
    "Voyons si le jeu de données est équilibré selon la variable binaire TARGET\n",
    "Rappel :\n",
    "0 = remboursement\n",
    "1 = défaut de paiement"
   ],
   "metadata": {
    "collapsed": false,
    "pycharm": {
     "name": "#%% md\n"
    }
   }
  },
  {
   "cell_type": "code",
   "execution_count": 30,
   "outputs": [
    {
     "data": {
      "text/plain": "<Figure size 432x288 with 1 Axes>",
      "image/png": "[encoded data removed]"
     },
     "metadata": {},
     "output_type": "display_data"
    }
   ],
   "source": [
    "sns.countplot(x='TARGET', data=data)\n",
    "plt.show()"
   ],
   "metadata": {
    "collapsed": false,
    "pycharm": {
     "name": "#%%\n"
    }
   }
  },
  {
   "cell_type": "code",
   "execution_count": 31,
   "outputs": [
    {
     "data": {
      "text/plain": "0    91.927118\n1     8.072882\nName: TARGET, dtype: float64"
     },
     "execution_count": 31,
     "metadata": {},
     "output_type": "execute_result"
    }
   ],
   "source": [
    "data[\"TARGET\"].value_counts()/len(data)*100"
   ],
   "metadata": {
    "collapsed": false,
    "pycharm": {
     "name": "#%%\n"
    }
   }
  },
  {
   "cell_type": "markdown",
   "source": [
    "92% des échantillions du train set sont dans la catégorie 0.\n",
    "Le dataset est donc déséquilibré.\n",
    "Il convient de le rééquilibrer avant l'entrainement pour améliorer les performances des modèles de ML\n",
    "\n",
    "Cela sera fait grâce aux transformeurs SMOTE (qui ajoute des échantillons à la catégorie minoritaire) et RandomUnderSampler (qui retire des échantillons à la catégorie majoritaire)\n",
    "\n",
    "Cette étape se fera dans le grid search CV sur la pipeline complète. En effet, les paramètres de SMOTE et RandomUnderSampler seront aussi soumis à une recherche pour trouver leur valeurs optimales."
   ],
   "metadata": {
    "collapsed": false,
    "pycharm": {
     "name": "#%% md\n"
    }
   }
  },
  {
   "cell_type": "code",
   "execution_count": 32,
   "outputs": [],
   "source": [
    "X = data.drop(labels=[\"TARGET\"], axis=1, inplace=False)\n",
    "y = data[\"TARGET\"]\n",
    "# Implementation of X and y for machine learning"
   ],
   "metadata": {
    "collapsed": false,
    "pycharm": {
     "name": "#%%\n"
    }
   }
  },
  {
   "cell_type": "code",
   "execution_count": 33,
   "outputs": [
    {
     "data": {
      "text/plain": "NAME_CONTRACT_TYPE                 0.293509\nFLAG_OWN_CAR                       0.473746\nFLAG_OWN_REALTY                    0.460968\nCNT_CHILDREN                       0.038006\nAMT_INCOME_TOTAL                   0.002027\n                                     ...   \nWALLSMATERIAL_MODE_Stone, brick    0.407858\nWALLSMATERIAL_MODE_Wooden          0.130892\nEMERGENCYSTATE_MODE_No             0.499660\nEMERGENCYSTATE_MODE_Yes            0.086679\nDAYS_EMPLOYED_ANOM                 0.384248\nLength: 239, dtype: float64"
     },
     "execution_count": 33,
     "metadata": {},
     "output_type": "execute_result"
    }
   ],
   "source": [
    "X.std()\n",
    "# Check if there is no absurd values on std of variables"
   ],
   "metadata": {
    "collapsed": false,
    "pycharm": {
     "name": "#%%\n"
    }
   }
  },
  {
   "cell_type": "markdown",
   "source": [
    "### PCA\n",
    "\n",
    "Le dataset contenant 240 variables, il est préférable de le réduire par PCA afin de rendre plus rapide les entrainements de modèles."
   ],
   "metadata": {
    "collapsed": false,
    "pycharm": {
     "name": "#%% md\n"
    }
   }
  },
  {
   "cell_type": "code",
   "execution_count": 36,
   "outputs": [
    {
     "data": {
      "text/plain": "<Figure size 432x288 with 1 Axes>",
      "image/png": "[encoded data removed]"
     },
     "metadata": {},
     "output_type": "display_data"
    }
   ],
   "source": [
    "pca = PCA()\n",
    "\n",
    "pca.fit(X)\n",
    "\n",
    "plt.figure()\n",
    "plt.title('Somme cumulée de variance des composantes de l\\'ACP')\n",
    "plt.xlabel('Nombre de composantes de l\\'ACP')\n",
    "plt.ylabel('Variance cumulée')\n",
    "plt.plot(list(range(pca.explained_variance_ratio_.shape[0])),\n",
    "         np.cumsum(pca.explained_variance_ratio_))\n",
    "plt.show()"
   ],
   "metadata": {
    "collapsed": false,
    "pycharm": {
     "name": "#%%\n"
    }
   }
  },
  {
   "cell_type": "markdown",
   "source": [
    "Afin de conserver 80% de la variance, nous garderons 30 variables sur les 240 variables.\n",
    "\n",
    "L'étape de transformation sera effectuée plus bas dans la pipeline, après l'équilibrage du dataset et avant le modèle de classification"
   ],
   "metadata": {
    "collapsed": false,
    "pycharm": {
     "name": "#%% md\n"
    }
   }
  },
  {
   "cell_type": "markdown",
   "source": [
    "## Entrainement des modèles"
   ],
   "metadata": {
    "collapsed": false,
    "pycharm": {
     "name": "#%% md\n"
    }
   }
  },
  {
   "cell_type": "markdown",
   "source": [
    "### Différents modèles à tester\n",
    "\n",
    "Dans cette partie je précise les différents modèles qui seront testés, ainsi que les paramètres à optimiser associés."
   ],
   "metadata": {
    "collapsed": false,
    "pycharm": {
     "name": "#%% md\n"
    }
   }
  },
  {
   "cell_type": "code",
   "execution_count": 14,
   "outputs": [],
   "source": [
    "# parameters grid for logistic regression\n",
    "params_logistic_reg = {\"classification__C\" : np.logspace(-2,2,5)}\n",
    "\n",
    "# parameters grid for random forest classifier\n",
    "params_random_forest = {\"classification__n_estimators\" : [10,50,100,200]}\n",
    "\n",
    "# parameters grid for XGBoost\n",
    "params_xgboos = {\"classification__n_estimators\" : [10,50,100,200]}\n",
    "\n",
    "\n",
    "# dict of classifiers\n",
    "dct_classifiers = {'Dummy Classifier': [DummyClassifier(), None],\n",
    "                   'Logistic Regression': [LogisticRegression(),params_logistic_reg],\n",
    "                   'Random Forest': [RandomForestClassifier(n_estimators=100),params_random_forest],\n",
    "                   'Xgboost': [GradientBoostingClassifier(),params_xgboos]\n",
    "                   }\n",
    "\n",
    "\n",
    "\n"
   ],
   "metadata": {
    "collapsed": false,
    "pycharm": {
     "name": "#%%\n"
    }
   }
  },
  {
   "cell_type": "markdown",
   "source": [
    "### Définition du score du grid search\n",
    "\n",
    "Pour tester les performances de nos modèles, un score personnalisé a été implémenté dans le fichier functionsp7.py (voir note méthodologique)\n",
    "\n",
    "il faut transofmer cet objet \"fonction\" en objet \"score\" pour l'utiliser dans un grid search, grâce à la fonction \"make_scorer\" de sklearn."
   ],
   "metadata": {
    "collapsed": false,
    "pycharm": {
     "name": "#%% md\n"
    }
   }
  },
  {
   "cell_type": "code",
   "execution_count": 40,
   "outputs": [],
   "source": [
    "#Implement the scorer\n",
    "\n",
    "from sklearn.metrics import make_scorer\n",
    "from functionsp7 import custom_score_fct\n",
    "\n",
    "custom_score = make_scorer(custom_score_fct, greater_is_better= True)\n",
    "# custom_score_fct is a custom function"
   ],
   "metadata": {
    "collapsed": false,
    "pycharm": {
     "name": "#%%\n"
    }
   }
  },
  {
   "cell_type": "code",
   "execution_count": 41,
   "outputs": [],
   "source": [
    "from sklearn.model_selection import GridSearchCV\n",
    "from imblearn.pipeline import Pipeline\n",
    "import time"
   ],
   "metadata": {
    "collapsed": false,
    "pycharm": {
     "name": "#%%\n"
    }
   }
  },
  {
   "cell_type": "code",
   "execution_count": 42,
   "outputs": [],
   "source": [
    "n_frac = len(X) # in case i want to decrease samples to increase speed for tests\n",
    "X_train, X_test, y_train, y_test = train_test_split(X[:n_frac], y[:n_frac], test_size=0.2, random_state=42)\n",
    "\n",
    "# list of scores for each classification model\n",
    "list_scores = []\n",
    "\n",
    "# list of best estimator of grid search for each model\n",
    "list_best_estimators = []\n"
   ],
   "metadata": {
    "collapsed": false,
    "pycharm": {
     "name": "#%%\n"
    }
   }
  },
  {
   "cell_type": "markdown",
   "source": [
    "### Entraînement du Dummy Classifier"
   ],
   "metadata": {
    "collapsed": false,
    "pycharm": {
     "name": "#%% md\n"
    }
   }
  },
  {
   "cell_type": "code",
   "execution_count": 19,
   "outputs": [
    {
     "name": "stdout",
     "output_type": "stream",
     "text": [
      "Fitting 3 folds for each of 16 candidates, totalling 48 fits\n",
      "[CV] END over_sampling__sampling_strategy=0.1, under_sampling__sampling_strategy=0.1; total time=  16.8s\n",
      "[CV] END over_sampling__sampling_strategy=0.1, under_sampling__sampling_strategy=0.1; total time=  17.7s\n",
      "[CV] END over_sampling__sampling_strategy=0.1, under_sampling__sampling_strategy=0.1; total time=  17.7s\n",
      "[CV] END over_sampling__sampling_strategy=0.1, under_sampling__sampling_strategy=0.23333333333333334; total time=  12.1s\n",
      "[CV] END over_sampling__sampling_strategy=0.1, under_sampling__sampling_strategy=0.23333333333333334; total time=  10.9s\n",
      "[CV] END over_sampling__sampling_strategy=0.1, under_sampling__sampling_strategy=0.23333333333333334; total time=  10.4s\n",
      "[CV] END over_sampling__sampling_strategy=0.1, under_sampling__sampling_strategy=0.3666666666666667; total time=   9.5s\n",
      "[CV] END over_sampling__sampling_strategy=0.1, under_sampling__sampling_strategy=0.3666666666666667; total time=   9.4s\n",
      "[CV] END over_sampling__sampling_strategy=0.1, under_sampling__sampling_strategy=0.3666666666666667; total time=   9.4s\n",
      "[CV] END over_sampling__sampling_strategy=0.1, under_sampling__sampling_strategy=0.5; total time=   9.2s\n",
      "[CV] END over_sampling__sampling_strategy=0.1, under_sampling__sampling_strategy=0.5; total time=   9.4s\n",
      "[CV] END over_sampling__sampling_strategy=0.1, under_sampling__sampling_strategy=0.5; total time=   9.1s\n",
      "[CV] END over_sampling__sampling_strategy=0.23333333333333334, under_sampling__sampling_strategy=0.1; total time=   7.8s\n",
      "[CV] END over_sampling__sampling_strategy=0.23333333333333334, under_sampling__sampling_strategy=0.1; total time=   7.9s\n",
      "[CV] END over_sampling__sampling_strategy=0.23333333333333334, under_sampling__sampling_strategy=0.1; total time=   7.4s\n",
      "[CV] END over_sampling__sampling_strategy=0.23333333333333334, under_sampling__sampling_strategy=0.23333333333333334; total time=  14.3s\n",
      "[CV] END over_sampling__sampling_strategy=0.23333333333333334, under_sampling__sampling_strategy=0.23333333333333334; total time=  13.2s\n",
      "[CV] END over_sampling__sampling_strategy=0.23333333333333334, under_sampling__sampling_strategy=0.23333333333333334; total time=  13.6s\n",
      "[CV] END over_sampling__sampling_strategy=0.23333333333333334, under_sampling__sampling_strategy=0.3666666666666667; total time=  11.9s\n",
      "[CV] END over_sampling__sampling_strategy=0.23333333333333334, under_sampling__sampling_strategy=0.3666666666666667; total time=  12.1s\n",
      "[CV] END over_sampling__sampling_strategy=0.23333333333333334, under_sampling__sampling_strategy=0.3666666666666667; total time=  11.6s\n",
      "[CV] END over_sampling__sampling_strategy=0.23333333333333334, under_sampling__sampling_strategy=0.5; total time=  11.0s\n",
      "[CV] END over_sampling__sampling_strategy=0.23333333333333334, under_sampling__sampling_strategy=0.5; total time=  10.9s\n",
      "[CV] END over_sampling__sampling_strategy=0.23333333333333334, under_sampling__sampling_strategy=0.5; total time=  11.1s\n",
      "[CV] END over_sampling__sampling_strategy=0.3666666666666667, under_sampling__sampling_strategy=0.1; total time=   8.6s\n",
      "[CV] END over_sampling__sampling_strategy=0.3666666666666667, under_sampling__sampling_strategy=0.1; total time=   8.2s\n",
      "[CV] END over_sampling__sampling_strategy=0.3666666666666667, under_sampling__sampling_strategy=0.1; total time=   8.2s\n",
      "[CV] END over_sampling__sampling_strategy=0.3666666666666667, under_sampling__sampling_strategy=0.23333333333333334; total time=   7.9s\n",
      "[CV] END over_sampling__sampling_strategy=0.3666666666666667, under_sampling__sampling_strategy=0.23333333333333334; total time=   8.8s\n",
      "[CV] END over_sampling__sampling_strategy=0.3666666666666667, under_sampling__sampling_strategy=0.23333333333333334; total time=  10.5s\n",
      "[CV] END over_sampling__sampling_strategy=0.3666666666666667, under_sampling__sampling_strategy=0.3666666666666667; total time=  15.3s\n",
      "[CV] END over_sampling__sampling_strategy=0.3666666666666667, under_sampling__sampling_strategy=0.3666666666666667; total time=  13.7s\n",
      "[CV] END over_sampling__sampling_strategy=0.3666666666666667, under_sampling__sampling_strategy=0.3666666666666667; total time=  14.5s\n",
      "[CV] END over_sampling__sampling_strategy=0.3666666666666667, under_sampling__sampling_strategy=0.5; total time=  13.7s\n",
      "[CV] END over_sampling__sampling_strategy=0.3666666666666667, under_sampling__sampling_strategy=0.5; total time=  13.2s\n",
      "[CV] END over_sampling__sampling_strategy=0.3666666666666667, under_sampling__sampling_strategy=0.5; total time=  13.0s\n",
      "[CV] END over_sampling__sampling_strategy=0.5, under_sampling__sampling_strategy=0.1; total time=   8.4s\n",
      "[CV] END over_sampling__sampling_strategy=0.5, under_sampling__sampling_strategy=0.1; total time=   8.6s\n",
      "[CV] END over_sampling__sampling_strategy=0.5, under_sampling__sampling_strategy=0.1; total time=   8.2s\n",
      "[CV] END over_sampling__sampling_strategy=0.5, under_sampling__sampling_strategy=0.23333333333333334; total time=   8.6s\n",
      "[CV] END over_sampling__sampling_strategy=0.5, under_sampling__sampling_strategy=0.23333333333333334; total time=   8.3s\n",
      "[CV] END over_sampling__sampling_strategy=0.5, under_sampling__sampling_strategy=0.23333333333333334; total time=   8.1s\n",
      "[CV] END over_sampling__sampling_strategy=0.5, under_sampling__sampling_strategy=0.3666666666666667; total time=   8.5s\n",
      "[CV] END over_sampling__sampling_strategy=0.5, under_sampling__sampling_strategy=0.3666666666666667; total time=  10.4s\n",
      "[CV] END over_sampling__sampling_strategy=0.5, under_sampling__sampling_strategy=0.3666666666666667; total time=  12.3s\n",
      "[CV] END over_sampling__sampling_strategy=0.5, under_sampling__sampling_strategy=0.5; total time=  15.4s\n",
      "[CV] END over_sampling__sampling_strategy=0.5, under_sampling__sampling_strategy=0.5; total time=  14.3s\n",
      "[CV] END over_sampling__sampling_strategy=0.5, under_sampling__sampling_strategy=0.5; total time=  15.5s\n"
     ]
    },
    {
     "name": "stderr",
     "output_type": "stream",
     "text": [
      "C:\\Users\\simon\\anaconda3\\lib\\site-packages\\sklearn\\model_selection\\_validation.py:372: FitFailedWarning: \n",
      "18 fits failed out of a total of 48.\n",
      "The score on these train-test partitions for these parameters will be set to nan.\n",
      "If these failures are not expected, you can try to debug them by setting error_score='raise'.\n",
      "\n",
      "Below are more details about the failures:\n",
      "--------------------------------------------------------------------------------\n",
      "18 fits failed with the following error:\n",
      "Traceback (most recent call last):\n",
      "  File \"C:\\Users\\simon\\anaconda3\\lib\\site-packages\\sklearn\\model_selection\\_validation.py\", line 680, in _fit_and_score\n",
      "    estimator.fit(X_train, y_train, **fit_params)\n",
      "  File \"C:\\Users\\simon\\anaconda3\\lib\\site-packages\\imblearn\\pipeline.py\", line 268, in fit\n",
      "    Xt, yt = self._fit(X, y, **fit_params_steps)\n",
      "  File \"C:\\Users\\simon\\anaconda3\\lib\\site-packages\\imblearn\\pipeline.py\", line 226, in _fit\n",
      "    X, y, fitted_transformer = fit_resample_one_cached(\n",
      "  File \"C:\\Users\\simon\\anaconda3\\lib\\site-packages\\joblib\\memory.py\", line 349, in __call__\n",
      "    return self.func(*args, **kwargs)\n",
      "  File \"C:\\Users\\simon\\anaconda3\\lib\\site-packages\\imblearn\\pipeline.py\", line 394, in _fit_resample_one\n",
      "    X_res, y_res = sampler.fit_resample(X, y, **fit_params)\n",
      "  File \"C:\\Users\\simon\\anaconda3\\lib\\site-packages\\imblearn\\base.py\", line 79, in fit_resample\n",
      "    self.sampling_strategy_ = check_sampling_strategy(\n",
      "  File \"C:\\Users\\simon\\anaconda3\\lib\\site-packages\\imblearn\\utils\\_validation.py\", line 534, in check_sampling_strategy\n",
      "    _sampling_strategy_float(sampling_strategy, y, sampling_type).items()\n",
      "  File \"C:\\Users\\simon\\anaconda3\\lib\\site-packages\\imblearn\\utils\\_validation.py\", line 393, in _sampling_strategy_float\n",
      "    raise ValueError(\n",
      "ValueError: The specified ratio required to generate new sample in the majority class while trying to remove samples. Please increase the ratio.\n",
      "\n",
      "  warnings.warn(some_fits_failed_message, FitFailedWarning)\n",
      "C:\\Users\\simon\\anaconda3\\lib\\site-packages\\sklearn\\model_selection\\_search.py:969: UserWarning: One or more of the test scores are non-finite: [ 0.  0.  0.  0. nan  0.  0.  0. nan nan  0.  0. nan nan nan  0.]\n",
      "  warnings.warn(\n"
     ]
    },
    {
     "name": "stdout",
     "output_type": "stream",
     "text": [
      "Cross-validation score: 0.0\n",
      "Test score: 0.0\n",
      "time taken : 563.690943479538 seconds\n",
      "\n",
      " -------  \n",
      "\n"
     ]
    }
   ],
   "source": [
    "model_dummy = DummyClassifier()\n",
    "\n",
    "start_time = time.time()\n",
    "\n",
    "param_grid = {\n",
    "    \"over_sampling__sampling_strategy\" : np.linspace(0.1,0.5,4),\n",
    "    \"under_sampling__sampling_strategy\" : np.linspace(0.1,0.5,4)\n",
    "}\n",
    "\n",
    "pca = PCA(n_components = 30)  #90% of explained variance\n",
    "\n",
    "over_sampling = SMOTE()\n",
    "under_sampling = RandomUnderSampler()\n",
    "\n",
    "steps = [('over_sampling', over_sampling), ('under_sampling', under_sampling),\n",
    "         (\"pca\", pca),\n",
    "         ('classification', model_dummy)]\n",
    "\n",
    "model_pipeline = Pipeline(steps=steps)\n",
    "\n",
    "stratified_kfold = StratifiedKFold(n_splits=3,\n",
    "                                   shuffle=True,\n",
    "                                   random_state=11)\n",
    "\n",
    "grid_search_dummy = GridSearchCV(estimator=model_pipeline,\n",
    "                           param_grid=param_grid,\n",
    "                           scoring=custom_score,\n",
    "                           cv=stratified_kfold,\n",
    "                           n_jobs=1,\n",
    "                           verbose = 2)\n",
    "\n",
    "grid_search_dummy.fit(X_train, y_train)\n",
    "\n",
    "cv_score = grid_search_dummy.best_score_\n",
    "list_scores.append(cv_score)\n",
    "list_best_estimators.append(grid_search_dummy.best_estimator_)\n",
    "test_score = grid_search_dummy.score(X_test, y_test)\n",
    "\n",
    "\n",
    "print(f'Cross-validation score: {cv_score}\\nTest score: {test_score}')\n",
    "print(\"time taken : %s seconds\" % (time.time() - start_time))\n",
    "print(\"\\n -------  \\n\")"
   ],
   "metadata": {
    "collapsed": false,
    "pycharm": {
     "name": "#%%\n"
    }
   }
  },
  {
   "cell_type": "markdown",
   "source": [
    "### Entraînement de la Régression Logistique"
   ],
   "metadata": {
    "collapsed": false,
    "pycharm": {
     "name": "#%% md\n"
    }
   }
  },
  {
   "cell_type": "code",
   "execution_count": 20,
   "outputs": [
    {
     "name": "stdout",
     "output_type": "stream",
     "text": [
      "Fitting 3 folds for each of 80 candidates, totalling 240 fits\n",
      "[CV] END classification__C=0.01, over_sampling__sampling_strategy=0.1, under_sampling__sampling_strategy=0.1; total time=  11.6s\n",
      "[CV] END classification__C=0.01, over_sampling__sampling_strategy=0.1, under_sampling__sampling_strategy=0.1; total time=  10.8s\n",
      "[CV] END classification__C=0.01, over_sampling__sampling_strategy=0.1, under_sampling__sampling_strategy=0.1; total time=  10.8s\n",
      "[CV] END classification__C=0.01, over_sampling__sampling_strategy=0.1, under_sampling__sampling_strategy=0.23333333333333334; total time=   8.7s\n",
      "[CV] END classification__C=0.01, over_sampling__sampling_strategy=0.1, under_sampling__sampling_strategy=0.23333333333333334; total time=   8.4s\n",
      "[CV] END classification__C=0.01, over_sampling__sampling_strategy=0.1, under_sampling__sampling_strategy=0.23333333333333334; total time=   8.4s\n",
      "[CV] END classification__C=0.01, over_sampling__sampling_strategy=0.1, under_sampling__sampling_strategy=0.3666666666666667; total time=   8.1s\n",
      "[CV] END classification__C=0.01, over_sampling__sampling_strategy=0.1, under_sampling__sampling_strategy=0.3666666666666667; total time=   8.2s\n",
      "[CV] END classification__C=0.01, over_sampling__sampling_strategy=0.1, under_sampling__sampling_strategy=0.3666666666666667; total time=   7.8s\n",
      "[CV] END classification__C=0.01, over_sampling__sampling_strategy=0.1, under_sampling__sampling_strategy=0.5; total time=   7.5s\n",
      "[CV] END classification__C=0.01, over_sampling__sampling_strategy=0.1, under_sampling__sampling_strategy=0.5; total time=   7.1s\n",
      "[CV] END classification__C=0.01, over_sampling__sampling_strategy=0.1, under_sampling__sampling_strategy=0.5; total time=   7.4s\n",
      "[CV] END classification__C=0.01, over_sampling__sampling_strategy=0.23333333333333334, under_sampling__sampling_strategy=0.1; total time=   6.5s\n",
      "[CV] END classification__C=0.01, over_sampling__sampling_strategy=0.23333333333333334, under_sampling__sampling_strategy=0.1; total time=   6.4s\n",
      "[CV] END classification__C=0.01, over_sampling__sampling_strategy=0.23333333333333334, under_sampling__sampling_strategy=0.1; total time=   6.2s\n",
      "[CV] END classification__C=0.01, over_sampling__sampling_strategy=0.23333333333333334, under_sampling__sampling_strategy=0.23333333333333334; total time=  11.7s\n",
      "[CV] END classification__C=0.01, over_sampling__sampling_strategy=0.23333333333333334, under_sampling__sampling_strategy=0.23333333333333334; total time=  11.1s\n",
      "[CV] END classification__C=0.01, over_sampling__sampling_strategy=0.23333333333333334, under_sampling__sampling_strategy=0.23333333333333334; total time=  11.4s\n",
      "[CV] END classification__C=0.01, over_sampling__sampling_strategy=0.23333333333333334, under_sampling__sampling_strategy=0.3666666666666667; total time=  10.9s\n",
      "[CV] END classification__C=0.01, over_sampling__sampling_strategy=0.23333333333333334, under_sampling__sampling_strategy=0.3666666666666667; total time=  10.2s\n",
      "[CV] END classification__C=0.01, over_sampling__sampling_strategy=0.23333333333333334, under_sampling__sampling_strategy=0.3666666666666667; total time=  10.1s\n",
      "[CV] END classification__C=0.01, over_sampling__sampling_strategy=0.23333333333333334, under_sampling__sampling_strategy=0.5; total time=   9.3s\n",
      "[CV] END classification__C=0.01, over_sampling__sampling_strategy=0.23333333333333334, under_sampling__sampling_strategy=0.5; total time=   9.3s\n",
      "[CV] END classification__C=0.01, over_sampling__sampling_strategy=0.23333333333333334, under_sampling__sampling_strategy=0.5; total time=   9.1s\n",
      "[CV] END classification__C=0.01, over_sampling__sampling_strategy=0.3666666666666667, under_sampling__sampling_strategy=0.1; total time=   7.4s\n",
      "[CV] END classification__C=0.01, over_sampling__sampling_strategy=0.3666666666666667, under_sampling__sampling_strategy=0.1; total time=   8.2s\n",
      "[CV] END classification__C=0.01, over_sampling__sampling_strategy=0.3666666666666667, under_sampling__sampling_strategy=0.1; total time=   7.2s\n",
      "[CV] END classification__C=0.01, over_sampling__sampling_strategy=0.3666666666666667, under_sampling__sampling_strategy=0.23333333333333334; total time=   9.2s\n",
      "[CV] END classification__C=0.01, over_sampling__sampling_strategy=0.3666666666666667, under_sampling__sampling_strategy=0.23333333333333334; total time=   8.3s\n",
      "[CV] END classification__C=0.01, over_sampling__sampling_strategy=0.3666666666666667, under_sampling__sampling_strategy=0.23333333333333334; total time=   7.6s\n",
      "[CV] END classification__C=0.01, over_sampling__sampling_strategy=0.3666666666666667, under_sampling__sampling_strategy=0.3666666666666667; total time=  14.6s\n",
      "[CV] END classification__C=0.01, over_sampling__sampling_strategy=0.3666666666666667, under_sampling__sampling_strategy=0.3666666666666667; total time=  13.3s\n",
      "[CV] END classification__C=0.01, over_sampling__sampling_strategy=0.3666666666666667, under_sampling__sampling_strategy=0.3666666666666667; total time=  12.9s\n",
      "[CV] END classification__C=0.01, over_sampling__sampling_strategy=0.3666666666666667, under_sampling__sampling_strategy=0.5; total time=  11.6s\n",
      "[CV] END classification__C=0.01, over_sampling__sampling_strategy=0.3666666666666667, under_sampling__sampling_strategy=0.5; total time=  12.3s\n",
      "[CV] END classification__C=0.01, over_sampling__sampling_strategy=0.3666666666666667, under_sampling__sampling_strategy=0.5; total time=  11.7s\n",
      "[CV] END classification__C=0.01, over_sampling__sampling_strategy=0.5, under_sampling__sampling_strategy=0.1; total time=   6.8s\n",
      "[CV] END classification__C=0.01, over_sampling__sampling_strategy=0.5, under_sampling__sampling_strategy=0.1; total time=   7.3s\n",
      "[CV] END classification__C=0.01, over_sampling__sampling_strategy=0.5, under_sampling__sampling_strategy=0.1; total time=   7.5s\n",
      "[CV] END classification__C=0.01, over_sampling__sampling_strategy=0.5, under_sampling__sampling_strategy=0.23333333333333334; total time=   7.5s\n",
      "[CV] END classification__C=0.01, over_sampling__sampling_strategy=0.5, under_sampling__sampling_strategy=0.23333333333333334; total time=   7.0s\n",
      "[CV] END classification__C=0.01, over_sampling__sampling_strategy=0.5, under_sampling__sampling_strategy=0.23333333333333334; total time=   6.9s\n",
      "[CV] END classification__C=0.01, over_sampling__sampling_strategy=0.5, under_sampling__sampling_strategy=0.3666666666666667; total time=   7.3s\n",
      "[CV] END classification__C=0.01, over_sampling__sampling_strategy=0.5, under_sampling__sampling_strategy=0.3666666666666667; total time=   7.1s\n",
      "[CV] END classification__C=0.01, over_sampling__sampling_strategy=0.5, under_sampling__sampling_strategy=0.3666666666666667; total time=   6.8s\n",
      "[CV] END classification__C=0.01, over_sampling__sampling_strategy=0.5, under_sampling__sampling_strategy=0.5; total time=  12.3s\n",
      "[CV] END classification__C=0.01, over_sampling__sampling_strategy=0.5, under_sampling__sampling_strategy=0.5; total time=  13.7s\n",
      "[CV] END classification__C=0.01, over_sampling__sampling_strategy=0.5, under_sampling__sampling_strategy=0.5; total time=  12.9s\n",
      "[CV] END classification__C=0.1, over_sampling__sampling_strategy=0.1, under_sampling__sampling_strategy=0.1; total time=  10.8s\n",
      "[CV] END classification__C=0.1, over_sampling__sampling_strategy=0.1, under_sampling__sampling_strategy=0.1; total time=  11.1s\n",
      "[CV] END classification__C=0.1, over_sampling__sampling_strategy=0.1, under_sampling__sampling_strategy=0.1; total time=  11.2s\n",
      "[CV] END classification__C=0.1, over_sampling__sampling_strategy=0.1, under_sampling__sampling_strategy=0.23333333333333334; total time=   9.3s\n",
      "[CV] END classification__C=0.1, over_sampling__sampling_strategy=0.1, under_sampling__sampling_strategy=0.23333333333333334; total time=   8.4s\n",
      "[CV] END classification__C=0.1, over_sampling__sampling_strategy=0.1, under_sampling__sampling_strategy=0.23333333333333334; total time=   8.1s\n",
      "[CV] END classification__C=0.1, over_sampling__sampling_strategy=0.1, under_sampling__sampling_strategy=0.3666666666666667; total time=   7.4s\n",
      "[CV] END classification__C=0.1, over_sampling__sampling_strategy=0.1, under_sampling__sampling_strategy=0.3666666666666667; total time=   7.5s\n",
      "[CV] END classification__C=0.1, over_sampling__sampling_strategy=0.1, under_sampling__sampling_strategy=0.3666666666666667; total time=   7.3s\n",
      "[CV] END classification__C=0.1, over_sampling__sampling_strategy=0.1, under_sampling__sampling_strategy=0.5; total time=   7.5s\n",
      "[CV] END classification__C=0.1, over_sampling__sampling_strategy=0.1, under_sampling__sampling_strategy=0.5; total time=   7.5s\n",
      "[CV] END classification__C=0.1, over_sampling__sampling_strategy=0.1, under_sampling__sampling_strategy=0.5; total time=   7.9s\n",
      "[CV] END classification__C=0.1, over_sampling__sampling_strategy=0.23333333333333334, under_sampling__sampling_strategy=0.1; total time=   6.2s\n",
      "[CV] END classification__C=0.1, over_sampling__sampling_strategy=0.23333333333333334, under_sampling__sampling_strategy=0.1; total time=   6.3s\n",
      "[CV] END classification__C=0.1, over_sampling__sampling_strategy=0.23333333333333334, under_sampling__sampling_strategy=0.1; total time=   6.3s\n",
      "[CV] END classification__C=0.1, over_sampling__sampling_strategy=0.23333333333333334, under_sampling__sampling_strategy=0.23333333333333334; total time=  11.0s\n",
      "[CV] END classification__C=0.1, over_sampling__sampling_strategy=0.23333333333333334, under_sampling__sampling_strategy=0.23333333333333334; total time=  11.3s\n",
      "[CV] END classification__C=0.1, over_sampling__sampling_strategy=0.23333333333333334, under_sampling__sampling_strategy=0.23333333333333334; total time=  12.7s\n",
      "[CV] END classification__C=0.1, over_sampling__sampling_strategy=0.23333333333333334, under_sampling__sampling_strategy=0.3666666666666667; total time=   9.7s\n",
      "[CV] END classification__C=0.1, over_sampling__sampling_strategy=0.23333333333333334, under_sampling__sampling_strategy=0.3666666666666667; total time=   9.8s\n",
      "[CV] END classification__C=0.1, over_sampling__sampling_strategy=0.23333333333333334, under_sampling__sampling_strategy=0.3666666666666667; total time=   9.9s\n",
      "[CV] END classification__C=0.1, over_sampling__sampling_strategy=0.23333333333333334, under_sampling__sampling_strategy=0.5; total time=   9.3s\n",
      "[CV] END classification__C=0.1, over_sampling__sampling_strategy=0.23333333333333334, under_sampling__sampling_strategy=0.5; total time=   9.0s\n",
      "[CV] END classification__C=0.1, over_sampling__sampling_strategy=0.23333333333333334, under_sampling__sampling_strategy=0.5; total time=   9.6s\n",
      "[CV] END classification__C=0.1, over_sampling__sampling_strategy=0.3666666666666667, under_sampling__sampling_strategy=0.1; total time=   6.8s\n",
      "[CV] END classification__C=0.1, over_sampling__sampling_strategy=0.3666666666666667, under_sampling__sampling_strategy=0.1; total time=   6.7s\n",
      "[CV] END classification__C=0.1, over_sampling__sampling_strategy=0.3666666666666667, under_sampling__sampling_strategy=0.1; total time=   6.1s\n",
      "[CV] END classification__C=0.1, over_sampling__sampling_strategy=0.3666666666666667, under_sampling__sampling_strategy=0.23333333333333334; total time=   6.4s\n",
      "[CV] END classification__C=0.1, over_sampling__sampling_strategy=0.3666666666666667, under_sampling__sampling_strategy=0.23333333333333334; total time=   6.9s\n",
      "[CV] END classification__C=0.1, over_sampling__sampling_strategy=0.3666666666666667, under_sampling__sampling_strategy=0.23333333333333334; total time=   7.4s\n",
      "[CV] END classification__C=0.1, over_sampling__sampling_strategy=0.3666666666666667, under_sampling__sampling_strategy=0.3666666666666667; total time=  13.1s\n",
      "[CV] END classification__C=0.1, over_sampling__sampling_strategy=0.3666666666666667, under_sampling__sampling_strategy=0.3666666666666667; total time=  13.4s\n",
      "[CV] END classification__C=0.1, over_sampling__sampling_strategy=0.3666666666666667, under_sampling__sampling_strategy=0.3666666666666667; total time=  12.3s\n",
      "[CV] END classification__C=0.1, over_sampling__sampling_strategy=0.3666666666666667, under_sampling__sampling_strategy=0.5; total time=  12.1s\n",
      "[CV] END classification__C=0.1, over_sampling__sampling_strategy=0.3666666666666667, under_sampling__sampling_strategy=0.5; total time=  11.3s\n",
      "[CV] END classification__C=0.1, over_sampling__sampling_strategy=0.3666666666666667, under_sampling__sampling_strategy=0.5; total time=  10.5s\n",
      "[CV] END classification__C=0.1, over_sampling__sampling_strategy=0.5, under_sampling__sampling_strategy=0.1; total time=   6.8s\n",
      "[CV] END classification__C=0.1, over_sampling__sampling_strategy=0.5, under_sampling__sampling_strategy=0.1; total time=   6.9s\n",
      "[CV] END classification__C=0.1, over_sampling__sampling_strategy=0.5, under_sampling__sampling_strategy=0.1; total time=   7.1s\n",
      "[CV] END classification__C=0.1, over_sampling__sampling_strategy=0.5, under_sampling__sampling_strategy=0.23333333333333334; total time=   7.3s\n",
      "[CV] END classification__C=0.1, over_sampling__sampling_strategy=0.5, under_sampling__sampling_strategy=0.23333333333333334; total time=   7.5s\n",
      "[CV] END classification__C=0.1, over_sampling__sampling_strategy=0.5, under_sampling__sampling_strategy=0.23333333333333334; total time=   6.6s\n",
      "[CV] END classification__C=0.1, over_sampling__sampling_strategy=0.5, under_sampling__sampling_strategy=0.3666666666666667; total time=   6.5s\n",
      "[CV] END classification__C=0.1, over_sampling__sampling_strategy=0.5, under_sampling__sampling_strategy=0.3666666666666667; total time=   6.9s\n",
      "[CV] END classification__C=0.1, over_sampling__sampling_strategy=0.5, under_sampling__sampling_strategy=0.3666666666666667; total time=   7.0s\n",
      "[CV] END classification__C=0.1, over_sampling__sampling_strategy=0.5, under_sampling__sampling_strategy=0.5; total time=  14.3s\n",
      "[CV] END classification__C=0.1, over_sampling__sampling_strategy=0.5, under_sampling__sampling_strategy=0.5; total time=  16.5s\n",
      "[CV] END classification__C=0.1, over_sampling__sampling_strategy=0.5, under_sampling__sampling_strategy=0.5; total time=  13.1s\n",
      "[CV] END classification__C=1.0, over_sampling__sampling_strategy=0.1, under_sampling__sampling_strategy=0.1; total time=  11.1s\n",
      "[CV] END classification__C=1.0, over_sampling__sampling_strategy=0.1, under_sampling__sampling_strategy=0.1; total time=  11.0s\n",
      "[CV] END classification__C=1.0, over_sampling__sampling_strategy=0.1, under_sampling__sampling_strategy=0.1; total time=  11.6s\n",
      "[CV] END classification__C=1.0, over_sampling__sampling_strategy=0.1, under_sampling__sampling_strategy=0.23333333333333334; total time=   9.2s\n",
      "[CV] END classification__C=1.0, over_sampling__sampling_strategy=0.1, under_sampling__sampling_strategy=0.23333333333333334; total time=   9.1s\n",
      "[CV] END classification__C=1.0, over_sampling__sampling_strategy=0.1, under_sampling__sampling_strategy=0.23333333333333334; total time=   8.9s\n",
      "[CV] END classification__C=1.0, over_sampling__sampling_strategy=0.1, under_sampling__sampling_strategy=0.3666666666666667; total time=   8.4s\n",
      "[CV] END classification__C=1.0, over_sampling__sampling_strategy=0.1, under_sampling__sampling_strategy=0.3666666666666667; total time=   8.4s\n",
      "[CV] END classification__C=1.0, over_sampling__sampling_strategy=0.1, under_sampling__sampling_strategy=0.3666666666666667; total time=   8.0s\n",
      "[CV] END classification__C=1.0, over_sampling__sampling_strategy=0.1, under_sampling__sampling_strategy=0.5; total time=   8.6s\n",
      "[CV] END classification__C=1.0, over_sampling__sampling_strategy=0.1, under_sampling__sampling_strategy=0.5; total time=   7.9s\n",
      "[CV] END classification__C=1.0, over_sampling__sampling_strategy=0.1, under_sampling__sampling_strategy=0.5; total time=   7.8s\n",
      "[CV] END classification__C=1.0, over_sampling__sampling_strategy=0.23333333333333334, under_sampling__sampling_strategy=0.1; total time=   7.0s\n",
      "[CV] END classification__C=1.0, over_sampling__sampling_strategy=0.23333333333333334, under_sampling__sampling_strategy=0.1; total time=   7.3s\n",
      "[CV] END classification__C=1.0, over_sampling__sampling_strategy=0.23333333333333334, under_sampling__sampling_strategy=0.1; total time=   7.7s\n",
      "[CV] END classification__C=1.0, over_sampling__sampling_strategy=0.23333333333333334, under_sampling__sampling_strategy=0.23333333333333334; total time=  12.2s\n",
      "[CV] END classification__C=1.0, over_sampling__sampling_strategy=0.23333333333333334, under_sampling__sampling_strategy=0.23333333333333334; total time=  12.6s\n",
      "[CV] END classification__C=1.0, over_sampling__sampling_strategy=0.23333333333333334, under_sampling__sampling_strategy=0.23333333333333334; total time=  12.7s\n",
      "[CV] END classification__C=1.0, over_sampling__sampling_strategy=0.23333333333333334, under_sampling__sampling_strategy=0.3666666666666667; total time=  10.6s\n",
      "[CV] END classification__C=1.0, over_sampling__sampling_strategy=0.23333333333333334, under_sampling__sampling_strategy=0.3666666666666667; total time=  10.8s\n",
      "[CV] END classification__C=1.0, over_sampling__sampling_strategy=0.23333333333333334, under_sampling__sampling_strategy=0.3666666666666667; total time=  10.8s\n",
      "[CV] END classification__C=1.0, over_sampling__sampling_strategy=0.23333333333333334, under_sampling__sampling_strategy=0.5; total time=  10.3s\n",
      "[CV] END classification__C=1.0, over_sampling__sampling_strategy=0.23333333333333334, under_sampling__sampling_strategy=0.5; total time=  10.4s\n",
      "[CV] END classification__C=1.0, over_sampling__sampling_strategy=0.23333333333333334, under_sampling__sampling_strategy=0.5; total time=  10.1s\n",
      "[CV] END classification__C=1.0, over_sampling__sampling_strategy=0.3666666666666667, under_sampling__sampling_strategy=0.1; total time=   7.3s\n",
      "[CV] END classification__C=1.0, over_sampling__sampling_strategy=0.3666666666666667, under_sampling__sampling_strategy=0.1; total time=   7.1s\n",
      "[CV] END classification__C=1.0, over_sampling__sampling_strategy=0.3666666666666667, under_sampling__sampling_strategy=0.1; total time=   7.3s\n",
      "[CV] END classification__C=1.0, over_sampling__sampling_strategy=0.3666666666666667, under_sampling__sampling_strategy=0.23333333333333334; total time=   7.2s\n",
      "[CV] END classification__C=1.0, over_sampling__sampling_strategy=0.3666666666666667, under_sampling__sampling_strategy=0.23333333333333334; total time=   7.0s\n",
      "[CV] END classification__C=1.0, over_sampling__sampling_strategy=0.3666666666666667, under_sampling__sampling_strategy=0.23333333333333334; total time=   7.5s\n",
      "[CV] END classification__C=1.0, over_sampling__sampling_strategy=0.3666666666666667, under_sampling__sampling_strategy=0.3666666666666667; total time=  13.5s\n",
      "[CV] END classification__C=1.0, over_sampling__sampling_strategy=0.3666666666666667, under_sampling__sampling_strategy=0.3666666666666667; total time=  14.6s\n",
      "[CV] END classification__C=1.0, over_sampling__sampling_strategy=0.3666666666666667, under_sampling__sampling_strategy=0.3666666666666667; total time=  13.2s\n",
      "[CV] END classification__C=1.0, over_sampling__sampling_strategy=0.3666666666666667, under_sampling__sampling_strategy=0.5; total time=  12.5s\n",
      "[CV] END classification__C=1.0, over_sampling__sampling_strategy=0.3666666666666667, under_sampling__sampling_strategy=0.5; total time=  11.5s\n",
      "[CV] END classification__C=1.0, over_sampling__sampling_strategy=0.3666666666666667, under_sampling__sampling_strategy=0.5; total time=  12.0s\n",
      "[CV] END classification__C=1.0, over_sampling__sampling_strategy=0.5, under_sampling__sampling_strategy=0.1; total time=   7.8s\n",
      "[CV] END classification__C=1.0, over_sampling__sampling_strategy=0.5, under_sampling__sampling_strategy=0.1; total time=   7.4s\n",
      "[CV] END classification__C=1.0, over_sampling__sampling_strategy=0.5, under_sampling__sampling_strategy=0.1; total time=   7.5s\n",
      "[CV] END classification__C=1.0, over_sampling__sampling_strategy=0.5, under_sampling__sampling_strategy=0.23333333333333334; total time=   7.2s\n",
      "[CV] END classification__C=1.0, over_sampling__sampling_strategy=0.5, under_sampling__sampling_strategy=0.23333333333333334; total time=   7.2s\n",
      "[CV] END classification__C=1.0, over_sampling__sampling_strategy=0.5, under_sampling__sampling_strategy=0.23333333333333334; total time=   7.3s\n",
      "[CV] END classification__C=1.0, over_sampling__sampling_strategy=0.5, under_sampling__sampling_strategy=0.3666666666666667; total time=   7.6s\n",
      "[CV] END classification__C=1.0, over_sampling__sampling_strategy=0.5, under_sampling__sampling_strategy=0.3666666666666667; total time=   8.6s\n",
      "[CV] END classification__C=1.0, over_sampling__sampling_strategy=0.5, under_sampling__sampling_strategy=0.3666666666666667; total time=   7.2s\n",
      "[CV] END classification__C=1.0, over_sampling__sampling_strategy=0.5, under_sampling__sampling_strategy=0.5; total time=  13.2s\n",
      "[CV] END classification__C=1.0, over_sampling__sampling_strategy=0.5, under_sampling__sampling_strategy=0.5; total time=  14.2s\n",
      "[CV] END classification__C=1.0, over_sampling__sampling_strategy=0.5, under_sampling__sampling_strategy=0.5; total time=  13.1s\n",
      "[CV] END classification__C=10.0, over_sampling__sampling_strategy=0.1, under_sampling__sampling_strategy=0.1; total time=  11.9s\n",
      "[CV] END classification__C=10.0, over_sampling__sampling_strategy=0.1, under_sampling__sampling_strategy=0.1; total time=  12.0s\n",
      "[CV] END classification__C=10.0, over_sampling__sampling_strategy=0.1, under_sampling__sampling_strategy=0.1; total time=  11.2s\n",
      "[CV] END classification__C=10.0, over_sampling__sampling_strategy=0.1, under_sampling__sampling_strategy=0.23333333333333334; total time=   9.0s\n",
      "[CV] END classification__C=10.0, over_sampling__sampling_strategy=0.1, under_sampling__sampling_strategy=0.23333333333333334; total time=   8.8s\n",
      "[CV] END classification__C=10.0, over_sampling__sampling_strategy=0.1, under_sampling__sampling_strategy=0.23333333333333334; total time=   9.0s\n",
      "[CV] END classification__C=10.0, over_sampling__sampling_strategy=0.1, under_sampling__sampling_strategy=0.3666666666666667; total time=   8.4s\n",
      "[CV] END classification__C=10.0, over_sampling__sampling_strategy=0.1, under_sampling__sampling_strategy=0.3666666666666667; total time=   7.9s\n",
      "[CV] END classification__C=10.0, over_sampling__sampling_strategy=0.1, under_sampling__sampling_strategy=0.3666666666666667; total time=   8.2s\n",
      "[CV] END classification__C=10.0, over_sampling__sampling_strategy=0.1, under_sampling__sampling_strategy=0.5; total time=   7.6s\n",
      "[CV] END classification__C=10.0, over_sampling__sampling_strategy=0.1, under_sampling__sampling_strategy=0.5; total time=   9.0s\n",
      "[CV] END classification__C=10.0, over_sampling__sampling_strategy=0.1, under_sampling__sampling_strategy=0.5; total time=   8.1s\n",
      "[CV] END classification__C=10.0, over_sampling__sampling_strategy=0.23333333333333334, under_sampling__sampling_strategy=0.1; total time=   6.9s\n",
      "[CV] END classification__C=10.0, over_sampling__sampling_strategy=0.23333333333333334, under_sampling__sampling_strategy=0.1; total time=   6.5s\n",
      "[CV] END classification__C=10.0, over_sampling__sampling_strategy=0.23333333333333334, under_sampling__sampling_strategy=0.1; total time=   6.7s\n",
      "[CV] END classification__C=10.0, over_sampling__sampling_strategy=0.23333333333333334, under_sampling__sampling_strategy=0.23333333333333334; total time=  12.5s\n",
      "[CV] END classification__C=10.0, over_sampling__sampling_strategy=0.23333333333333334, under_sampling__sampling_strategy=0.23333333333333334; total time=  12.3s\n",
      "[CV] END classification__C=10.0, over_sampling__sampling_strategy=0.23333333333333334, under_sampling__sampling_strategy=0.23333333333333334; total time=  11.7s\n",
      "[CV] END classification__C=10.0, over_sampling__sampling_strategy=0.23333333333333334, under_sampling__sampling_strategy=0.3666666666666667; total time=  10.7s\n",
      "[CV] END classification__C=10.0, over_sampling__sampling_strategy=0.23333333333333334, under_sampling__sampling_strategy=0.3666666666666667; total time=  11.2s\n",
      "[CV] END classification__C=10.0, over_sampling__sampling_strategy=0.23333333333333334, under_sampling__sampling_strategy=0.3666666666666667; total time=  10.9s\n",
      "[CV] END classification__C=10.0, over_sampling__sampling_strategy=0.23333333333333334, under_sampling__sampling_strategy=0.5; total time=   9.8s\n",
      "[CV] END classification__C=10.0, over_sampling__sampling_strategy=0.23333333333333334, under_sampling__sampling_strategy=0.5; total time=   9.8s\n",
      "[CV] END classification__C=10.0, over_sampling__sampling_strategy=0.23333333333333334, under_sampling__sampling_strategy=0.5; total time=   9.5s\n",
      "[CV] END classification__C=10.0, over_sampling__sampling_strategy=0.3666666666666667, under_sampling__sampling_strategy=0.1; total time=   7.0s\n",
      "[CV] END classification__C=10.0, over_sampling__sampling_strategy=0.3666666666666667, under_sampling__sampling_strategy=0.1; total time=   6.9s\n",
      "[CV] END classification__C=10.0, over_sampling__sampling_strategy=0.3666666666666667, under_sampling__sampling_strategy=0.1; total time=   6.8s\n",
      "[CV] END classification__C=10.0, over_sampling__sampling_strategy=0.3666666666666667, under_sampling__sampling_strategy=0.23333333333333334; total time=   7.4s\n",
      "[CV] END classification__C=10.0, over_sampling__sampling_strategy=0.3666666666666667, under_sampling__sampling_strategy=0.23333333333333334; total time=   7.2s\n",
      "[CV] END classification__C=10.0, over_sampling__sampling_strategy=0.3666666666666667, under_sampling__sampling_strategy=0.23333333333333334; total time=   6.4s\n",
      "[CV] END classification__C=10.0, over_sampling__sampling_strategy=0.3666666666666667, under_sampling__sampling_strategy=0.3666666666666667; total time=  14.9s\n",
      "[CV] END classification__C=10.0, over_sampling__sampling_strategy=0.3666666666666667, under_sampling__sampling_strategy=0.3666666666666667; total time=  15.1s\n",
      "[CV] END classification__C=10.0, over_sampling__sampling_strategy=0.3666666666666667, under_sampling__sampling_strategy=0.3666666666666667; total time=  15.1s\n",
      "[CV] END classification__C=10.0, over_sampling__sampling_strategy=0.3666666666666667, under_sampling__sampling_strategy=0.5; total time=  13.0s\n",
      "[CV] END classification__C=10.0, over_sampling__sampling_strategy=0.3666666666666667, under_sampling__sampling_strategy=0.5; total time=  12.3s\n",
      "[CV] END classification__C=10.0, over_sampling__sampling_strategy=0.3666666666666667, under_sampling__sampling_strategy=0.5; total time=  12.2s\n",
      "[CV] END classification__C=10.0, over_sampling__sampling_strategy=0.5, under_sampling__sampling_strategy=0.1; total time=   7.1s\n",
      "[CV] END classification__C=10.0, over_sampling__sampling_strategy=0.5, under_sampling__sampling_strategy=0.1; total time=   8.5s\n",
      "[CV] END classification__C=10.0, over_sampling__sampling_strategy=0.5, under_sampling__sampling_strategy=0.1; total time=   7.5s\n",
      "[CV] END classification__C=10.0, over_sampling__sampling_strategy=0.5, under_sampling__sampling_strategy=0.23333333333333334; total time=   8.0s\n",
      "[CV] END classification__C=10.0, over_sampling__sampling_strategy=0.5, under_sampling__sampling_strategy=0.23333333333333334; total time=   8.0s\n",
      "[CV] END classification__C=10.0, over_sampling__sampling_strategy=0.5, under_sampling__sampling_strategy=0.23333333333333334; total time=   7.2s\n",
      "[CV] END classification__C=10.0, over_sampling__sampling_strategy=0.5, under_sampling__sampling_strategy=0.3666666666666667; total time=   7.2s\n",
      "[CV] END classification__C=10.0, over_sampling__sampling_strategy=0.5, under_sampling__sampling_strategy=0.3666666666666667; total time=   7.4s\n",
      "[CV] END classification__C=10.0, over_sampling__sampling_strategy=0.5, under_sampling__sampling_strategy=0.3666666666666667; total time=   7.7s\n",
      "[CV] END classification__C=10.0, over_sampling__sampling_strategy=0.5, under_sampling__sampling_strategy=0.5; total time=  13.9s\n",
      "[CV] END classification__C=10.0, over_sampling__sampling_strategy=0.5, under_sampling__sampling_strategy=0.5; total time=  14.0s\n",
      "[CV] END classification__C=10.0, over_sampling__sampling_strategy=0.5, under_sampling__sampling_strategy=0.5; total time=  13.8s\n",
      "[CV] END classification__C=100.0, over_sampling__sampling_strategy=0.1, under_sampling__sampling_strategy=0.1; total time=  12.2s\n",
      "[CV] END classification__C=100.0, over_sampling__sampling_strategy=0.1, under_sampling__sampling_strategy=0.1; total time=  11.8s\n",
      "[CV] END classification__C=100.0, over_sampling__sampling_strategy=0.1, under_sampling__sampling_strategy=0.1; total time=  12.9s\n",
      "[CV] END classification__C=100.0, over_sampling__sampling_strategy=0.1, under_sampling__sampling_strategy=0.23333333333333334; total time=  10.7s\n",
      "[CV] END classification__C=100.0, over_sampling__sampling_strategy=0.1, under_sampling__sampling_strategy=0.23333333333333334; total time=   9.1s\n",
      "[CV] END classification__C=100.0, over_sampling__sampling_strategy=0.1, under_sampling__sampling_strategy=0.23333333333333334; total time=   9.2s\n",
      "[CV] END classification__C=100.0, over_sampling__sampling_strategy=0.1, under_sampling__sampling_strategy=0.3666666666666667; total time=   8.7s\n",
      "[CV] END classification__C=100.0, over_sampling__sampling_strategy=0.1, under_sampling__sampling_strategy=0.3666666666666667; total time=   8.7s\n",
      "[CV] END classification__C=100.0, over_sampling__sampling_strategy=0.1, under_sampling__sampling_strategy=0.3666666666666667; total time=   8.5s\n",
      "[CV] END classification__C=100.0, over_sampling__sampling_strategy=0.1, under_sampling__sampling_strategy=0.5; total time=   8.0s\n",
      "[CV] END classification__C=100.0, over_sampling__sampling_strategy=0.1, under_sampling__sampling_strategy=0.5; total time=   8.8s\n",
      "[CV] END classification__C=100.0, over_sampling__sampling_strategy=0.1, under_sampling__sampling_strategy=0.5; total time=   7.6s\n",
      "[CV] END classification__C=100.0, over_sampling__sampling_strategy=0.23333333333333334, under_sampling__sampling_strategy=0.1; total time=   6.3s\n",
      "[CV] END classification__C=100.0, over_sampling__sampling_strategy=0.23333333333333334, under_sampling__sampling_strategy=0.1; total time=   7.0s\n",
      "[CV] END classification__C=100.0, over_sampling__sampling_strategy=0.23333333333333334, under_sampling__sampling_strategy=0.1; total time=   8.4s\n",
      "[CV] END classification__C=100.0, over_sampling__sampling_strategy=0.23333333333333334, under_sampling__sampling_strategy=0.23333333333333334; total time=  12.2s\n",
      "[CV] END classification__C=100.0, over_sampling__sampling_strategy=0.23333333333333334, under_sampling__sampling_strategy=0.23333333333333334; total time=  12.3s\n",
      "[CV] END classification__C=100.0, over_sampling__sampling_strategy=0.23333333333333334, under_sampling__sampling_strategy=0.23333333333333334; total time=  11.5s\n",
      "[CV] END classification__C=100.0, over_sampling__sampling_strategy=0.23333333333333334, under_sampling__sampling_strategy=0.3666666666666667; total time=  10.0s\n",
      "[CV] END classification__C=100.0, over_sampling__sampling_strategy=0.23333333333333334, under_sampling__sampling_strategy=0.3666666666666667; total time=  10.2s\n",
      "[CV] END classification__C=100.0, over_sampling__sampling_strategy=0.23333333333333334, under_sampling__sampling_strategy=0.3666666666666667; total time=  10.4s\n",
      "[CV] END classification__C=100.0, over_sampling__sampling_strategy=0.23333333333333334, under_sampling__sampling_strategy=0.5; total time=   9.6s\n",
      "[CV] END classification__C=100.0, over_sampling__sampling_strategy=0.23333333333333334, under_sampling__sampling_strategy=0.5; total time=   9.7s\n",
      "[CV] END classification__C=100.0, over_sampling__sampling_strategy=0.23333333333333334, under_sampling__sampling_strategy=0.5; total time=  11.1s\n",
      "[CV] END classification__C=100.0, over_sampling__sampling_strategy=0.3666666666666667, under_sampling__sampling_strategy=0.1; total time=   7.0s\n",
      "[CV] END classification__C=100.0, over_sampling__sampling_strategy=0.3666666666666667, under_sampling__sampling_strategy=0.1; total time=   7.7s\n",
      "[CV] END classification__C=100.0, over_sampling__sampling_strategy=0.3666666666666667, under_sampling__sampling_strategy=0.1; total time=   7.4s\n",
      "[CV] END classification__C=100.0, over_sampling__sampling_strategy=0.3666666666666667, under_sampling__sampling_strategy=0.23333333333333334; total time=   6.6s\n",
      "[CV] END classification__C=100.0, over_sampling__sampling_strategy=0.3666666666666667, under_sampling__sampling_strategy=0.23333333333333334; total time=   6.5s\n",
      "[CV] END classification__C=100.0, over_sampling__sampling_strategy=0.3666666666666667, under_sampling__sampling_strategy=0.23333333333333334; total time=   6.9s\n",
      "[CV] END classification__C=100.0, over_sampling__sampling_strategy=0.3666666666666667, under_sampling__sampling_strategy=0.3666666666666667; total time=  12.5s\n",
      "[CV] END classification__C=100.0, over_sampling__sampling_strategy=0.3666666666666667, under_sampling__sampling_strategy=0.3666666666666667; total time=  12.5s\n",
      "[CV] END classification__C=100.0, over_sampling__sampling_strategy=0.3666666666666667, under_sampling__sampling_strategy=0.3666666666666667; total time=  12.1s\n",
      "[CV] END classification__C=100.0, over_sampling__sampling_strategy=0.3666666666666667, under_sampling__sampling_strategy=0.5; total time=  12.3s\n",
      "[CV] END classification__C=100.0, over_sampling__sampling_strategy=0.3666666666666667, under_sampling__sampling_strategy=0.5; total time=  13.4s\n",
      "[CV] END classification__C=100.0, over_sampling__sampling_strategy=0.3666666666666667, under_sampling__sampling_strategy=0.5; total time=  11.1s\n",
      "[CV] END classification__C=100.0, over_sampling__sampling_strategy=0.5, under_sampling__sampling_strategy=0.1; total time=   8.2s\n",
      "[CV] END classification__C=100.0, over_sampling__sampling_strategy=0.5, under_sampling__sampling_strategy=0.1; total time=   7.7s\n",
      "[CV] END classification__C=100.0, over_sampling__sampling_strategy=0.5, under_sampling__sampling_strategy=0.1; total time=   6.8s\n",
      "[CV] END classification__C=100.0, over_sampling__sampling_strategy=0.5, under_sampling__sampling_strategy=0.23333333333333334; total time=   7.4s\n",
      "[CV] END classification__C=100.0, over_sampling__sampling_strategy=0.5, under_sampling__sampling_strategy=0.23333333333333334; total time=   9.1s\n",
      "[CV] END classification__C=100.0, over_sampling__sampling_strategy=0.5, under_sampling__sampling_strategy=0.23333333333333334; total time=   8.4s\n",
      "[CV] END classification__C=100.0, over_sampling__sampling_strategy=0.5, under_sampling__sampling_strategy=0.3666666666666667; total time=   7.4s\n",
      "[CV] END classification__C=100.0, over_sampling__sampling_strategy=0.5, under_sampling__sampling_strategy=0.3666666666666667; total time=   7.2s\n",
      "[CV] END classification__C=100.0, over_sampling__sampling_strategy=0.5, under_sampling__sampling_strategy=0.3666666666666667; total time=   7.7s\n",
      "[CV] END classification__C=100.0, over_sampling__sampling_strategy=0.5, under_sampling__sampling_strategy=0.5; total time=  14.3s\n",
      "[CV] END classification__C=100.0, over_sampling__sampling_strategy=0.5, under_sampling__sampling_strategy=0.5; total time=  14.3s\n",
      "[CV] END classification__C=100.0, over_sampling__sampling_strategy=0.5, under_sampling__sampling_strategy=0.5; total time=  15.8s\n"
     ]
    },
    {
     "name": "stderr",
     "output_type": "stream",
     "text": [
      "C:\\Users\\simon\\anaconda3\\lib\\site-packages\\sklearn\\model_selection\\_validation.py:372: FitFailedWarning: \n",
      "90 fits failed out of a total of 240.\n",
      "The score on these train-test partitions for these parameters will be set to nan.\n",
      "If these failures are not expected, you can try to debug them by setting error_score='raise'.\n",
      "\n",
      "Below are more details about the failures:\n",
      "--------------------------------------------------------------------------------\n",
      "90 fits failed with the following error:\n",
      "Traceback (most recent call last):\n",
      "  File \"C:\\Users\\simon\\anaconda3\\lib\\site-packages\\sklearn\\model_selection\\_validation.py\", line 680, in _fit_and_score\n",
      "    estimator.fit(X_train, y_train, **fit_params)\n",
      "  File \"C:\\Users\\simon\\anaconda3\\lib\\site-packages\\imblearn\\pipeline.py\", line 268, in fit\n",
      "    Xt, yt = self._fit(X, y, **fit_params_steps)\n",
      "  File \"C:\\Users\\simon\\anaconda3\\lib\\site-packages\\imblearn\\pipeline.py\", line 226, in _fit\n",
      "    X, y, fitted_transformer = fit_resample_one_cached(\n",
      "  File \"C:\\Users\\simon\\anaconda3\\lib\\site-packages\\joblib\\memory.py\", line 349, in __call__\n",
      "    return self.func(*args, **kwargs)\n",
      "  File \"C:\\Users\\simon\\anaconda3\\lib\\site-packages\\imblearn\\pipeline.py\", line 394, in _fit_resample_one\n",
      "    X_res, y_res = sampler.fit_resample(X, y, **fit_params)\n",
      "  File \"C:\\Users\\simon\\anaconda3\\lib\\site-packages\\imblearn\\base.py\", line 79, in fit_resample\n",
      "    self.sampling_strategy_ = check_sampling_strategy(\n",
      "  File \"C:\\Users\\simon\\anaconda3\\lib\\site-packages\\imblearn\\utils\\_validation.py\", line 534, in check_sampling_strategy\n",
      "    _sampling_strategy_float(sampling_strategy, y, sampling_type).items()\n",
      "  File \"C:\\Users\\simon\\anaconda3\\lib\\site-packages\\imblearn\\utils\\_validation.py\", line 393, in _sampling_strategy_float\n",
      "    raise ValueError(\n",
      "ValueError: The specified ratio required to generate new sample in the majority class while trying to remove samples. Please increase the ratio.\n",
      "\n",
      "  warnings.warn(some_fits_failed_message, FitFailedWarning)\n",
      "C:\\Users\\simon\\anaconda3\\lib\\site-packages\\sklearn\\model_selection\\_search.py:969: UserWarning: One or more of the test scores are non-finite: [1.00641084e-05 2.69504221e-03 1.42118129e-02 3.94987801e-02\n",
      "            nan 3.53427914e-03 1.91990025e-02 4.50912623e-02\n",
      "            nan            nan 2.04411827e-02 4.77812607e-02\n",
      "            nan            nan            nan 4.83171807e-02\n",
      " 2.01306479e-05 3.08297429e-03 1.55592117e-02 4.23925164e-02\n",
      "            nan 3.83037127e-03 2.04619733e-02 4.77788079e-02\n",
      "            nan            nan 2.27771458e-02 4.81530056e-02\n",
      "            nan            nan            nan 4.91992135e-02\n",
      " 1.00641084e-05 3.08346801e-03 1.68216612e-02 4.19564243e-02\n",
      "            nan 3.87240925e-03 2.00768027e-02 4.87012549e-02\n",
      "            nan            nan 2.16669417e-02 4.97070957e-02\n",
      "            nan            nan            nan 4.88451768e-02\n",
      " 1.00641084e-05 2.93977358e-03 1.70700672e-02 4.38536573e-02\n",
      "            nan 3.73746026e-03 2.03287840e-02 4.77554137e-02\n",
      "            nan            nan 2.21214837e-02 4.84495478e-02\n",
      "            nan            nan            nan 4.91978681e-02\n",
      " 2.01263939e-05 3.29828907e-03 1.73541656e-02 4.26429467e-02\n",
      "            nan 3.77108142e-03 2.03212388e-02 4.65084552e-02\n",
      "            nan            nan 2.14215225e-02 4.86876470e-02\n",
      "            nan            nan            nan 4.92607990e-02]\n",
      "  warnings.warn(\n"
     ]
    },
    {
     "name": "stdout",
     "output_type": "stream",
     "text": [
      "Cross-validation score: 0.04970709565511731\n",
      "Test score: 0.04837474006785597\n",
      "time taken : 2335.7592947483063 seconds\n",
      "\n",
      " -------  \n",
      "\n"
     ]
    }
   ],
   "source": [
    "model_logreg = LogisticRegression()\n",
    "\n",
    "start_time = time.time()\n",
    "\n",
    "param_grid = {\n",
    "    \"over_sampling__sampling_strategy\" : np.linspace(0.1,0.5,4),\n",
    "    \"under_sampling__sampling_strategy\" : np.linspace(0.1,0.5,4)\n",
    "}\n",
    "\n",
    "pca = PCA(n_components = 30)  #90% of explained variance\n",
    "\n",
    "over_sampling = SMOTE()\n",
    "under_sampling = RandomUnderSampler()\n",
    "\n",
    "steps = [('over_sampling', over_sampling), ('under_sampling', under_sampling),\n",
    "         (\"pca\", pca),\n",
    "         ('classification', model_logreg)]\n",
    "\n",
    "param_grid.update(params_logistic_reg) #Concacenate 2 dicts\n",
    "\n",
    "model_pipeline = Pipeline(steps=steps)\n",
    "\n",
    "stratified_kfold = StratifiedKFold(n_splits=3,\n",
    "                                   shuffle=True,\n",
    "                                   random_state=11)\n",
    "\n",
    "grid_search_logreg = GridSearchCV(estimator=model_pipeline,\n",
    "                                 param_grid=param_grid,\n",
    "                                 scoring=custom_score,\n",
    "                                 cv=stratified_kfold,\n",
    "                                 n_jobs=1,\n",
    "                                 verbose = 2)\n",
    "\n",
    "grid_search_logreg.fit(X_train, y_train)\n",
    "\n",
    "cv_score = grid_search_logreg.best_score_\n",
    "list_scores.append(cv_score)\n",
    "list_best_estimators.append(grid_search_logreg.best_estimator_)\n",
    "test_score = grid_search_logreg.score(X_test, y_test)\n",
    "\n",
    "\n",
    "print(f'Cross-validation score: {cv_score}\\nTest score: {test_score}')\n",
    "print(\"time taken : %s seconds\" % (time.time() - start_time))\n",
    "print(\"\\n -------  \\n\")"
   ],
   "metadata": {
    "collapsed": false,
    "pycharm": {
     "name": "#%%\n"
    }
   }
  },
  {
   "cell_type": "markdown",
   "source": [
    "### Entraînement de Random Forest Classifier"
   ],
   "metadata": {
    "collapsed": false,
    "pycharm": {
     "name": "#%% md\n"
    }
   }
  },
  {
   "cell_type": "code",
   "execution_count": 21,
   "outputs": [
    {
     "name": "stdout",
     "output_type": "stream",
     "text": [
      "Fitting 3 folds for each of 80 candidates, totalling 240 fits\n",
      "[CV] END classification__n_estimators=10, over_sampling__sampling_strategy=0.1, under_sampling__sampling_strategy=0.1; total time=  32.3s\n",
      "[CV] END classification__n_estimators=10, over_sampling__sampling_strategy=0.1, under_sampling__sampling_strategy=0.1; total time=  26.7s\n",
      "[CV] END classification__n_estimators=10, over_sampling__sampling_strategy=0.1, under_sampling__sampling_strategy=0.1; total time=  26.5s\n",
      "[CV] END classification__n_estimators=10, over_sampling__sampling_strategy=0.1, under_sampling__sampling_strategy=0.23333333333333334; total time=  15.1s\n",
      "[CV] END classification__n_estimators=10, over_sampling__sampling_strategy=0.1, under_sampling__sampling_strategy=0.23333333333333334; total time=  14.5s\n",
      "[CV] END classification__n_estimators=10, over_sampling__sampling_strategy=0.1, under_sampling__sampling_strategy=0.23333333333333334; total time=  14.6s\n",
      "[CV] END classification__n_estimators=10, over_sampling__sampling_strategy=0.1, under_sampling__sampling_strategy=0.3666666666666667; total time=  12.2s\n",
      "[CV] END classification__n_estimators=10, over_sampling__sampling_strategy=0.1, under_sampling__sampling_strategy=0.3666666666666667; total time=  11.9s\n",
      "[CV] END classification__n_estimators=10, over_sampling__sampling_strategy=0.1, under_sampling__sampling_strategy=0.3666666666666667; total time=  11.6s\n",
      "[CV] END classification__n_estimators=10, over_sampling__sampling_strategy=0.1, under_sampling__sampling_strategy=0.5; total time=  10.4s\n",
      "[CV] END classification__n_estimators=10, over_sampling__sampling_strategy=0.1, under_sampling__sampling_strategy=0.5; total time=  11.2s\n",
      "[CV] END classification__n_estimators=10, over_sampling__sampling_strategy=0.1, under_sampling__sampling_strategy=0.5; total time=  10.7s\n",
      "[CV] END classification__n_estimators=10, over_sampling__sampling_strategy=0.23333333333333334, under_sampling__sampling_strategy=0.1; total time=   6.7s\n",
      "[CV] END classification__n_estimators=10, over_sampling__sampling_strategy=0.23333333333333334, under_sampling__sampling_strategy=0.1; total time=   8.2s\n",
      "[CV] END classification__n_estimators=10, over_sampling__sampling_strategy=0.23333333333333334, under_sampling__sampling_strategy=0.1; total time=   8.0s\n",
      "[CV] END classification__n_estimators=10, over_sampling__sampling_strategy=0.23333333333333334, under_sampling__sampling_strategy=0.23333333333333334; total time=  28.1s\n",
      "[CV] END classification__n_estimators=10, over_sampling__sampling_strategy=0.23333333333333334, under_sampling__sampling_strategy=0.23333333333333334; total time=  27.1s\n",
      "[CV] END classification__n_estimators=10, over_sampling__sampling_strategy=0.23333333333333334, under_sampling__sampling_strategy=0.23333333333333334; total time=  27.7s\n",
      "[CV] END classification__n_estimators=10, over_sampling__sampling_strategy=0.23333333333333334, under_sampling__sampling_strategy=0.3666666666666667; total time=  20.9s\n",
      "[CV] END classification__n_estimators=10, over_sampling__sampling_strategy=0.23333333333333334, under_sampling__sampling_strategy=0.3666666666666667; total time=  20.2s\n",
      "[CV] END classification__n_estimators=10, over_sampling__sampling_strategy=0.23333333333333334, under_sampling__sampling_strategy=0.3666666666666667; total time=  20.0s\n",
      "[CV] END classification__n_estimators=10, over_sampling__sampling_strategy=0.23333333333333334, under_sampling__sampling_strategy=0.5; total time=  16.6s\n",
      "[CV] END classification__n_estimators=10, over_sampling__sampling_strategy=0.23333333333333334, under_sampling__sampling_strategy=0.5; total time=  17.0s\n",
      "[CV] END classification__n_estimators=10, over_sampling__sampling_strategy=0.23333333333333334, under_sampling__sampling_strategy=0.5; total time=  17.1s\n",
      "[CV] END classification__n_estimators=10, over_sampling__sampling_strategy=0.3666666666666667, under_sampling__sampling_strategy=0.1; total time=   6.9s\n",
      "[CV] END classification__n_estimators=10, over_sampling__sampling_strategy=0.3666666666666667, under_sampling__sampling_strategy=0.1; total time=   7.2s\n",
      "[CV] END classification__n_estimators=10, over_sampling__sampling_strategy=0.3666666666666667, under_sampling__sampling_strategy=0.1; total time=   6.4s\n",
      "[CV] END classification__n_estimators=10, over_sampling__sampling_strategy=0.3666666666666667, under_sampling__sampling_strategy=0.23333333333333334; total time=   6.6s\n",
      "[CV] END classification__n_estimators=10, over_sampling__sampling_strategy=0.3666666666666667, under_sampling__sampling_strategy=0.23333333333333334; total time=   6.6s\n",
      "[CV] END classification__n_estimators=10, over_sampling__sampling_strategy=0.3666666666666667, under_sampling__sampling_strategy=0.23333333333333334; total time=   6.5s\n",
      "[CV] END classification__n_estimators=10, over_sampling__sampling_strategy=0.3666666666666667, under_sampling__sampling_strategy=0.3666666666666667; total time=  30.1s\n",
      "[CV] END classification__n_estimators=10, over_sampling__sampling_strategy=0.3666666666666667, under_sampling__sampling_strategy=0.3666666666666667; total time=  29.7s\n",
      "[CV] END classification__n_estimators=10, over_sampling__sampling_strategy=0.3666666666666667, under_sampling__sampling_strategy=0.3666666666666667; total time=  27.7s\n",
      "[CV] END classification__n_estimators=10, over_sampling__sampling_strategy=0.3666666666666667, under_sampling__sampling_strategy=0.5; total time=  24.6s\n",
      "[CV] END classification__n_estimators=10, over_sampling__sampling_strategy=0.3666666666666667, under_sampling__sampling_strategy=0.5; total time=  24.3s\n",
      "[CV] END classification__n_estimators=10, over_sampling__sampling_strategy=0.3666666666666667, under_sampling__sampling_strategy=0.5; total time=  24.1s\n",
      "[CV] END classification__n_estimators=10, over_sampling__sampling_strategy=0.5, under_sampling__sampling_strategy=0.1; total time=   6.6s\n",
      "[CV] END classification__n_estimators=10, over_sampling__sampling_strategy=0.5, under_sampling__sampling_strategy=0.1; total time=   6.9s\n",
      "[CV] END classification__n_estimators=10, over_sampling__sampling_strategy=0.5, under_sampling__sampling_strategy=0.1; total time=   6.9s\n",
      "[CV] END classification__n_estimators=10, over_sampling__sampling_strategy=0.5, under_sampling__sampling_strategy=0.23333333333333334; total time=   6.8s\n",
      "[CV] END classification__n_estimators=10, over_sampling__sampling_strategy=0.5, under_sampling__sampling_strategy=0.23333333333333334; total time=   6.7s\n",
      "[CV] END classification__n_estimators=10, over_sampling__sampling_strategy=0.5, under_sampling__sampling_strategy=0.23333333333333334; total time=   6.5s\n",
      "[CV] END classification__n_estimators=10, over_sampling__sampling_strategy=0.5, under_sampling__sampling_strategy=0.3666666666666667; total time=   7.2s\n",
      "[CV] END classification__n_estimators=10, over_sampling__sampling_strategy=0.5, under_sampling__sampling_strategy=0.3666666666666667; total time=   6.9s\n",
      "[CV] END classification__n_estimators=10, over_sampling__sampling_strategy=0.5, under_sampling__sampling_strategy=0.3666666666666667; total time=   6.7s\n",
      "[CV] END classification__n_estimators=10, over_sampling__sampling_strategy=0.5, under_sampling__sampling_strategy=0.5; total time=  31.1s\n",
      "[CV] END classification__n_estimators=10, over_sampling__sampling_strategy=0.5, under_sampling__sampling_strategy=0.5; total time=  31.5s\n",
      "[CV] END classification__n_estimators=10, over_sampling__sampling_strategy=0.5, under_sampling__sampling_strategy=0.5; total time=  32.1s\n",
      "[CV] END classification__n_estimators=50, over_sampling__sampling_strategy=0.1, under_sampling__sampling_strategy=0.1; total time= 1.6min\n",
      "[CV] END classification__n_estimators=50, over_sampling__sampling_strategy=0.1, under_sampling__sampling_strategy=0.1; total time= 1.6min\n",
      "[CV] END classification__n_estimators=50, over_sampling__sampling_strategy=0.1, under_sampling__sampling_strategy=0.1; total time= 1.5min\n",
      "[CV] END classification__n_estimators=50, over_sampling__sampling_strategy=0.1, under_sampling__sampling_strategy=0.23333333333333334; total time=  41.1s\n",
      "[CV] END classification__n_estimators=50, over_sampling__sampling_strategy=0.1, under_sampling__sampling_strategy=0.23333333333333334; total time=  40.5s\n",
      "[CV] END classification__n_estimators=50, over_sampling__sampling_strategy=0.1, under_sampling__sampling_strategy=0.23333333333333334; total time=  39.8s\n",
      "[CV] END classification__n_estimators=50, over_sampling__sampling_strategy=0.1, under_sampling__sampling_strategy=0.3666666666666667; total time=  28.2s\n",
      "[CV] END classification__n_estimators=50, over_sampling__sampling_strategy=0.1, under_sampling__sampling_strategy=0.3666666666666667; total time=  29.0s\n",
      "[CV] END classification__n_estimators=50, over_sampling__sampling_strategy=0.1, under_sampling__sampling_strategy=0.3666666666666667; total time=  30.7s\n",
      "[CV] END classification__n_estimators=50, over_sampling__sampling_strategy=0.1, under_sampling__sampling_strategy=0.5; total time=  27.3s\n",
      "[CV] END classification__n_estimators=50, over_sampling__sampling_strategy=0.1, under_sampling__sampling_strategy=0.5; total time=  31.1s\n",
      "[CV] END classification__n_estimators=50, over_sampling__sampling_strategy=0.1, under_sampling__sampling_strategy=0.5; total time=  30.8s\n",
      "[CV] END classification__n_estimators=50, over_sampling__sampling_strategy=0.23333333333333334, under_sampling__sampling_strategy=0.1; total time=   7.0s\n",
      "[CV] END classification__n_estimators=50, over_sampling__sampling_strategy=0.23333333333333334, under_sampling__sampling_strategy=0.1; total time=   8.4s\n",
      "[CV] END classification__n_estimators=50, over_sampling__sampling_strategy=0.23333333333333334, under_sampling__sampling_strategy=0.1; total time=   7.6s\n",
      "[CV] END classification__n_estimators=50, over_sampling__sampling_strategy=0.23333333333333334, under_sampling__sampling_strategy=0.23333333333333334; total time= 1.6min\n",
      "[CV] END classification__n_estimators=50, over_sampling__sampling_strategy=0.23333333333333334, under_sampling__sampling_strategy=0.23333333333333334; total time= 1.5min\n",
      "[CV] END classification__n_estimators=50, over_sampling__sampling_strategy=0.23333333333333334, under_sampling__sampling_strategy=0.23333333333333334; total time= 1.6min\n",
      "[CV] END classification__n_estimators=50, over_sampling__sampling_strategy=0.23333333333333334, under_sampling__sampling_strategy=0.3666666666666667; total time= 1.1min\n",
      "[CV] END classification__n_estimators=50, over_sampling__sampling_strategy=0.23333333333333334, under_sampling__sampling_strategy=0.3666666666666667; total time= 1.1min\n",
      "[CV] END classification__n_estimators=50, over_sampling__sampling_strategy=0.23333333333333334, under_sampling__sampling_strategy=0.3666666666666667; total time= 1.0min\n",
      "[CV] END classification__n_estimators=50, over_sampling__sampling_strategy=0.23333333333333334, under_sampling__sampling_strategy=0.5; total time=  56.7s\n",
      "[CV] END classification__n_estimators=50, over_sampling__sampling_strategy=0.23333333333333334, under_sampling__sampling_strategy=0.5; total time= 1.4min\n",
      "[CV] END classification__n_estimators=50, over_sampling__sampling_strategy=0.23333333333333334, under_sampling__sampling_strategy=0.5; total time= 1.3min\n",
      "[CV] END classification__n_estimators=50, over_sampling__sampling_strategy=0.3666666666666667, under_sampling__sampling_strategy=0.1; total time=  10.0s\n",
      "[CV] END classification__n_estimators=50, over_sampling__sampling_strategy=0.3666666666666667, under_sampling__sampling_strategy=0.1; total time=  10.8s\n",
      "[CV] END classification__n_estimators=50, over_sampling__sampling_strategy=0.3666666666666667, under_sampling__sampling_strategy=0.1; total time=  11.4s\n",
      "[CV] END classification__n_estimators=50, over_sampling__sampling_strategy=0.3666666666666667, under_sampling__sampling_strategy=0.23333333333333334; total time=  11.9s\n",
      "[CV] END classification__n_estimators=50, over_sampling__sampling_strategy=0.3666666666666667, under_sampling__sampling_strategy=0.23333333333333334; total time=  13.3s\n",
      "[CV] END classification__n_estimators=50, over_sampling__sampling_strategy=0.3666666666666667, under_sampling__sampling_strategy=0.23333333333333334; total time=  12.0s\n",
      "[CV] END classification__n_estimators=50, over_sampling__sampling_strategy=0.3666666666666667, under_sampling__sampling_strategy=0.3666666666666667; total time= 3.5min\n",
      "[CV] END classification__n_estimators=50, over_sampling__sampling_strategy=0.3666666666666667, under_sampling__sampling_strategy=0.3666666666666667; total time= 3.4min\n",
      "[CV] END classification__n_estimators=50, over_sampling__sampling_strategy=0.3666666666666667, under_sampling__sampling_strategy=0.3666666666666667; total time= 3.4min\n",
      "[CV] END classification__n_estimators=50, over_sampling__sampling_strategy=0.3666666666666667, under_sampling__sampling_strategy=0.5; total time= 2.8min\n",
      "[CV] END classification__n_estimators=50, over_sampling__sampling_strategy=0.3666666666666667, under_sampling__sampling_strategy=0.5; total time= 2.8min\n",
      "[CV] END classification__n_estimators=50, over_sampling__sampling_strategy=0.3666666666666667, under_sampling__sampling_strategy=0.5; total time= 2.8min\n",
      "[CV] END classification__n_estimators=50, over_sampling__sampling_strategy=0.5, under_sampling__sampling_strategy=0.1; total time=  13.3s\n",
      "[CV] END classification__n_estimators=50, over_sampling__sampling_strategy=0.5, under_sampling__sampling_strategy=0.1; total time=  12.7s\n",
      "[CV] END classification__n_estimators=50, over_sampling__sampling_strategy=0.5, under_sampling__sampling_strategy=0.1; total time=  12.0s\n",
      "[CV] END classification__n_estimators=50, over_sampling__sampling_strategy=0.5, under_sampling__sampling_strategy=0.23333333333333334; total time=  12.0s\n",
      "[CV] END classification__n_estimators=50, over_sampling__sampling_strategy=0.5, under_sampling__sampling_strategy=0.23333333333333334; total time=  12.1s\n",
      "[CV] END classification__n_estimators=50, over_sampling__sampling_strategy=0.5, under_sampling__sampling_strategy=0.23333333333333334; total time=  13.1s\n",
      "[CV] END classification__n_estimators=50, over_sampling__sampling_strategy=0.5, under_sampling__sampling_strategy=0.3666666666666667; total time=  12.5s\n",
      "[CV] END classification__n_estimators=50, over_sampling__sampling_strategy=0.5, under_sampling__sampling_strategy=0.3666666666666667; total time=  12.9s\n",
      "[CV] END classification__n_estimators=50, over_sampling__sampling_strategy=0.5, under_sampling__sampling_strategy=0.3666666666666667; total time=  12.3s\n",
      "[CV] END classification__n_estimators=50, over_sampling__sampling_strategy=0.5, under_sampling__sampling_strategy=0.5; total time= 4.0min\n",
      "[CV] END classification__n_estimators=50, over_sampling__sampling_strategy=0.5, under_sampling__sampling_strategy=0.5; total time= 3.1min\n",
      "[CV] END classification__n_estimators=50, over_sampling__sampling_strategy=0.5, under_sampling__sampling_strategy=0.5; total time= 3.9min\n",
      "[CV] END classification__n_estimators=100, over_sampling__sampling_strategy=0.1, under_sampling__sampling_strategy=0.1; total time= 6.5min\n",
      "[CV] END classification__n_estimators=100, over_sampling__sampling_strategy=0.1, under_sampling__sampling_strategy=0.1; total time= 6.6min\n",
      "[CV] END classification__n_estimators=100, over_sampling__sampling_strategy=0.1, under_sampling__sampling_strategy=0.1; total time= 5.2min\n",
      "[CV] END classification__n_estimators=100, over_sampling__sampling_strategy=0.1, under_sampling__sampling_strategy=0.23333333333333334; total time= 2.0min\n",
      "[CV] END classification__n_estimators=100, over_sampling__sampling_strategy=0.1, under_sampling__sampling_strategy=0.23333333333333334; total time= 2.6min\n",
      "[CV] END classification__n_estimators=100, over_sampling__sampling_strategy=0.1, under_sampling__sampling_strategy=0.23333333333333334; total time= 2.6min\n",
      "[CV] END classification__n_estimators=100, over_sampling__sampling_strategy=0.1, under_sampling__sampling_strategy=0.3666666666666667; total time= 1.7min\n",
      "[CV] END classification__n_estimators=100, over_sampling__sampling_strategy=0.1, under_sampling__sampling_strategy=0.3666666666666667; total time= 1.8min\n",
      "[CV] END classification__n_estimators=100, over_sampling__sampling_strategy=0.1, under_sampling__sampling_strategy=0.3666666666666667; total time= 1.8min\n",
      "[CV] END classification__n_estimators=100, over_sampling__sampling_strategy=0.1, under_sampling__sampling_strategy=0.5; total time= 1.5min\n",
      "[CV] END classification__n_estimators=100, over_sampling__sampling_strategy=0.1, under_sampling__sampling_strategy=0.5; total time= 1.4min\n",
      "[CV] END classification__n_estimators=100, over_sampling__sampling_strategy=0.1, under_sampling__sampling_strategy=0.5; total time= 1.2min\n",
      "[CV] END classification__n_estimators=100, over_sampling__sampling_strategy=0.23333333333333334, under_sampling__sampling_strategy=0.1; total time=   8.2s\n",
      "[CV] END classification__n_estimators=100, over_sampling__sampling_strategy=0.23333333333333334, under_sampling__sampling_strategy=0.1; total time=   7.9s\n",
      "[CV] END classification__n_estimators=100, over_sampling__sampling_strategy=0.23333333333333334, under_sampling__sampling_strategy=0.1; total time=   8.6s\n",
      "[CV] END classification__n_estimators=100, over_sampling__sampling_strategy=0.23333333333333334, under_sampling__sampling_strategy=0.23333333333333334; total time= 3.5min\n",
      "[CV] END classification__n_estimators=100, over_sampling__sampling_strategy=0.23333333333333334, under_sampling__sampling_strategy=0.23333333333333334; total time= 3.1min\n",
      "[CV] END classification__n_estimators=100, over_sampling__sampling_strategy=0.23333333333333334, under_sampling__sampling_strategy=0.23333333333333334; total time= 3.0min\n",
      "[CV] END classification__n_estimators=100, over_sampling__sampling_strategy=0.23333333333333334, under_sampling__sampling_strategy=0.3666666666666667; total time= 2.0min\n",
      "[CV] END classification__n_estimators=100, over_sampling__sampling_strategy=0.23333333333333334, under_sampling__sampling_strategy=0.3666666666666667; total time= 1.8min\n",
      "[CV] END classification__n_estimators=100, over_sampling__sampling_strategy=0.23333333333333334, under_sampling__sampling_strategy=0.3666666666666667; total time= 1.8min\n",
      "[CV] END classification__n_estimators=100, over_sampling__sampling_strategy=0.23333333333333334, under_sampling__sampling_strategy=0.5; total time= 1.5min\n",
      "[CV] END classification__n_estimators=100, over_sampling__sampling_strategy=0.23333333333333334, under_sampling__sampling_strategy=0.5; total time= 1.4min\n",
      "[CV] END classification__n_estimators=100, over_sampling__sampling_strategy=0.23333333333333334, under_sampling__sampling_strategy=0.5; total time= 1.4min\n",
      "[CV] END classification__n_estimators=100, over_sampling__sampling_strategy=0.3666666666666667, under_sampling__sampling_strategy=0.1; total time=   6.7s\n",
      "[CV] END classification__n_estimators=100, over_sampling__sampling_strategy=0.3666666666666667, under_sampling__sampling_strategy=0.1; total time=   6.2s\n",
      "[CV] END classification__n_estimators=100, over_sampling__sampling_strategy=0.3666666666666667, under_sampling__sampling_strategy=0.1; total time=   6.2s\n",
      "[CV] END classification__n_estimators=100, over_sampling__sampling_strategy=0.3666666666666667, under_sampling__sampling_strategy=0.23333333333333334; total time=   6.8s\n",
      "[CV] END classification__n_estimators=100, over_sampling__sampling_strategy=0.3666666666666667, under_sampling__sampling_strategy=0.23333333333333334; total time=   7.2s\n",
      "[CV] END classification__n_estimators=100, over_sampling__sampling_strategy=0.3666666666666667, under_sampling__sampling_strategy=0.23333333333333334; total time=   6.3s\n",
      "[CV] END classification__n_estimators=100, over_sampling__sampling_strategy=0.3666666666666667, under_sampling__sampling_strategy=0.3666666666666667; total time= 3.0min\n",
      "[CV] END classification__n_estimators=100, over_sampling__sampling_strategy=0.3666666666666667, under_sampling__sampling_strategy=0.3666666666666667; total time= 3.0min\n",
      "[CV] END classification__n_estimators=100, over_sampling__sampling_strategy=0.3666666666666667, under_sampling__sampling_strategy=0.3666666666666667; total time= 3.0min\n",
      "[CV] END classification__n_estimators=100, over_sampling__sampling_strategy=0.3666666666666667, under_sampling__sampling_strategy=0.5; total time= 2.4min\n",
      "[CV] END classification__n_estimators=100, over_sampling__sampling_strategy=0.3666666666666667, under_sampling__sampling_strategy=0.5; total time= 2.3min\n",
      "[CV] END classification__n_estimators=100, over_sampling__sampling_strategy=0.3666666666666667, under_sampling__sampling_strategy=0.5; total time= 2.3min\n",
      "[CV] END classification__n_estimators=100, over_sampling__sampling_strategy=0.5, under_sampling__sampling_strategy=0.1; total time=   7.8s\n",
      "[CV] END classification__n_estimators=100, over_sampling__sampling_strategy=0.5, under_sampling__sampling_strategy=0.1; total time=   6.7s\n",
      "[CV] END classification__n_estimators=100, over_sampling__sampling_strategy=0.5, under_sampling__sampling_strategy=0.1; total time=   6.2s\n",
      "[CV] END classification__n_estimators=100, over_sampling__sampling_strategy=0.5, under_sampling__sampling_strategy=0.23333333333333334; total time=   6.9s\n",
      "[CV] END classification__n_estimators=100, over_sampling__sampling_strategy=0.5, under_sampling__sampling_strategy=0.23333333333333334; total time=   6.7s\n",
      "[CV] END classification__n_estimators=100, over_sampling__sampling_strategy=0.5, under_sampling__sampling_strategy=0.23333333333333334; total time=   6.6s\n",
      "[CV] END classification__n_estimators=100, over_sampling__sampling_strategy=0.5, under_sampling__sampling_strategy=0.3666666666666667; total time=   6.4s\n",
      "[CV] END classification__n_estimators=100, over_sampling__sampling_strategy=0.5, under_sampling__sampling_strategy=0.3666666666666667; total time=   6.6s\n",
      "[CV] END classification__n_estimators=100, over_sampling__sampling_strategy=0.5, under_sampling__sampling_strategy=0.3666666666666667; total time=   6.7s\n",
      "[CV] END classification__n_estimators=100, over_sampling__sampling_strategy=0.5, under_sampling__sampling_strategy=0.5; total time= 3.4min\n",
      "[CV] END classification__n_estimators=100, over_sampling__sampling_strategy=0.5, under_sampling__sampling_strategy=0.5; total time= 3.3min\n",
      "[CV] END classification__n_estimators=100, over_sampling__sampling_strategy=0.5, under_sampling__sampling_strategy=0.5; total time= 3.4min\n",
      "[CV] END classification__n_estimators=200, over_sampling__sampling_strategy=0.1, under_sampling__sampling_strategy=0.1; total time= 5.4min\n",
      "[CV] END classification__n_estimators=200, over_sampling__sampling_strategy=0.1, under_sampling__sampling_strategy=0.1; total time= 5.5min\n",
      "[CV] END classification__n_estimators=200, over_sampling__sampling_strategy=0.1, under_sampling__sampling_strategy=0.1; total time= 5.4min\n",
      "[CV] END classification__n_estimators=200, over_sampling__sampling_strategy=0.1, under_sampling__sampling_strategy=0.23333333333333334; total time= 2.2min\n",
      "[CV] END classification__n_estimators=200, over_sampling__sampling_strategy=0.1, under_sampling__sampling_strategy=0.23333333333333334; total time= 2.2min\n",
      "[CV] END classification__n_estimators=200, over_sampling__sampling_strategy=0.1, under_sampling__sampling_strategy=0.23333333333333334; total time= 2.1min\n",
      "[CV] END classification__n_estimators=200, over_sampling__sampling_strategy=0.1, under_sampling__sampling_strategy=0.3666666666666667; total time= 2.0min\n",
      "[CV] END classification__n_estimators=200, over_sampling__sampling_strategy=0.1, under_sampling__sampling_strategy=0.3666666666666667; total time= 3.0min\n",
      "[CV] END classification__n_estimators=200, over_sampling__sampling_strategy=0.1, under_sampling__sampling_strategy=0.3666666666666667; total time= 3.1min\n",
      "[CV] END classification__n_estimators=200, over_sampling__sampling_strategy=0.1, under_sampling__sampling_strategy=0.5; total time= 2.5min\n",
      "[CV] END classification__n_estimators=200, over_sampling__sampling_strategy=0.1, under_sampling__sampling_strategy=0.5; total time= 2.5min\n",
      "[CV] END classification__n_estimators=200, over_sampling__sampling_strategy=0.1, under_sampling__sampling_strategy=0.5; total time= 2.5min\n",
      "[CV] END classification__n_estimators=200, over_sampling__sampling_strategy=0.23333333333333334, under_sampling__sampling_strategy=0.1; total time=  11.7s\n",
      "[CV] END classification__n_estimators=200, over_sampling__sampling_strategy=0.23333333333333334, under_sampling__sampling_strategy=0.1; total time=  11.8s\n",
      "[CV] END classification__n_estimators=200, over_sampling__sampling_strategy=0.23333333333333334, under_sampling__sampling_strategy=0.1; total time=  12.1s\n",
      "[CV] END classification__n_estimators=200, over_sampling__sampling_strategy=0.23333333333333334, under_sampling__sampling_strategy=0.23333333333333334; total time= 9.8min\n",
      "[CV] END classification__n_estimators=200, over_sampling__sampling_strategy=0.23333333333333334, under_sampling__sampling_strategy=0.23333333333333334; total time= 9.7min\n",
      "[CV] END classification__n_estimators=200, over_sampling__sampling_strategy=0.23333333333333334, under_sampling__sampling_strategy=0.23333333333333334; total time=11.2min\n",
      "[CV] END classification__n_estimators=200, over_sampling__sampling_strategy=0.23333333333333334, under_sampling__sampling_strategy=0.3666666666666667; total time= 7.8min\n",
      "[CV] END classification__n_estimators=200, over_sampling__sampling_strategy=0.23333333333333334, under_sampling__sampling_strategy=0.3666666666666667; total time= 6.7min\n",
      "[CV] END classification__n_estimators=200, over_sampling__sampling_strategy=0.23333333333333334, under_sampling__sampling_strategy=0.3666666666666667; total time= 5.4min\n",
      "[CV] END classification__n_estimators=200, over_sampling__sampling_strategy=0.23333333333333334, under_sampling__sampling_strategy=0.5; total time= 5.8min\n",
      "[CV] END classification__n_estimators=200, over_sampling__sampling_strategy=0.23333333333333334, under_sampling__sampling_strategy=0.5; total time= 5.8min\n",
      "[CV] END classification__n_estimators=200, over_sampling__sampling_strategy=0.23333333333333334, under_sampling__sampling_strategy=0.5; total time= 5.7min\n",
      "[CV] END classification__n_estimators=200, over_sampling__sampling_strategy=0.3666666666666667, under_sampling__sampling_strategy=0.1; total time=  12.6s\n",
      "[CV] END classification__n_estimators=200, over_sampling__sampling_strategy=0.3666666666666667, under_sampling__sampling_strategy=0.1; total time=  12.3s\n",
      "[CV] END classification__n_estimators=200, over_sampling__sampling_strategy=0.3666666666666667, under_sampling__sampling_strategy=0.1; total time=  12.9s\n",
      "[CV] END classification__n_estimators=200, over_sampling__sampling_strategy=0.3666666666666667, under_sampling__sampling_strategy=0.23333333333333334; total time=  14.0s\n",
      "[CV] END classification__n_estimators=200, over_sampling__sampling_strategy=0.3666666666666667, under_sampling__sampling_strategy=0.23333333333333334; total time=  13.3s\n",
      "[CV] END classification__n_estimators=200, over_sampling__sampling_strategy=0.3666666666666667, under_sampling__sampling_strategy=0.23333333333333334; total time=  13.1s\n",
      "[CV] END classification__n_estimators=200, over_sampling__sampling_strategy=0.3666666666666667, under_sampling__sampling_strategy=0.3666666666666667; total time=10.3min\n",
      "[CV] END classification__n_estimators=200, over_sampling__sampling_strategy=0.3666666666666667, under_sampling__sampling_strategy=0.3666666666666667; total time= 6.7min\n",
      "[CV] END classification__n_estimators=200, over_sampling__sampling_strategy=0.3666666666666667, under_sampling__sampling_strategy=0.3666666666666667; total time= 5.9min\n",
      "[CV] END classification__n_estimators=200, over_sampling__sampling_strategy=0.3666666666666667, under_sampling__sampling_strategy=0.5; total time= 4.9min\n",
      "[CV] END classification__n_estimators=200, over_sampling__sampling_strategy=0.3666666666666667, under_sampling__sampling_strategy=0.5; total time= 4.7min\n",
      "[CV] END classification__n_estimators=200, over_sampling__sampling_strategy=0.3666666666666667, under_sampling__sampling_strategy=0.5; total time= 4.8min\n",
      "[CV] END classification__n_estimators=200, over_sampling__sampling_strategy=0.5, under_sampling__sampling_strategy=0.1; total time=   6.9s\n",
      "[CV] END classification__n_estimators=200, over_sampling__sampling_strategy=0.5, under_sampling__sampling_strategy=0.1; total time=   6.6s\n",
      "[CV] END classification__n_estimators=200, over_sampling__sampling_strategy=0.5, under_sampling__sampling_strategy=0.1; total time=   6.6s\n",
      "[CV] END classification__n_estimators=200, over_sampling__sampling_strategy=0.5, under_sampling__sampling_strategy=0.23333333333333334; total time=   7.0s\n",
      "[CV] END classification__n_estimators=200, over_sampling__sampling_strategy=0.5, under_sampling__sampling_strategy=0.23333333333333334; total time=   6.6s\n",
      "[CV] END classification__n_estimators=200, over_sampling__sampling_strategy=0.5, under_sampling__sampling_strategy=0.23333333333333334; total time=   6.3s\n",
      "[CV] END classification__n_estimators=200, over_sampling__sampling_strategy=0.5, under_sampling__sampling_strategy=0.3666666666666667; total time=   7.2s\n",
      "[CV] END classification__n_estimators=200, over_sampling__sampling_strategy=0.5, under_sampling__sampling_strategy=0.3666666666666667; total time=   6.9s\n",
      "[CV] END classification__n_estimators=200, over_sampling__sampling_strategy=0.5, under_sampling__sampling_strategy=0.3666666666666667; total time=   7.0s\n",
      "[CV] END classification__n_estimators=200, over_sampling__sampling_strategy=0.5, under_sampling__sampling_strategy=0.5; total time= 7.1min\n",
      "[CV] END classification__n_estimators=200, over_sampling__sampling_strategy=0.5, under_sampling__sampling_strategy=0.5; total time= 9.2min\n",
      "[CV] END classification__n_estimators=200, over_sampling__sampling_strategy=0.5, under_sampling__sampling_strategy=0.5; total time= 8.0min\n",
      "[CV] END classification__n_estimators=500, over_sampling__sampling_strategy=0.1, under_sampling__sampling_strategy=0.1; total time=14.8min\n",
      "[CV] END classification__n_estimators=500, over_sampling__sampling_strategy=0.1, under_sampling__sampling_strategy=0.1; total time=13.6min\n",
      "[CV] END classification__n_estimators=500, over_sampling__sampling_strategy=0.1, under_sampling__sampling_strategy=0.1; total time=12.8min\n",
      "[CV] END classification__n_estimators=500, over_sampling__sampling_strategy=0.1, under_sampling__sampling_strategy=0.23333333333333334; total time= 5.1min\n",
      "[CV] END classification__n_estimators=500, over_sampling__sampling_strategy=0.1, under_sampling__sampling_strategy=0.23333333333333334; total time= 5.2min\n",
      "[CV] END classification__n_estimators=500, over_sampling__sampling_strategy=0.1, under_sampling__sampling_strategy=0.23333333333333334; total time= 5.1min\n",
      "[CV] END classification__n_estimators=500, over_sampling__sampling_strategy=0.1, under_sampling__sampling_strategy=0.3666666666666667; total time= 3.4min\n",
      "[CV] END classification__n_estimators=500, over_sampling__sampling_strategy=0.1, under_sampling__sampling_strategy=0.3666666666666667; total time= 3.3min\n",
      "[CV] END classification__n_estimators=500, over_sampling__sampling_strategy=0.1, under_sampling__sampling_strategy=0.3666666666666667; total time= 3.3min\n",
      "[CV] END classification__n_estimators=500, over_sampling__sampling_strategy=0.1, under_sampling__sampling_strategy=0.5; total time= 2.6min\n",
      "[CV] END classification__n_estimators=500, over_sampling__sampling_strategy=0.1, under_sampling__sampling_strategy=0.5; total time= 2.6min\n",
      "[CV] END classification__n_estimators=500, over_sampling__sampling_strategy=0.1, under_sampling__sampling_strategy=0.5; total time= 2.5min\n",
      "[CV] END classification__n_estimators=500, over_sampling__sampling_strategy=0.23333333333333334, under_sampling__sampling_strategy=0.1; total time=   6.1s\n",
      "[CV] END classification__n_estimators=500, over_sampling__sampling_strategy=0.23333333333333334, under_sampling__sampling_strategy=0.1; total time=   5.6s\n",
      "[CV] END classification__n_estimators=500, over_sampling__sampling_strategy=0.23333333333333334, under_sampling__sampling_strategy=0.1; total time=   6.3s\n",
      "[CV] END classification__n_estimators=500, over_sampling__sampling_strategy=0.23333333333333334, under_sampling__sampling_strategy=0.23333333333333334; total time=12.2min\n",
      "[CV] END classification__n_estimators=500, over_sampling__sampling_strategy=0.23333333333333334, under_sampling__sampling_strategy=0.23333333333333334; total time=12.1min\n",
      "[CV] END classification__n_estimators=500, over_sampling__sampling_strategy=0.23333333333333334, under_sampling__sampling_strategy=0.23333333333333334; total time=12.0min\n",
      "[CV] END classification__n_estimators=500, over_sampling__sampling_strategy=0.23333333333333334, under_sampling__sampling_strategy=0.3666666666666667; total time= 8.1min\n",
      "[CV] END classification__n_estimators=500, over_sampling__sampling_strategy=0.23333333333333334, under_sampling__sampling_strategy=0.3666666666666667; total time= 8.1min\n",
      "[CV] END classification__n_estimators=500, over_sampling__sampling_strategy=0.23333333333333334, under_sampling__sampling_strategy=0.3666666666666667; total time= 8.0min\n",
      "[CV] END classification__n_estimators=500, over_sampling__sampling_strategy=0.23333333333333334, under_sampling__sampling_strategy=0.5; total time= 6.5min\n",
      "[CV] END classification__n_estimators=500, over_sampling__sampling_strategy=0.23333333333333334, under_sampling__sampling_strategy=0.5; total time= 6.7min\n",
      "[CV] END classification__n_estimators=500, over_sampling__sampling_strategy=0.23333333333333334, under_sampling__sampling_strategy=0.5; total time= 6.8min\n",
      "[CV] END classification__n_estimators=500, over_sampling__sampling_strategy=0.3666666666666667, under_sampling__sampling_strategy=0.1; total time=   6.2s\n",
      "[CV] END classification__n_estimators=500, over_sampling__sampling_strategy=0.3666666666666667, under_sampling__sampling_strategy=0.1; total time=   6.5s\n",
      "[CV] END classification__n_estimators=500, over_sampling__sampling_strategy=0.3666666666666667, under_sampling__sampling_strategy=0.1; total time=   6.9s\n",
      "[CV] END classification__n_estimators=500, over_sampling__sampling_strategy=0.3666666666666667, under_sampling__sampling_strategy=0.23333333333333334; total time=   6.2s\n",
      "[CV] END classification__n_estimators=500, over_sampling__sampling_strategy=0.3666666666666667, under_sampling__sampling_strategy=0.23333333333333334; total time=   6.4s\n",
      "[CV] END classification__n_estimators=500, over_sampling__sampling_strategy=0.3666666666666667, under_sampling__sampling_strategy=0.23333333333333334; total time=   6.5s\n",
      "[CV] END classification__n_estimators=500, over_sampling__sampling_strategy=0.3666666666666667, under_sampling__sampling_strategy=0.3666666666666667; total time=15.3min\n",
      "[CV] END classification__n_estimators=500, over_sampling__sampling_strategy=0.3666666666666667, under_sampling__sampling_strategy=0.3666666666666667; total time=17.1min\n",
      "[CV] END classification__n_estimators=500, over_sampling__sampling_strategy=0.3666666666666667, under_sampling__sampling_strategy=0.3666666666666667; total time=17.6min\n",
      "[CV] END classification__n_estimators=500, over_sampling__sampling_strategy=0.3666666666666667, under_sampling__sampling_strategy=0.5; total time=13.5min\n",
      "[CV] END classification__n_estimators=500, over_sampling__sampling_strategy=0.3666666666666667, under_sampling__sampling_strategy=0.5; total time=14.1min\n",
      "[CV] END classification__n_estimators=500, over_sampling__sampling_strategy=0.3666666666666667, under_sampling__sampling_strategy=0.5; total time=11.1min\n",
      "[CV] END classification__n_estimators=500, over_sampling__sampling_strategy=0.5, under_sampling__sampling_strategy=0.1; total time=   6.4s\n",
      "[CV] END classification__n_estimators=500, over_sampling__sampling_strategy=0.5, under_sampling__sampling_strategy=0.1; total time=   6.5s\n",
      "[CV] END classification__n_estimators=500, over_sampling__sampling_strategy=0.5, under_sampling__sampling_strategy=0.1; total time=   6.5s\n",
      "[CV] END classification__n_estimators=500, over_sampling__sampling_strategy=0.5, under_sampling__sampling_strategy=0.23333333333333334; total time=   6.4s\n",
      "[CV] END classification__n_estimators=500, over_sampling__sampling_strategy=0.5, under_sampling__sampling_strategy=0.23333333333333334; total time=   6.3s\n",
      "[CV] END classification__n_estimators=500, over_sampling__sampling_strategy=0.5, under_sampling__sampling_strategy=0.23333333333333334; total time=   6.6s\n",
      "[CV] END classification__n_estimators=500, over_sampling__sampling_strategy=0.5, under_sampling__sampling_strategy=0.3666666666666667; total time=   6.6s\n",
      "[CV] END classification__n_estimators=500, over_sampling__sampling_strategy=0.5, under_sampling__sampling_strategy=0.3666666666666667; total time=   6.5s\n",
      "[CV] END classification__n_estimators=500, over_sampling__sampling_strategy=0.5, under_sampling__sampling_strategy=0.3666666666666667; total time=   6.4s\n",
      "[CV] END classification__n_estimators=500, over_sampling__sampling_strategy=0.5, under_sampling__sampling_strategy=0.5; total time=15.4min\n",
      "[CV] END classification__n_estimators=500, over_sampling__sampling_strategy=0.5, under_sampling__sampling_strategy=0.5; total time=15.0min\n",
      "[CV] END classification__n_estimators=500, over_sampling__sampling_strategy=0.5, under_sampling__sampling_strategy=0.5; total time=14.9min\n"
     ]
    },
    {
     "name": "stderr",
     "output_type": "stream",
     "text": [
      "C:\\Users\\simon\\anaconda3\\lib\\site-packages\\sklearn\\model_selection\\_validation.py:372: FitFailedWarning: \n",
      "90 fits failed out of a total of 240.\n",
      "The score on these train-test partitions for these parameters will be set to nan.\n",
      "If these failures are not expected, you can try to debug them by setting error_score='raise'.\n",
      "\n",
      "Below are more details about the failures:\n",
      "--------------------------------------------------------------------------------\n",
      "90 fits failed with the following error:\n",
      "Traceback (most recent call last):\n",
      "  File \"C:\\Users\\simon\\anaconda3\\lib\\site-packages\\sklearn\\model_selection\\_validation.py\", line 680, in _fit_and_score\n",
      "    estimator.fit(X_train, y_train, **fit_params)\n",
      "  File \"C:\\Users\\simon\\anaconda3\\lib\\site-packages\\imblearn\\pipeline.py\", line 268, in fit\n",
      "    Xt, yt = self._fit(X, y, **fit_params_steps)\n",
      "  File \"C:\\Users\\simon\\anaconda3\\lib\\site-packages\\imblearn\\pipeline.py\", line 226, in _fit\n",
      "    X, y, fitted_transformer = fit_resample_one_cached(\n",
      "  File \"C:\\Users\\simon\\anaconda3\\lib\\site-packages\\joblib\\memory.py\", line 349, in __call__\n",
      "    return self.func(*args, **kwargs)\n",
      "  File \"C:\\Users\\simon\\anaconda3\\lib\\site-packages\\imblearn\\pipeline.py\", line 394, in _fit_resample_one\n",
      "    X_res, y_res = sampler.fit_resample(X, y, **fit_params)\n",
      "  File \"C:\\Users\\simon\\anaconda3\\lib\\site-packages\\imblearn\\base.py\", line 79, in fit_resample\n",
      "    self.sampling_strategy_ = check_sampling_strategy(\n",
      "  File \"C:\\Users\\simon\\anaconda3\\lib\\site-packages\\imblearn\\utils\\_validation.py\", line 534, in check_sampling_strategy\n",
      "    _sampling_strategy_float(sampling_strategy, y, sampling_type).items()\n",
      "  File \"C:\\Users\\simon\\anaconda3\\lib\\site-packages\\imblearn\\utils\\_validation.py\", line 393, in _sampling_strategy_float\n",
      "    raise ValueError(\n",
      "ValueError: The specified ratio required to generate new sample in the majority class while trying to remove samples. Please increase the ratio.\n",
      "\n",
      "  warnings.warn(some_fits_failed_message, FitFailedWarning)\n",
      "C:\\Users\\simon\\anaconda3\\lib\\site-packages\\sklearn\\model_selection\\_search.py:969: UserWarning: One or more of the test scores are non-finite: [0.00169528 0.00977847 0.02504008 0.04031078        nan 0.00617668\n",
      " 0.01528253 0.02694018        nan        nan 0.01170688 0.01984872\n",
      "        nan        nan        nan 0.01668933 0.00061471 0.00621714\n",
      " 0.01896412 0.03887394        nan 0.00397244 0.01044862 0.0217612\n",
      "        nan        nan 0.00783868 0.01575208        nan        nan\n",
      "        nan 0.01253546 0.00049361 0.00462858 0.01743516 0.03995385\n",
      "        nan 0.00369876 0.00990561 0.02083413        nan        nan\n",
      " 0.00780741 0.01462816        nan        nan        nan 0.01173671\n",
      " 0.00041292 0.004788   0.01732217 0.0394944         nan 0.00343211\n",
      " 0.00922075 0.02023035        nan        nan 0.00714094 0.01440153\n",
      "        nan        nan        nan 0.01136789 0.00043311 0.00410828\n",
      " 0.01647307 0.03802221        nan 0.0033405  0.00921285 0.01941897\n",
      "        nan        nan 0.00698687 0.01448704        nan        nan\n",
      "        nan 0.01127163]\n",
      "  warnings.warn(\n"
     ]
    },
    {
     "name": "stdout",
     "output_type": "stream",
     "text": [
      "Cross-validation score: 0.04031077971677514\n",
      "Test score: 0.043495552066980636\n",
      "time taken : 36739.74182724953 seconds\n",
      "\n",
      " -------  \n",
      "\n"
     ]
    }
   ],
   "source": [
    "model_rf = RandomForestClassifier()\n",
    "\n",
    "start_time = time.time()\n",
    "\n",
    "param_grid = {\n",
    "    \"over_sampling__sampling_strategy\" : np.linspace(0.1,0.5,4),\n",
    "    \"under_sampling__sampling_strategy\" : np.linspace(0.1,0.5,4)\n",
    "}\n",
    "\n",
    "pca = PCA(n_components = 30)  #90% of explained variance\n",
    "\n",
    "over_sampling = SMOTE()\n",
    "under_sampling = RandomUnderSampler()\n",
    "\n",
    "steps = [('over_sampling', over_sampling), ('under_sampling', under_sampling),\n",
    "         (\"pca\", pca),\n",
    "         ('classification', model_rf)]\n",
    "\n",
    "param_grid.update(params_random_forest) #Concacenate 2 dicts\n",
    "\n",
    "model_pipeline = Pipeline(steps=steps)\n",
    "\n",
    "stratified_kfold = StratifiedKFold(n_splits=3,\n",
    "                                   shuffle=True,\n",
    "                                   random_state=11)\n",
    "\n",
    "grid_search_rf = GridSearchCV(estimator=model_pipeline,\n",
    "                                  param_grid=param_grid,\n",
    "                                  scoring=custom_score,\n",
    "                                  cv=stratified_kfold,\n",
    "                                  n_jobs=1,\n",
    "                                  verbose = 2)\n",
    "\n",
    "grid_search_rf.fit(X_train, y_train)\n",
    "\n",
    "cv_score = grid_search_rf.best_score_\n",
    "list_scores.append(cv_score)\n",
    "list_best_estimators.append(grid_search_rf.best_estimator_)\n",
    "test_score = grid_search_rf.score(X_test, y_test)\n",
    "\n",
    "#\n",
    "print(f'Cross-validation score: {cv_score}\\nTest score: {test_score}')\n",
    "print(\"time taken : %s seconds\" % (time.time() - start_time))\n",
    "print(\"\\n -------  \\n\")"
   ],
   "metadata": {
    "collapsed": false,
    "pycharm": {
     "name": "#%%\n"
    }
   }
  },
  {
   "cell_type": "markdown",
   "source": [
    "### Entrainement de Gradient Boosting Classifier"
   ],
   "metadata": {
    "collapsed": false,
    "pycharm": {
     "name": "#%% md\n"
    }
   }
  },
  {
   "cell_type": "code",
   "execution_count": 19,
   "outputs": [
    {
     "name": "stdout",
     "output_type": "stream",
     "text": [
      "Fitting 3 folds for each of 64 candidates, totalling 192 fits\n",
      "[CV] END classification__n_estimators=10, over_sampling__sampling_strategy=0.1, under_sampling__sampling_strategy=0.1; total time=  37.5s\n",
      "[CV] END classification__n_estimators=10, over_sampling__sampling_strategy=0.1, under_sampling__sampling_strategy=0.1; total time=  38.7s\n",
      "[CV] END classification__n_estimators=10, over_sampling__sampling_strategy=0.1, under_sampling__sampling_strategy=0.1; total time=  33.3s\n",
      "[CV] END classification__n_estimators=10, over_sampling__sampling_strategy=0.1, under_sampling__sampling_strategy=0.23333333333333334; total time=  18.0s\n",
      "[CV] END classification__n_estimators=10, over_sampling__sampling_strategy=0.1, under_sampling__sampling_strategy=0.23333333333333334; total time=  18.5s\n",
      "[CV] END classification__n_estimators=10, over_sampling__sampling_strategy=0.1, under_sampling__sampling_strategy=0.23333333333333334; total time=  17.7s\n",
      "[CV] END classification__n_estimators=10, over_sampling__sampling_strategy=0.1, under_sampling__sampling_strategy=0.3666666666666667; total time=  14.4s\n",
      "[CV] END classification__n_estimators=10, over_sampling__sampling_strategy=0.1, under_sampling__sampling_strategy=0.3666666666666667; total time=  14.3s\n",
      "[CV] END classification__n_estimators=10, over_sampling__sampling_strategy=0.1, under_sampling__sampling_strategy=0.3666666666666667; total time=  13.6s\n",
      "[CV] END classification__n_estimators=10, over_sampling__sampling_strategy=0.1, under_sampling__sampling_strategy=0.5; total time=  13.2s\n",
      "[CV] END classification__n_estimators=10, over_sampling__sampling_strategy=0.1, under_sampling__sampling_strategy=0.5; total time=  12.2s\n",
      "[CV] END classification__n_estimators=10, over_sampling__sampling_strategy=0.1, under_sampling__sampling_strategy=0.5; total time=  12.9s\n",
      "[CV] END classification__n_estimators=10, over_sampling__sampling_strategy=0.23333333333333334, under_sampling__sampling_strategy=0.1; total time=   6.1s\n",
      "[CV] END classification__n_estimators=10, over_sampling__sampling_strategy=0.23333333333333334, under_sampling__sampling_strategy=0.1; total time=   6.1s\n",
      "[CV] END classification__n_estimators=10, over_sampling__sampling_strategy=0.23333333333333334, under_sampling__sampling_strategy=0.1; total time=   6.1s\n",
      "[CV] END classification__n_estimators=10, over_sampling__sampling_strategy=0.23333333333333334, under_sampling__sampling_strategy=0.23333333333333334; total time=  36.0s\n",
      "[CV] END classification__n_estimators=10, over_sampling__sampling_strategy=0.23333333333333334, under_sampling__sampling_strategy=0.23333333333333334; total time=  37.3s\n",
      "[CV] END classification__n_estimators=10, over_sampling__sampling_strategy=0.23333333333333334, under_sampling__sampling_strategy=0.23333333333333334; total time=  35.8s\n",
      "[CV] END classification__n_estimators=10, over_sampling__sampling_strategy=0.23333333333333334, under_sampling__sampling_strategy=0.3666666666666667; total time=  28.1s\n",
      "[CV] END classification__n_estimators=10, over_sampling__sampling_strategy=0.23333333333333334, under_sampling__sampling_strategy=0.3666666666666667; total time=  27.0s\n",
      "[CV] END classification__n_estimators=10, over_sampling__sampling_strategy=0.23333333333333334, under_sampling__sampling_strategy=0.3666666666666667; total time=  26.3s\n",
      "[CV] END classification__n_estimators=10, over_sampling__sampling_strategy=0.23333333333333334, under_sampling__sampling_strategy=0.5; total time=  22.3s\n",
      "[CV] END classification__n_estimators=10, over_sampling__sampling_strategy=0.23333333333333334, under_sampling__sampling_strategy=0.5; total time=  22.6s\n",
      "[CV] END classification__n_estimators=10, over_sampling__sampling_strategy=0.23333333333333334, under_sampling__sampling_strategy=0.5; total time=  22.8s\n",
      "[CV] END classification__n_estimators=10, over_sampling__sampling_strategy=0.3666666666666667, under_sampling__sampling_strategy=0.1; total time=   6.5s\n",
      "[CV] END classification__n_estimators=10, over_sampling__sampling_strategy=0.3666666666666667, under_sampling__sampling_strategy=0.1; total time=   6.2s\n",
      "[CV] END classification__n_estimators=10, over_sampling__sampling_strategy=0.3666666666666667, under_sampling__sampling_strategy=0.1; total time=   6.2s\n",
      "[CV] END classification__n_estimators=10, over_sampling__sampling_strategy=0.3666666666666667, under_sampling__sampling_strategy=0.23333333333333334; total time=   6.4s\n",
      "[CV] END classification__n_estimators=10, over_sampling__sampling_strategy=0.3666666666666667, under_sampling__sampling_strategy=0.23333333333333334; total time=   6.2s\n",
      "[CV] END classification__n_estimators=10, over_sampling__sampling_strategy=0.3666666666666667, under_sampling__sampling_strategy=0.23333333333333334; total time=   5.9s\n",
      "[CV] END classification__n_estimators=10, over_sampling__sampling_strategy=0.3666666666666667, under_sampling__sampling_strategy=0.3666666666666667; total time=  40.3s\n",
      "[CV] END classification__n_estimators=10, over_sampling__sampling_strategy=0.3666666666666667, under_sampling__sampling_strategy=0.3666666666666667; total time=  40.7s\n",
      "[CV] END classification__n_estimators=10, over_sampling__sampling_strategy=0.3666666666666667, under_sampling__sampling_strategy=0.3666666666666667; total time=  40.7s\n",
      "[CV] END classification__n_estimators=10, over_sampling__sampling_strategy=0.3666666666666667, under_sampling__sampling_strategy=0.5; total time=  33.3s\n",
      "[CV] END classification__n_estimators=10, over_sampling__sampling_strategy=0.3666666666666667, under_sampling__sampling_strategy=0.5; total time=  33.8s\n",
      "[CV] END classification__n_estimators=10, over_sampling__sampling_strategy=0.3666666666666667, under_sampling__sampling_strategy=0.5; total time=  32.5s\n",
      "[CV] END classification__n_estimators=10, over_sampling__sampling_strategy=0.5, under_sampling__sampling_strategy=0.1; total time=   6.7s\n",
      "[CV] END classification__n_estimators=10, over_sampling__sampling_strategy=0.5, under_sampling__sampling_strategy=0.1; total time=   6.1s\n",
      "[CV] END classification__n_estimators=10, over_sampling__sampling_strategy=0.5, under_sampling__sampling_strategy=0.1; total time=   6.1s\n",
      "[CV] END classification__n_estimators=10, over_sampling__sampling_strategy=0.5, under_sampling__sampling_strategy=0.23333333333333334; total time=   6.4s\n",
      "[CV] END classification__n_estimators=10, over_sampling__sampling_strategy=0.5, under_sampling__sampling_strategy=0.23333333333333334; total time=   6.3s\n",
      "[CV] END classification__n_estimators=10, over_sampling__sampling_strategy=0.5, under_sampling__sampling_strategy=0.23333333333333334; total time=   6.1s\n",
      "[CV] END classification__n_estimators=10, over_sampling__sampling_strategy=0.5, under_sampling__sampling_strategy=0.3666666666666667; total time=   6.1s\n",
      "[CV] END classification__n_estimators=10, over_sampling__sampling_strategy=0.5, under_sampling__sampling_strategy=0.3666666666666667; total time=   6.5s\n",
      "[CV] END classification__n_estimators=10, over_sampling__sampling_strategy=0.5, under_sampling__sampling_strategy=0.3666666666666667; total time=   6.3s\n",
      "[CV] END classification__n_estimators=10, over_sampling__sampling_strategy=0.5, under_sampling__sampling_strategy=0.5; total time=  42.5s\n",
      "[CV] END classification__n_estimators=10, over_sampling__sampling_strategy=0.5, under_sampling__sampling_strategy=0.5; total time=  42.6s\n",
      "[CV] END classification__n_estimators=10, over_sampling__sampling_strategy=0.5, under_sampling__sampling_strategy=0.5; total time=  42.7s\n",
      "[CV] END classification__n_estimators=50, over_sampling__sampling_strategy=0.1, under_sampling__sampling_strategy=0.1; total time= 2.0min\n",
      "[CV] END classification__n_estimators=50, over_sampling__sampling_strategy=0.1, under_sampling__sampling_strategy=0.1; total time= 2.0min\n",
      "[CV] END classification__n_estimators=50, over_sampling__sampling_strategy=0.1, under_sampling__sampling_strategy=0.1; total time= 1.9min\n",
      "[CV] END classification__n_estimators=50, over_sampling__sampling_strategy=0.1, under_sampling__sampling_strategy=0.23333333333333334; total time=  55.2s\n",
      "[CV] END classification__n_estimators=50, over_sampling__sampling_strategy=0.1, under_sampling__sampling_strategy=0.23333333333333334; total time=  55.3s\n",
      "[CV] END classification__n_estimators=50, over_sampling__sampling_strategy=0.1, under_sampling__sampling_strategy=0.23333333333333334; total time=  54.9s\n",
      "[CV] END classification__n_estimators=50, over_sampling__sampling_strategy=0.1, under_sampling__sampling_strategy=0.3666666666666667; total time=  39.0s\n",
      "[CV] END classification__n_estimators=50, over_sampling__sampling_strategy=0.1, under_sampling__sampling_strategy=0.3666666666666667; total time=  38.8s\n",
      "[CV] END classification__n_estimators=50, over_sampling__sampling_strategy=0.1, under_sampling__sampling_strategy=0.3666666666666667; total time=  39.4s\n",
      "[CV] END classification__n_estimators=50, over_sampling__sampling_strategy=0.1, under_sampling__sampling_strategy=0.5; total time=  32.3s\n",
      "[CV] END classification__n_estimators=50, over_sampling__sampling_strategy=0.1, under_sampling__sampling_strategy=0.5; total time=  32.2s\n",
      "[CV] END classification__n_estimators=50, over_sampling__sampling_strategy=0.1, under_sampling__sampling_strategy=0.5; total time=  31.8s\n",
      "[CV] END classification__n_estimators=50, over_sampling__sampling_strategy=0.23333333333333334, under_sampling__sampling_strategy=0.1; total time=   5.9s\n",
      "[CV] END classification__n_estimators=50, over_sampling__sampling_strategy=0.23333333333333334, under_sampling__sampling_strategy=0.1; total time=   5.5s\n",
      "[CV] END classification__n_estimators=50, over_sampling__sampling_strategy=0.23333333333333334, under_sampling__sampling_strategy=0.1; total time=   5.8s\n",
      "[CV] END classification__n_estimators=50, over_sampling__sampling_strategy=0.23333333333333334, under_sampling__sampling_strategy=0.23333333333333334; total time= 2.2min\n",
      "[CV] END classification__n_estimators=50, over_sampling__sampling_strategy=0.23333333333333334, under_sampling__sampling_strategy=0.23333333333333334; total time= 2.2min\n",
      "[CV] END classification__n_estimators=50, over_sampling__sampling_strategy=0.23333333333333334, under_sampling__sampling_strategy=0.23333333333333334; total time= 2.2min\n",
      "[CV] END classification__n_estimators=50, over_sampling__sampling_strategy=0.23333333333333334, under_sampling__sampling_strategy=0.3666666666666667; total time= 1.5min\n",
      "[CV] END classification__n_estimators=50, over_sampling__sampling_strategy=0.23333333333333334, under_sampling__sampling_strategy=0.3666666666666667; total time= 1.5min\n",
      "[CV] END classification__n_estimators=50, over_sampling__sampling_strategy=0.23333333333333334, under_sampling__sampling_strategy=0.3666666666666667; total time= 1.5min\n",
      "[CV] END classification__n_estimators=50, over_sampling__sampling_strategy=0.23333333333333334, under_sampling__sampling_strategy=0.5; total time= 1.2min\n",
      "[CV] END classification__n_estimators=50, over_sampling__sampling_strategy=0.23333333333333334, under_sampling__sampling_strategy=0.5; total time= 1.2min\n",
      "[CV] END classification__n_estimators=50, over_sampling__sampling_strategy=0.23333333333333334, under_sampling__sampling_strategy=0.5; total time= 1.2min\n",
      "[CV] END classification__n_estimators=50, over_sampling__sampling_strategy=0.3666666666666667, under_sampling__sampling_strategy=0.1; total time=   6.0s\n",
      "[CV] END classification__n_estimators=50, over_sampling__sampling_strategy=0.3666666666666667, under_sampling__sampling_strategy=0.1; total time=   5.7s\n",
      "[CV] END classification__n_estimators=50, over_sampling__sampling_strategy=0.3666666666666667, under_sampling__sampling_strategy=0.1; total time=   6.0s\n",
      "[CV] END classification__n_estimators=50, over_sampling__sampling_strategy=0.3666666666666667, under_sampling__sampling_strategy=0.23333333333333334; total time=   6.1s\n",
      "[CV] END classification__n_estimators=50, over_sampling__sampling_strategy=0.3666666666666667, under_sampling__sampling_strategy=0.23333333333333334; total time=   6.0s\n",
      "[CV] END classification__n_estimators=50, over_sampling__sampling_strategy=0.3666666666666667, under_sampling__sampling_strategy=0.23333333333333334; total time=   5.9s\n",
      "[CV] END classification__n_estimators=50, over_sampling__sampling_strategy=0.3666666666666667, under_sampling__sampling_strategy=0.3666666666666667; total time= 2.5min\n",
      "[CV] END classification__n_estimators=50, over_sampling__sampling_strategy=0.3666666666666667, under_sampling__sampling_strategy=0.3666666666666667; total time= 2.5min\n",
      "[CV] END classification__n_estimators=50, over_sampling__sampling_strategy=0.3666666666666667, under_sampling__sampling_strategy=0.3666666666666667; total time= 2.5min\n",
      "[CV] END classification__n_estimators=50, over_sampling__sampling_strategy=0.3666666666666667, under_sampling__sampling_strategy=0.5; total time= 2.0min\n",
      "[CV] END classification__n_estimators=50, over_sampling__sampling_strategy=0.3666666666666667, under_sampling__sampling_strategy=0.5; total time= 2.0min\n",
      "[CV] END classification__n_estimators=50, over_sampling__sampling_strategy=0.3666666666666667, under_sampling__sampling_strategy=0.5; total time= 2.0min\n",
      "[CV] END classification__n_estimators=50, over_sampling__sampling_strategy=0.5, under_sampling__sampling_strategy=0.1; total time=   6.4s\n",
      "[CV] END classification__n_estimators=50, over_sampling__sampling_strategy=0.5, under_sampling__sampling_strategy=0.1; total time=   6.3s\n",
      "[CV] END classification__n_estimators=50, over_sampling__sampling_strategy=0.5, under_sampling__sampling_strategy=0.1; total time=   5.7s\n",
      "[CV] END classification__n_estimators=50, over_sampling__sampling_strategy=0.5, under_sampling__sampling_strategy=0.23333333333333334; total time=   6.1s\n",
      "[CV] END classification__n_estimators=50, over_sampling__sampling_strategy=0.5, under_sampling__sampling_strategy=0.23333333333333334; total time=   6.3s\n",
      "[CV] END classification__n_estimators=50, over_sampling__sampling_strategy=0.5, under_sampling__sampling_strategy=0.23333333333333334; total time=   6.3s\n",
      "[CV] END classification__n_estimators=50, over_sampling__sampling_strategy=0.5, under_sampling__sampling_strategy=0.3666666666666667; total time=   6.2s\n",
      "[CV] END classification__n_estimators=50, over_sampling__sampling_strategy=0.5, under_sampling__sampling_strategy=0.3666666666666667; total time=   6.0s\n",
      "[CV] END classification__n_estimators=50, over_sampling__sampling_strategy=0.5, under_sampling__sampling_strategy=0.3666666666666667; total time=   6.2s\n",
      "[CV] END classification__n_estimators=50, over_sampling__sampling_strategy=0.5, under_sampling__sampling_strategy=0.5; total time= 2.8min\n",
      "[CV] END classification__n_estimators=50, over_sampling__sampling_strategy=0.5, under_sampling__sampling_strategy=0.5; total time= 2.7min\n",
      "[CV] END classification__n_estimators=50, over_sampling__sampling_strategy=0.5, under_sampling__sampling_strategy=0.5; total time= 2.7min\n",
      "[CV] END classification__n_estimators=100, over_sampling__sampling_strategy=0.1, under_sampling__sampling_strategy=0.1; total time= 3.8min\n",
      "[CV] END classification__n_estimators=100, over_sampling__sampling_strategy=0.1, under_sampling__sampling_strategy=0.1; total time= 3.8min\n",
      "[CV] END classification__n_estimators=100, over_sampling__sampling_strategy=0.1, under_sampling__sampling_strategy=0.1; total time= 3.8min\n",
      "[CV] END classification__n_estimators=100, over_sampling__sampling_strategy=0.1, under_sampling__sampling_strategy=0.23333333333333334; total time= 1.7min\n",
      "[CV] END classification__n_estimators=100, over_sampling__sampling_strategy=0.1, under_sampling__sampling_strategy=0.23333333333333334; total time= 1.7min\n",
      "[CV] END classification__n_estimators=100, over_sampling__sampling_strategy=0.1, under_sampling__sampling_strategy=0.23333333333333334; total time= 1.7min\n",
      "[CV] END classification__n_estimators=100, over_sampling__sampling_strategy=0.1, under_sampling__sampling_strategy=0.3666666666666667; total time= 1.2min\n",
      "[CV] END classification__n_estimators=100, over_sampling__sampling_strategy=0.1, under_sampling__sampling_strategy=0.3666666666666667; total time= 1.2min\n",
      "[CV] END classification__n_estimators=100, over_sampling__sampling_strategy=0.1, under_sampling__sampling_strategy=0.3666666666666667; total time= 1.2min\n",
      "[CV] END classification__n_estimators=100, over_sampling__sampling_strategy=0.1, under_sampling__sampling_strategy=0.5; total time=  57.4s\n",
      "[CV] END classification__n_estimators=100, over_sampling__sampling_strategy=0.1, under_sampling__sampling_strategy=0.5; total time=  57.0s\n",
      "[CV] END classification__n_estimators=100, over_sampling__sampling_strategy=0.1, under_sampling__sampling_strategy=0.5; total time=  57.2s\n",
      "[CV] END classification__n_estimators=100, over_sampling__sampling_strategy=0.23333333333333334, under_sampling__sampling_strategy=0.1; total time=   6.1s\n",
      "[CV] END classification__n_estimators=100, over_sampling__sampling_strategy=0.23333333333333334, under_sampling__sampling_strategy=0.1; total time=   5.6s\n",
      "[CV] END classification__n_estimators=100, over_sampling__sampling_strategy=0.23333333333333334, under_sampling__sampling_strategy=0.1; total time=   5.6s\n",
      "[CV] END classification__n_estimators=100, over_sampling__sampling_strategy=0.23333333333333334, under_sampling__sampling_strategy=0.23333333333333334; total time= 4.3min\n",
      "[CV] END classification__n_estimators=100, over_sampling__sampling_strategy=0.23333333333333334, under_sampling__sampling_strategy=0.23333333333333334; total time= 4.2min\n",
      "[CV] END classification__n_estimators=100, over_sampling__sampling_strategy=0.23333333333333334, under_sampling__sampling_strategy=0.23333333333333334; total time= 4.3min\n",
      "[CV] END classification__n_estimators=100, over_sampling__sampling_strategy=0.23333333333333334, under_sampling__sampling_strategy=0.3666666666666667; total time= 2.9min\n",
      "[CV] END classification__n_estimators=100, over_sampling__sampling_strategy=0.23333333333333334, under_sampling__sampling_strategy=0.3666666666666667; total time= 2.9min\n",
      "[CV] END classification__n_estimators=100, over_sampling__sampling_strategy=0.23333333333333334, under_sampling__sampling_strategy=0.3666666666666667; total time= 2.9min\n",
      "[CV] END classification__n_estimators=100, over_sampling__sampling_strategy=0.23333333333333334, under_sampling__sampling_strategy=0.5; total time= 2.3min\n",
      "[CV] END classification__n_estimators=100, over_sampling__sampling_strategy=0.23333333333333334, under_sampling__sampling_strategy=0.5; total time= 2.3min\n",
      "[CV] END classification__n_estimators=100, over_sampling__sampling_strategy=0.23333333333333334, under_sampling__sampling_strategy=0.5; total time= 2.3min\n",
      "[CV] END classification__n_estimators=100, over_sampling__sampling_strategy=0.3666666666666667, under_sampling__sampling_strategy=0.1; total time=   6.3s\n",
      "[CV] END classification__n_estimators=100, over_sampling__sampling_strategy=0.3666666666666667, under_sampling__sampling_strategy=0.1; total time=   5.8s\n",
      "[CV] END classification__n_estimators=100, over_sampling__sampling_strategy=0.3666666666666667, under_sampling__sampling_strategy=0.1; total time=   5.6s\n",
      "[CV] END classification__n_estimators=100, over_sampling__sampling_strategy=0.3666666666666667, under_sampling__sampling_strategy=0.23333333333333334; total time=   6.2s\n",
      "[CV] END classification__n_estimators=100, over_sampling__sampling_strategy=0.3666666666666667, under_sampling__sampling_strategy=0.23333333333333334; total time=   6.2s\n",
      "[CV] END classification__n_estimators=100, over_sampling__sampling_strategy=0.3666666666666667, under_sampling__sampling_strategy=0.23333333333333334; total time=   5.7s\n",
      "[CV] END classification__n_estimators=100, over_sampling__sampling_strategy=0.3666666666666667, under_sampling__sampling_strategy=0.3666666666666667; total time= 4.8min\n",
      "[CV] END classification__n_estimators=100, over_sampling__sampling_strategy=0.3666666666666667, under_sampling__sampling_strategy=0.3666666666666667; total time= 4.8min\n",
      "[CV] END classification__n_estimators=100, over_sampling__sampling_strategy=0.3666666666666667, under_sampling__sampling_strategy=0.3666666666666667; total time= 4.8min\n",
      "[CV] END classification__n_estimators=100, over_sampling__sampling_strategy=0.3666666666666667, under_sampling__sampling_strategy=0.5; total time= 3.8min\n",
      "[CV] END classification__n_estimators=100, over_sampling__sampling_strategy=0.3666666666666667, under_sampling__sampling_strategy=0.5; total time= 3.8min\n",
      "[CV] END classification__n_estimators=100, over_sampling__sampling_strategy=0.3666666666666667, under_sampling__sampling_strategy=0.5; total time= 3.7min\n",
      "[CV] END classification__n_estimators=100, over_sampling__sampling_strategy=0.5, under_sampling__sampling_strategy=0.1; total time=   6.4s\n",
      "[CV] END classification__n_estimators=100, over_sampling__sampling_strategy=0.5, under_sampling__sampling_strategy=0.1; total time=   5.9s\n",
      "[CV] END classification__n_estimators=100, over_sampling__sampling_strategy=0.5, under_sampling__sampling_strategy=0.1; total time=   6.2s\n",
      "[CV] END classification__n_estimators=100, over_sampling__sampling_strategy=0.5, under_sampling__sampling_strategy=0.23333333333333334; total time=   6.3s\n",
      "[CV] END classification__n_estimators=100, over_sampling__sampling_strategy=0.5, under_sampling__sampling_strategy=0.23333333333333334; total time=   6.1s\n",
      "[CV] END classification__n_estimators=100, over_sampling__sampling_strategy=0.5, under_sampling__sampling_strategy=0.23333333333333334; total time=   5.9s\n",
      "[CV] END classification__n_estimators=100, over_sampling__sampling_strategy=0.5, under_sampling__sampling_strategy=0.3666666666666667; total time=   6.3s\n",
      "[CV] END classification__n_estimators=100, over_sampling__sampling_strategy=0.5, under_sampling__sampling_strategy=0.3666666666666667; total time=   6.4s\n",
      "[CV] END classification__n_estimators=100, over_sampling__sampling_strategy=0.5, under_sampling__sampling_strategy=0.3666666666666667; total time=   6.0s\n",
      "[CV] END classification__n_estimators=100, over_sampling__sampling_strategy=0.5, under_sampling__sampling_strategy=0.5; total time= 5.3min\n",
      "[CV] END classification__n_estimators=100, over_sampling__sampling_strategy=0.5, under_sampling__sampling_strategy=0.5; total time= 5.3min\n",
      "[CV] END classification__n_estimators=100, over_sampling__sampling_strategy=0.5, under_sampling__sampling_strategy=0.5; total time= 5.1min\n",
      "[CV] END classification__n_estimators=200, over_sampling__sampling_strategy=0.1, under_sampling__sampling_strategy=0.1; total time= 7.4min\n",
      "[CV] END classification__n_estimators=200, over_sampling__sampling_strategy=0.1, under_sampling__sampling_strategy=0.1; total time= 7.3min\n",
      "[CV] END classification__n_estimators=200, over_sampling__sampling_strategy=0.1, under_sampling__sampling_strategy=0.1; total time= 7.4min\n",
      "[CV] END classification__n_estimators=200, over_sampling__sampling_strategy=0.1, under_sampling__sampling_strategy=0.23333333333333334; total time= 3.3min\n",
      "[CV] END classification__n_estimators=200, over_sampling__sampling_strategy=0.1, under_sampling__sampling_strategy=0.23333333333333334; total time= 3.3min\n",
      "[CV] END classification__n_estimators=200, over_sampling__sampling_strategy=0.1, under_sampling__sampling_strategy=0.23333333333333334; total time= 3.3min\n",
      "[CV] END classification__n_estimators=200, over_sampling__sampling_strategy=0.1, under_sampling__sampling_strategy=0.3666666666666667; total time= 2.3min\n",
      "[CV] END classification__n_estimators=200, over_sampling__sampling_strategy=0.1, under_sampling__sampling_strategy=0.3666666666666667; total time= 2.4min\n",
      "[CV] END classification__n_estimators=200, over_sampling__sampling_strategy=0.1, under_sampling__sampling_strategy=0.3666666666666667; total time= 2.3min\n",
      "[CV] END classification__n_estimators=200, over_sampling__sampling_strategy=0.1, under_sampling__sampling_strategy=0.5; total time= 1.8min\n",
      "[CV] END classification__n_estimators=200, over_sampling__sampling_strategy=0.1, under_sampling__sampling_strategy=0.5; total time= 1.8min\n",
      "[CV] END classification__n_estimators=200, over_sampling__sampling_strategy=0.1, under_sampling__sampling_strategy=0.5; total time= 1.8min\n",
      "[CV] END classification__n_estimators=200, over_sampling__sampling_strategy=0.23333333333333334, under_sampling__sampling_strategy=0.1; total time=   5.8s\n",
      "[CV] END classification__n_estimators=200, over_sampling__sampling_strategy=0.23333333333333334, under_sampling__sampling_strategy=0.1; total time=   5.9s\n",
      "[CV] END classification__n_estimators=200, over_sampling__sampling_strategy=0.23333333333333334, under_sampling__sampling_strategy=0.1; total time=   5.5s\n",
      "[CV] END classification__n_estimators=200, over_sampling__sampling_strategy=0.23333333333333334, under_sampling__sampling_strategy=0.23333333333333334; total time= 8.4min\n",
      "[CV] END classification__n_estimators=200, over_sampling__sampling_strategy=0.23333333333333334, under_sampling__sampling_strategy=0.23333333333333334; total time= 8.2min\n",
      "[CV] END classification__n_estimators=200, over_sampling__sampling_strategy=0.23333333333333334, under_sampling__sampling_strategy=0.23333333333333334; total time= 8.4min\n",
      "[CV] END classification__n_estimators=200, over_sampling__sampling_strategy=0.23333333333333334, under_sampling__sampling_strategy=0.3666666666666667; total time= 5.6min\n",
      "[CV] END classification__n_estimators=200, over_sampling__sampling_strategy=0.23333333333333334, under_sampling__sampling_strategy=0.3666666666666667; total time= 5.7min\n",
      "[CV] END classification__n_estimators=200, over_sampling__sampling_strategy=0.23333333333333334, under_sampling__sampling_strategy=0.3666666666666667; total time= 5.7min\n",
      "[CV] END classification__n_estimators=200, over_sampling__sampling_strategy=0.23333333333333334, under_sampling__sampling_strategy=0.5; total time= 4.5min\n",
      "[CV] END classification__n_estimators=200, over_sampling__sampling_strategy=0.23333333333333334, under_sampling__sampling_strategy=0.5; total time= 4.5min\n",
      "[CV] END classification__n_estimators=200, over_sampling__sampling_strategy=0.23333333333333334, under_sampling__sampling_strategy=0.5; total time= 4.5min\n",
      "[CV] END classification__n_estimators=200, over_sampling__sampling_strategy=0.3666666666666667, under_sampling__sampling_strategy=0.1; total time=   6.0s\n",
      "[CV] END classification__n_estimators=200, over_sampling__sampling_strategy=0.3666666666666667, under_sampling__sampling_strategy=0.1; total time=   5.8s\n",
      "[CV] END classification__n_estimators=200, over_sampling__sampling_strategy=0.3666666666666667, under_sampling__sampling_strategy=0.1; total time=   6.0s\n",
      "[CV] END classification__n_estimators=200, over_sampling__sampling_strategy=0.3666666666666667, under_sampling__sampling_strategy=0.23333333333333334; total time=   6.0s\n",
      "[CV] END classification__n_estimators=200, over_sampling__sampling_strategy=0.3666666666666667, under_sampling__sampling_strategy=0.23333333333333334; total time=   6.0s\n",
      "[CV] END classification__n_estimators=200, over_sampling__sampling_strategy=0.3666666666666667, under_sampling__sampling_strategy=0.23333333333333334; total time=   6.0s\n",
      "[CV] END classification__n_estimators=200, over_sampling__sampling_strategy=0.3666666666666667, under_sampling__sampling_strategy=0.3666666666666667; total time= 9.4min\n",
      "[CV] END classification__n_estimators=200, over_sampling__sampling_strategy=0.3666666666666667, under_sampling__sampling_strategy=0.3666666666666667; total time= 9.3min\n",
      "[CV] END classification__n_estimators=200, over_sampling__sampling_strategy=0.3666666666666667, under_sampling__sampling_strategy=0.3666666666666667; total time= 9.4min\n",
      "[CV] END classification__n_estimators=200, over_sampling__sampling_strategy=0.3666666666666667, under_sampling__sampling_strategy=0.5; total time= 7.3min\n",
      "[CV] END classification__n_estimators=200, over_sampling__sampling_strategy=0.3666666666666667, under_sampling__sampling_strategy=0.5; total time= 7.4min\n",
      "[CV] END classification__n_estimators=200, over_sampling__sampling_strategy=0.3666666666666667, under_sampling__sampling_strategy=0.5; total time= 7.3min\n",
      "[CV] END classification__n_estimators=200, over_sampling__sampling_strategy=0.5, under_sampling__sampling_strategy=0.1; total time=   6.4s\n",
      "[CV] END classification__n_estimators=200, over_sampling__sampling_strategy=0.5, under_sampling__sampling_strategy=0.1; total time=   5.9s\n",
      "[CV] END classification__n_estimators=200, over_sampling__sampling_strategy=0.5, under_sampling__sampling_strategy=0.1; total time=   6.0s\n",
      "[CV] END classification__n_estimators=200, over_sampling__sampling_strategy=0.5, under_sampling__sampling_strategy=0.23333333333333334; total time=   6.4s\n",
      "[CV] END classification__n_estimators=200, over_sampling__sampling_strategy=0.5, under_sampling__sampling_strategy=0.23333333333333334; total time=   6.2s\n",
      "[CV] END classification__n_estimators=200, over_sampling__sampling_strategy=0.5, under_sampling__sampling_strategy=0.23333333333333334; total time=   5.8s\n",
      "[CV] END classification__n_estimators=200, over_sampling__sampling_strategy=0.5, under_sampling__sampling_strategy=0.3666666666666667; total time=   6.2s\n",
      "[CV] END classification__n_estimators=200, over_sampling__sampling_strategy=0.5, under_sampling__sampling_strategy=0.3666666666666667; total time=   6.5s\n",
      "[CV] END classification__n_estimators=200, over_sampling__sampling_strategy=0.5, under_sampling__sampling_strategy=0.3666666666666667; total time=   6.1s\n",
      "[CV] END classification__n_estimators=200, over_sampling__sampling_strategy=0.5, under_sampling__sampling_strategy=0.5; total time=10.5min\n",
      "[CV] END classification__n_estimators=200, over_sampling__sampling_strategy=0.5, under_sampling__sampling_strategy=0.5; total time=10.5min\n",
      "[CV] END classification__n_estimators=200, over_sampling__sampling_strategy=0.5, under_sampling__sampling_strategy=0.5; total time=10.2min\n"
     ]
    },
    {
     "name": "stderr",
     "output_type": "stream",
     "text": [
      "C:\\Users\\simon\\anaconda3\\lib\\site-packages\\sklearn\\model_selection\\_validation.py:372: FitFailedWarning: \n",
      "72 fits failed out of a total of 192.\n",
      "The score on these train-test partitions for these parameters will be set to nan.\n",
      "If these failures are not expected, you can try to debug them by setting error_score='raise'.\n",
      "\n",
      "Below are more details about the failures:\n",
      "--------------------------------------------------------------------------------\n",
      "72 fits failed with the following error:\n",
      "Traceback (most recent call last):\n",
      "  File \"C:\\Users\\simon\\anaconda3\\lib\\site-packages\\sklearn\\model_selection\\_validation.py\", line 680, in _fit_and_score\n",
      "    estimator.fit(X_train, y_train, **fit_params)\n",
      "  File \"C:\\Users\\simon\\anaconda3\\lib\\site-packages\\imblearn\\pipeline.py\", line 268, in fit\n",
      "    Xt, yt = self._fit(X, y, **fit_params_steps)\n",
      "  File \"C:\\Users\\simon\\anaconda3\\lib\\site-packages\\imblearn\\pipeline.py\", line 226, in _fit\n",
      "    X, y, fitted_transformer = fit_resample_one_cached(\n",
      "  File \"C:\\Users\\simon\\anaconda3\\lib\\site-packages\\joblib\\memory.py\", line 349, in __call__\n",
      "    return self.func(*args, **kwargs)\n",
      "  File \"C:\\Users\\simon\\anaconda3\\lib\\site-packages\\imblearn\\pipeline.py\", line 394, in _fit_resample_one\n",
      "    X_res, y_res = sampler.fit_resample(X, y, **fit_params)\n",
      "  File \"C:\\Users\\simon\\anaconda3\\lib\\site-packages\\imblearn\\base.py\", line 79, in fit_resample\n",
      "    self.sampling_strategy_ = check_sampling_strategy(\n",
      "  File \"C:\\Users\\simon\\anaconda3\\lib\\site-packages\\imblearn\\utils\\_validation.py\", line 534, in check_sampling_strategy\n",
      "    _sampling_strategy_float(sampling_strategy, y, sampling_type).items()\n",
      "  File \"C:\\Users\\simon\\anaconda3\\lib\\site-packages\\imblearn\\utils\\_validation.py\", line 393, in _sampling_strategy_float\n",
      "    raise ValueError(\n",
      "ValueError: The specified ratio required to generate new sample in the majority class while trying to remove samples. Please increase the ratio.\n",
      "\n",
      "  warnings.warn(some_fits_failed_message, FitFailedWarning)\n",
      "C:\\Users\\simon\\anaconda3\\lib\\site-packages\\sklearn\\model_selection\\_search.py:969: UserWarning: One or more of the test scores are non-finite: [0.00000000e+00 0.00000000e+00 0.00000000e+00 0.00000000e+00\n",
      "            nan 0.00000000e+00 0.00000000e+00 0.00000000e+00\n",
      "            nan            nan 0.00000000e+00 0.00000000e+00\n",
      "            nan            nan            nan 0.00000000e+00\n",
      " 0.00000000e+00 3.32463770e-04 6.49244531e-03 2.57450441e-02\n",
      "            nan 0.00000000e+00 3.08536039e-03 2.22870282e-02\n",
      "            nan            nan 2.05568692e-03 2.28364109e-02\n",
      "            nan            nan            nan 2.28815148e-02\n",
      " 1.00622855e-05 1.48510478e-03 1.27484934e-02 3.64775982e-02\n",
      "            nan 1.30870341e-04 8.79349989e-03 3.26927613e-02\n",
      "            nan            nan 8.38234528e-03 3.09553266e-02\n",
      "            nan            nan            nan 2.91305667e-02\n",
      " 4.02508140e-05 2.09434467e-03 1.76677067e-02 4.29208879e-02\n",
      "            nan 1.51554706e-03 1.37707109e-02 3.62890726e-02\n",
      "            nan            nan 1.16373868e-02 3.49085273e-02\n",
      "            nan            nan            nan 3.42506547e-02]\n",
      "  warnings.warn(\n"
     ]
    },
    {
     "name": "stdout",
     "output_type": "stream",
     "text": [
      "Cross-validation score: 0.04292088789895051\n",
      "Test score: 0.04318718823838278\n",
      "time taken : 20861.49769473076 seconds\n",
      "\n",
      " -------  \n",
      "\n"
     ]
    }
   ],
   "source": [
    "model_gb = GradientBoostingClassifier()\n",
    "\n",
    "start_time = time.time()\n",
    "\n",
    "param_grid = {\n",
    "    \"over_sampling__sampling_strategy\" : np.linspace(0.1,0.5,4),\n",
    "    \"under_sampling__sampling_strategy\" : np.linspace(0.1,0.5,4)\n",
    "}\n",
    "\n",
    "pca = PCA(n_components = 30)  #90% of explained variance\n",
    "\n",
    "over_sampling = SMOTE()\n",
    "under_sampling = RandomUnderSampler()\n",
    "\n",
    "steps = [('over_sampling', over_sampling), ('under_sampling', under_sampling),\n",
    "         (\"pca\", pca),\n",
    "         ('classification', model_gb)]\n",
    "\n",
    "param_grid.update(params_xgboos) #Concacenate 2 dicts\n",
    "\n",
    "model_pipeline = Pipeline(steps=steps)\n",
    "\n",
    "stratified_kfold = StratifiedKFold(n_splits=3,\n",
    "                                   shuffle=True,\n",
    "                                   random_state=11)\n",
    "\n",
    "grid_search_gb = GridSearchCV(estimator=model_pipeline,\n",
    "                              param_grid=param_grid,\n",
    "                              scoring=custom_score,\n",
    "                              cv=stratified_kfold,\n",
    "                              n_jobs=1,\n",
    "                              verbose = 2)\n",
    "\n",
    "grid_search_gb.fit(X_train, y_train)\n",
    "\n",
    "cv_score = grid_search_gb.best_score_\n",
    "list_scores.append(cv_score)\n",
    "list_best_estimators.append(grid_search_gb.best_estimator_)\n",
    "test_score = grid_search_gb.score(X_test, y_test)\n",
    "\n",
    "\n",
    "print(f'Cross-validation score: {cv_score}\\nTest score: {test_score}')\n",
    "print(\"time taken : %s seconds\" % (time.time() - start_time))\n",
    "print(\"\\n -------  \\n\")"
   ],
   "metadata": {
    "collapsed": false,
    "pycharm": {
     "name": "#%%\n"
    }
   }
  },
  {
   "cell_type": "markdown",
   "source": [
    "### Enregistrements des modèles"
   ],
   "metadata": {
    "collapsed": false,
    "pycharm": {
     "name": "#%% md\n"
    }
   }
  },
  {
   "cell_type": "code",
   "execution_count": 20,
   "outputs": [],
   "source": [
    "pickle.dump(grid_search_gb, open(\"modele_gb\", \"wb\"))"
   ],
   "metadata": {
    "collapsed": false,
    "pycharm": {
     "name": "#%%\n"
    }
   }
  },
  {
   "cell_type": "code",
   "execution_count": 24,
   "outputs": [],
   "source": [
    "pickle.dump(grid_search_dummy, open(\"modele_dummy\", \"wb\"))\n",
    "pickle.dump(grid_search_logreg, open(\"modele_logreg\", \"wb\"))\n",
    "pickle.dump(grid_search_rf, open(\"modele_rf\", \"wb\"))"
   ],
   "metadata": {
    "collapsed": false,
    "pycharm": {
     "name": "#%%\n"
    }
   }
  },
  {
   "cell_type": "markdown",
   "source": [
    "### Exploration des modèles entrainés et Selection du meilleur modèle"
   ],
   "metadata": {
    "collapsed": false,
    "pycharm": {
     "name": "#%% md\n"
    }
   }
  },
  {
   "cell_type": "code",
   "execution_count": 19,
   "outputs": [],
   "source": [
    "sModel_dummy = pickle.load(open(\"modele_dummy\", 'rb'))\n",
    "sModel_lr = pickle.load(open(\"modele_logreg\", 'rb'))\n",
    "sModel_gb  = pickle.load(open(\"modele_gb\", 'rb'))\n",
    "sModel_rf = pickle.load(open(\"modele_rf\", 'rb'))"
   ],
   "metadata": {
    "collapsed": false,
    "pycharm": {
     "name": "#%%\n"
    }
   }
  },
  {
   "cell_type": "code",
   "execution_count": 20,
   "outputs": [],
   "source": [
    "# y_pred for each model\n",
    "\n",
    "y_pred_dummy = sModel_dummy.predict(X_test)\n",
    "y_pred_lr = sModel_lr.predict(X_test)\n",
    "y_pred_rf = sModel_gb.predict(X_test)\n",
    "y_pred_gb = sModel_rf.predict(X_test)"
   ],
   "metadata": {
    "collapsed": false,
    "pycharm": {
     "name": "#%%\n"
    }
   }
  },
  {
   "cell_type": "code",
   "execution_count": 23,
   "outputs": [
    {
     "name": "stdout",
     "output_type": "stream",
     "text": [
      "0.0\n",
      "0.04837474006785597\n",
      "0.043495552066980636\n",
      "0.04318718823838278\n"
     ]
    }
   ],
   "source": [
    "print(sModel_dummy.score(X_test,y_test))\n",
    "print(sModel_lr.score(X_test,y_test))\n",
    "print(sModel_rf.score(X_test,y_test))\n",
    "print(sModel_gb.score(X_test,y_test))\n",
    "\n",
    "# this is the custom_f1_score"
   ],
   "metadata": {
    "collapsed": false,
    "pycharm": {
     "name": "#%%\n"
    }
   }
  },
  {
   "cell_type": "markdown",
   "source": [
    "Le modèle ayant le meilleur score custom_f1 est la Régression Logistique.\n",
    "Le modèle Dummy a, comme prévu, un score de 0. En effet le f1 score du dummy classifier est toujours 0 car il classe tous les éléments dans la classe majoritaire.\n",
    "\n",
    "Le custom_f1 est aussi 0 car il n'y a que le dénominateur de la formule qui change (par rapport aux taux de faux positifs, faux négatifs, etc.)\n"
   ],
   "metadata": {
    "collapsed": false,
    "pycharm": {
     "name": "#%% md\n"
    }
   }
  },
  {
   "cell_type": "code",
   "execution_count": 24,
   "outputs": [
    {
     "name": "stdout",
     "output_type": "stream",
     "text": [
      "0.9195323805342829\n",
      "0.8556330585499894\n",
      "0.8291628050664195\n",
      "0.8686893322276962\n"
     ]
    }
   ],
   "source": [
    "print(sModel_dummy.best_estimator_.score(X_test,y_test))\n",
    "print(sModel_lr.best_estimator_.score(X_test,y_test))\n",
    "print(sModel_rf.best_estimator_.score(X_test,y_test))\n",
    "print(sModel_gb.best_estimator_.score(X_test,y_test))\n",
    "\n",
    "# this is the accuracy score"
   ],
   "metadata": {
    "collapsed": false,
    "pycharm": {
     "name": "#%%\n"
    }
   }
  },
  {
   "cell_type": "markdown",
   "source": [
    "On constate que les modèles entrainés présentent tous de moins bons score d' accuracy que le dummy classifier. Ce n'est pas anormal pour de la classification binaire déséquilibrée. Cela est du au score que j'ai défini qui force le modèle a effectuer un plus grand nombre d'erreurs de faux positifs, du moment que l'on en fait moins dans les faux négatifs."
   ],
   "metadata": {
    "collapsed": false,
    "pycharm": {
     "name": "#%% md\n"
    }
   }
  },
  {
   "cell_type": "code",
   "execution_count": 25,
   "outputs": [
    {
     "name": "stdout",
     "output_type": "stream",
     "text": [
      "0.5\n",
      "0.5671237380555993\n",
      "0.5633447978447605\n",
      "0.5466459142224414\n"
     ]
    }
   ],
   "source": [
    "print(roc_auc_score(y_test,y_pred_dummy))\n",
    "print(roc_auc_score(y_test,y_pred_lr))\n",
    "print(roc_auc_score(y_test,y_pred_rf))\n",
    "print(roc_auc_score(y_test,y_pred_gb))"
   ],
   "metadata": {
    "collapsed": false,
    "pycharm": {
     "name": "#%%\n"
    }
   }
  },
  {
   "cell_type": "markdown",
   "source": [
    "le AUC score demeure faible. Les points d'amélioration sont détaillés dans la note méthodologique du projet."
   ],
   "metadata": {
    "collapsed": false,
    "pycharm": {
     "name": "#%% md\n"
    }
   }
  },
  {
   "cell_type": "code",
   "execution_count": 26,
   "outputs": [
    {
     "data": {
      "text/plain": "{'classification__C': 1.0,\n 'over_sampling__sampling_strategy': 0.3666666666666667,\n 'under_sampling__sampling_strategy': 0.5}"
     },
     "execution_count": 26,
     "metadata": {},
     "output_type": "execute_result"
    }
   ],
   "source": [
    "# Parameters of best model\n",
    "sModel_lr.best_params_"
   ],
   "metadata": {
    "collapsed": false,
    "pycharm": {
     "name": "#%%\n"
    }
   }
  },
  {
   "cell_type": "markdown",
   "source": [
    "### Affinage du meilleur modèle trouvé\n",
    "\n",
    "Le meilleur modèle est défini comme la régression logistique avec comme paramètre C = 1.\n",
    "\n",
    "Je vais maintenant affiner la recherche du meilleur paramètre C en centrant le grid search autour de la valeur 1."
   ],
   "metadata": {
    "collapsed": false,
    "pycharm": {
     "name": "#%% md\n"
    }
   }
  },
  {
   "cell_type": "code",
   "execution_count": 27,
   "outputs": [
    {
     "name": "stdout",
     "output_type": "stream",
     "text": [
      "Fitting 3 folds for each of 30 candidates, totalling 90 fits\n",
      "[CV] END ..............................classification__C=0.2; total time=  12.8s\n",
      "[CV] END ..............................classification__C=0.2; total time=  13.4s\n",
      "[CV] END ..............................classification__C=0.2; total time=  11.7s\n",
      "[CV] END ..............classification__C=0.36551724137931035; total time=  11.3s\n",
      "[CV] END ..............classification__C=0.36551724137931035; total time=  11.4s\n",
      "[CV] END ..............classification__C=0.36551724137931035; total time=  10.9s\n",
      "[CV] END ...............classification__C=0.5310344827586206; total time=  11.0s\n",
      "[CV] END ...............classification__C=0.5310344827586206; total time=  10.9s\n",
      "[CV] END ...............classification__C=0.5310344827586206; total time=  11.4s\n",
      "[CV] END ...............classification__C=0.6965517241379311; total time=  11.2s\n",
      "[CV] END ...............classification__C=0.6965517241379311; total time=  11.1s\n",
      "[CV] END ...............classification__C=0.6965517241379311; total time=  10.6s\n",
      "[CV] END ...............classification__C=0.8620689655172413; total time=  11.0s\n",
      "[CV] END ...............classification__C=0.8620689655172413; total time=  12.9s\n",
      "[CV] END ...............classification__C=0.8620689655172413; total time=  12.4s\n",
      "[CV] END ...............classification__C=1.0275862068965518; total time=  14.9s\n",
      "[CV] END ...............classification__C=1.0275862068965518; total time=  15.6s\n",
      "[CV] END ...............classification__C=1.0275862068965518; total time=  10.6s\n",
      "[CV] END ................classification__C=1.193103448275862; total time=  10.6s\n",
      "[CV] END ................classification__C=1.193103448275862; total time=  10.8s\n",
      "[CV] END ................classification__C=1.193103448275862; total time=  12.5s\n",
      "[CV] END ...............classification__C=1.3586206896551725; total time=  11.6s\n",
      "[CV] END ...............classification__C=1.3586206896551725; total time=  10.5s\n",
      "[CV] END ...............classification__C=1.3586206896551725; total time=  11.2s\n",
      "[CV] END ...............classification__C=1.5241379310344827; total time=  11.9s\n",
      "[CV] END ...............classification__C=1.5241379310344827; total time=  13.2s\n",
      "[CV] END ...............classification__C=1.5241379310344827; total time=  10.6s\n",
      "[CV] END ................classification__C=1.689655172413793; total time=  11.0s\n",
      "[CV] END ................classification__C=1.689655172413793; total time=  11.7s\n",
      "[CV] END ................classification__C=1.689655172413793; total time=  10.6s\n",
      "[CV] END ...............classification__C=1.8551724137931034; total time=  10.6s\n",
      "[CV] END ...............classification__C=1.8551724137931034; total time=  10.9s\n",
      "[CV] END ...............classification__C=1.8551724137931034; total time=  10.8s\n",
      "[CV] END ................classification__C=2.020689655172414; total time=  11.0s\n",
      "[CV] END ................classification__C=2.020689655172414; total time=  10.1s\n",
      "[CV] END ................classification__C=2.020689655172414; total time=  10.1s\n",
      "[CV] END ...............classification__C=2.1862068965517243; total time=  10.7s\n",
      "[CV] END ...............classification__C=2.1862068965517243; total time=  11.1s\n",
      "[CV] END ...............classification__C=2.1862068965517243; total time=  10.7s\n",
      "[CV] END ...............classification__C=2.3517241379310345; total time=  10.8s\n",
      "[CV] END ...............classification__C=2.3517241379310345; total time=  10.3s\n",
      "[CV] END ...............classification__C=2.3517241379310345; total time=  10.7s\n",
      "[CV] END ................classification__C=2.517241379310345; total time=  12.6s\n",
      "[CV] END ................classification__C=2.517241379310345; total time=  11.5s\n",
      "[CV] END ................classification__C=2.517241379310345; total time=  10.9s\n",
      "[CV] END ...............classification__C=2.6827586206896554; total time=  12.7s\n",
      "[CV] END ...............classification__C=2.6827586206896554; total time=  12.2s\n",
      "[CV] END ...............classification__C=2.6827586206896554; total time=  11.1s\n",
      "[CV] END ...............classification__C=2.8482758620689657; total time=  11.5s\n",
      "[CV] END ...............classification__C=2.8482758620689657; total time=  11.4s\n",
      "[CV] END ...............classification__C=2.8482758620689657; total time=  11.0s\n",
      "[CV] END ................classification__C=3.013793103448276; total time=  11.8s\n",
      "[CV] END ................classification__C=3.013793103448276; total time=  11.0s\n",
      "[CV] END ................classification__C=3.013793103448276; total time=  13.4s\n",
      "[CV] END ................classification__C=3.179310344827586; total time=  14.4s\n",
      "[CV] END ................classification__C=3.179310344827586; total time=  10.7s\n",
      "[CV] END ................classification__C=3.179310344827586; total time=  10.3s\n",
      "[CV] END ................classification__C=3.344827586206897; total time=  11.5s\n",
      "[CV] END ................classification__C=3.344827586206897; total time=  11.2s\n",
      "[CV] END ................classification__C=3.344827586206897; total time=  12.5s\n",
      "[CV] END ................classification__C=3.510344827586207; total time=  13.6s\n",
      "[CV] END ................classification__C=3.510344827586207; total time=  11.1s\n",
      "[CV] END ................classification__C=3.510344827586207; total time=  12.8s\n",
      "[CV] END ...............classification__C=3.6758620689655173; total time=  12.5s\n",
      "[CV] END ...............classification__C=3.6758620689655173; total time=  10.9s\n",
      "[CV] END ...............classification__C=3.6758620689655173; total time=  10.6s\n",
      "[CV] END ................classification__C=3.841379310344828; total time=  11.3s\n",
      "[CV] END ................classification__C=3.841379310344828; total time=  11.0s\n",
      "[CV] END ................classification__C=3.841379310344828; total time=  11.9s\n",
      "[CV] END ................classification__C=4.006896551724138; total time=  12.0s\n",
      "[CV] END ................classification__C=4.006896551724138; total time=  11.8s\n",
      "[CV] END ................classification__C=4.006896551724138; total time=  11.9s\n",
      "[CV] END ................classification__C=4.172413793103448; total time=  11.7s\n",
      "[CV] END ................classification__C=4.172413793103448; total time=  11.8s\n",
      "[CV] END ................classification__C=4.172413793103448; total time=  10.5s\n",
      "[CV] END ................classification__C=4.337931034482759; total time=  10.5s\n",
      "[CV] END ................classification__C=4.337931034482759; total time=  10.8s\n",
      "[CV] END ................classification__C=4.337931034482759; total time=  12.9s\n",
      "[CV] END ................classification__C=4.503448275862069; total time=  10.7s\n",
      "[CV] END ................classification__C=4.503448275862069; total time=  10.5s\n",
      "[CV] END ................classification__C=4.503448275862069; total time=  11.0s\n",
      "[CV] END ...............classification__C=4.6689655172413795; total time=  14.1s\n",
      "[CV] END ...............classification__C=4.6689655172413795; total time=  11.9s\n",
      "[CV] END ...............classification__C=4.6689655172413795; total time=  12.7s\n",
      "[CV] END .................classification__C=4.83448275862069; total time=  16.9s\n",
      "[CV] END .................classification__C=4.83448275862069; total time=  12.9s\n",
      "[CV] END .................classification__C=4.83448275862069; total time=  11.5s\n",
      "[CV] END ..............................classification__C=5.0; total time=  11.2s\n",
      "[CV] END ..............................classification__C=5.0; total time=  11.6s\n",
      "[CV] END ..............................classification__C=5.0; total time=  11.9s\n",
      "Cross-validation score: 0.04961456759521516\n",
      "Test score: 0.04981440400623778\n",
      "\n",
      " -------  \n",
      "\n"
     ]
    }
   ],
   "source": [
    "model_logreg2 = LogisticRegression()\n",
    "\n",
    "precise_grid_LR = {\"classification__C\" : np.linspace(0.2,5,30)}\n",
    "\n",
    "pca = PCA(n_components = 30)  #90% of explained variance\n",
    "\n",
    "over_sampling = SMOTE(sampling_strategy=0.36667)\n",
    "under_sampling = RandomUnderSampler(sampling_strategy=0.5)\n",
    "\n",
    "steps = [('over_sampling', over_sampling), ('under_sampling', under_sampling),\n",
    "         (\"pca\", pca),\n",
    "         ('classification', model_logreg2)]\n",
    "\n",
    "\n",
    "\n",
    "model_pipeline = Pipeline(steps=steps)\n",
    "\n",
    "stratified_kfold = StratifiedKFold(n_splits=3,\n",
    "                                   shuffle=True,\n",
    "                                   random_state=11)\n",
    "\n",
    "grid_search_logreg_precise = GridSearchCV(estimator=model_pipeline,\n",
    "                                  param_grid=precise_grid_LR,\n",
    "                                  scoring=custom_score,\n",
    "                                  cv=stratified_kfold,\n",
    "                                  n_jobs=1,\n",
    "                                  verbose = 2)\n",
    "\n",
    "grid_search_logreg_precise.fit(X_train, y_train)\n",
    "\n",
    "cv_score = grid_search_logreg_precise.best_score_\n",
    "test_score = grid_search_logreg_precise.score(X_test, y_test)\n",
    "\n",
    "#\n",
    "print(f'Cross-validation score: {cv_score}\\nTest score: {test_score}')\n",
    "print(\"\\n -------  \\n\")\n",
    "\n"
   ],
   "metadata": {
    "collapsed": false,
    "pycharm": {
     "name": "#%%\n"
    }
   }
  },
  {
   "cell_type": "code",
   "execution_count": 31,
   "outputs": [
    {
     "data": {
      "text/plain": "Pipeline(steps=[('over_sampling', SMOTE(sampling_strategy=0.36667)),\n                ('under_sampling', RandomUnderSampler(sampling_strategy=0.5)),\n                ('pca', PCA(n_components=30)),\n                ('classification', LogisticRegression(C=1.5241379310344827))])"
     },
     "execution_count": 31,
     "metadata": {},
     "output_type": "execute_result"
    }
   ],
   "source": [
    "grid_search_logreg_precise.best_estimator_\n",
    "# New best parameter"
   ],
   "metadata": {
    "collapsed": false,
    "pycharm": {
     "name": "#%%\n"
    }
   }
  },
  {
   "cell_type": "markdown",
   "source": [
    "Le nouveau paramètre optimal C trouvé est C = 1.52\n",
    "\n",
    "### Enregistrement du modèle final"
   ],
   "metadata": {
    "collapsed": false,
    "pycharm": {
     "name": "#%% md\n"
    }
   }
  },
  {
   "cell_type": "code",
   "execution_count": 32,
   "outputs": [],
   "source": [
    "pickle.dump(grid_search_logreg_precise.best_estimator_, open(\"modele_LR_precise\", \"wb\"))"
   ],
   "metadata": {
    "collapsed": false,
    "pycharm": {
     "name": "#%%\n"
    }
   }
  },
  {
   "cell_type": "code",
   "execution_count": 44,
   "outputs": [],
   "source": [
    "model_final = pickle.load(open(\"modele_LR_precise\", \"rb\"))"
   ],
   "metadata": {
    "collapsed": false,
    "pycharm": {
     "name": "#%%\n"
    }
   }
  },
  {
   "cell_type": "code",
   "execution_count": 44,
   "outputs": [],
   "source": [],
   "metadata": {
    "collapsed": false,
    "pycharm": {
     "name": "#%%\n"
    }
   }
  },
  {
   "cell_type": "markdown",
   "source": [
    "### Explicabilité locale du modèle\n",
    "\n",
    "Cette section a pour but de développer les outils pour expliquer localement le modèle, c'est à dire, pour une instance du dataset donnée (un client), pouvoir déterminer quelles sont les variables qui ont le plus joué dans la prédiction.\n",
    "\n",
    "J'utilise la librairie LIME pour l'explicabilité locale"
   ],
   "metadata": {
    "collapsed": false,
    "pycharm": {
     "name": "#%% md\n"
    }
   }
  },
  {
   "cell_type": "code",
   "execution_count": 45,
   "outputs": [],
   "source": [
    "import lime\n",
    "from lime import lime_tabular\n",
    "\n",
    "# explainer qui contient des informations générales sur le dataset\n",
    "explainer = lime_tabular.LimeTabularExplainer(X_train.values, mode = \"classification\", class_names=None, feature_names=X_train.columns.to_list())\n",
    "\n",
    "# Enregistrement de l'explainer pour utilisation dans API de prédiction\n",
    "import dill\n",
    "with open('explainer_file', 'wb') as f:\n",
    "    dill.dump(explainer, f)"
   ],
   "metadata": {
    "collapsed": false,
    "pycharm": {
     "name": "#%%\n"
    }
   }
  },
  {
   "cell_type": "markdown",
   "source": [],
   "metadata": {
    "collapsed": false,
    "pycharm": {
     "name": "#%% md\n"
    }
   }
  },
  {
   "cell_type": "code",
   "execution_count": 46,
   "outputs": [
    {
     "name": "stderr",
     "output_type": "stream",
     "text": [
      "C:\\Users\\simon\\anaconda3\\lib\\site-packages\\sklearn\\base.py:450: UserWarning: X does not have valid feature names, but PCA was fitted with feature names\n",
      "  warnings.warn(\n"
     ]
    },
    {
     "data": {
      "text/plain": "[('0.00 < FLAG_OWN_CAR <= 1.00', -0.07848923901080793),\n ('OCCUPATION_TYPE_Sales staff <= 0.00', -0.07829468356343469),\n ('ORGANIZATION_TYPE_Business Entity Type 3 <= 0.00', -0.0715262034508295),\n ('NAME_CONTRACT_TYPE <= 0.00', 0.07044446789629223),\n ('REGION_RATING_CLIENT_W_CITY <= 0.50', -0.06195928649041892),\n ('REGION_RATING_CLIENT <= 0.50', -0.06153455581313345),\n ('FLAG_DOCUMENT_3 <= 0.00', -0.05490961838296302),\n ('REG_CITY_NOT_LIVE_CITY <= 0.00', -0.05101326522619134),\n ('CODE_GENDER_F <= 0.00', 0.05048326965244151),\n ('0.00 < CODE_GENDER_M <= 1.00', 0.04942968962199734),\n ('ORGANIZATION_TYPE_Self-employed > 0.00', 0.04868453429120577),\n ('FLAG_PHONE <= 0.00', 0.04682402194756624),\n ('NAME_EDUCATION_TYPE_Higher education <= 0.00', 0.04579562761485298),\n ('NAME_EDUCATION_TYPE_Secondary / secondary special <= 0.00',\n  -0.04143097869762007),\n ('NAME_FAMILY_STATUS_Single / not married <= 0.00', -0.035382669637389515),\n ('0.00 < FLAG_OWN_REALTY <= 1.00', 0.03470280172605276),\n ('OCCUPATION_TYPE_Laborers <= 0.00', -0.032063274285303804),\n ('ORGANIZATION_TYPE_Industry: type 10 <= 0.00', -0.029298024155333252),\n ('OCCUPATION_TYPE_Managers <= 0.00', 0.02579072034470446),\n ('FONDKAPREMONT_MODE_reg oper account <= 0.00', -0.02507013015970679)]"
     },
     "execution_count": 46,
     "metadata": {},
     "output_type": "execute_result"
    }
   ],
   "source": [
    "# Test explainer pour une instance\n",
    "explanation = explainer.explain_instance(X_train.iloc[2], model_final.predict_proba,\n",
    "                                         num_features=20)\n",
    "\n",
    "explanation.as_list()"
   ],
   "metadata": {
    "collapsed": false,
    "pycharm": {
     "name": "#%%\n"
    }
   }
  },
  {
   "cell_type": "markdown",
   "source": [
    "### Selection de la valeur seuil pour classification\n",
    "\n",
    "Cette section a pour but de déterminer à partir de quelle probabilité de remboursement un client se verra accorder un prêt.\n",
    "\n",
    "Pour cela, je vais pour chaque valeur de probabilité seuil, calculer la classe de chaque client, puis évaluer le score custom_f1 entre le résultat et les données réelles.\n",
    "\n",
    "La valeur seuil optimale sera celle pour laquelle le custom_f1 score est le plus élevé (cf note méthodologique)"
   ],
   "metadata": {
    "collapsed": false,
    "pycharm": {
     "name": "#%% md\n"
    }
   }
  },
  {
   "cell_type": "code",
   "execution_count": 52,
   "outputs": [],
   "source": [
    "y_pred_proba = model_final.predict_proba(X_test)\n",
    "scores = []\n",
    "thresholds = np.linspace(0,1,30)\n",
    "for i in thresholds:\n",
    "    y_class_pred = proba_to_class(y_pred_proba,i)\n",
    "    scores.append(custom_score_fct(y_test,y_class_pred))\n"
   ],
   "metadata": {
    "collapsed": false,
    "pycharm": {
     "name": "#%%\n"
    }
   }
  },
  {
   "cell_type": "code",
   "execution_count": 53,
   "outputs": [
    {
     "data": {
      "text/plain": "<Figure size 432x288 with 1 Axes>",
      "image/png": "[encoded data removed]"
     },
     "metadata": {},
     "output_type": "display_data"
    }
   ],
   "source": [
    "plt.plot(thresholds,scores)\n",
    "plt.show()"
   ],
   "metadata": {
    "collapsed": false,
    "pycharm": {
     "name": "#%%\n"
    }
   }
  },
  {
   "cell_type": "code",
   "execution_count": 54,
   "outputs": [
    {
     "data": {
      "text/plain": "0.8275862068965517"
     },
     "execution_count": 54,
     "metadata": {},
     "output_type": "execute_result"
    }
   ],
   "source": [
    "thresholds[np.argmax(scores)]"
   ],
   "metadata": {
    "collapsed": false,
    "pycharm": {
     "name": "#%%\n"
    }
   }
  },
  {
   "cell_type": "markdown",
   "source": [
    "Conclusion : La valeur seuil optimale sera 82.7 %, arrondi à 80% pour améliorer l'explicabilité au client."
   ],
   "metadata": {
    "collapsed": false,
    "pycharm": {
     "name": "#%% md\n"
    }
   }
  },
  {
   "cell_type": "markdown",
   "source": [
    "### Explicabilité globale du modèle\n",
    "\n",
    "Cette section a pour but de déterminer l'explicabilité globale du modèle, c'est à dire déterminer quelles variables le modèle considère comme plus importantes à prendre en compte de manière globale. La méthode est expliquée dans la note méthodologique.\n",
    "Les coefficients associés aux variables sont obtenus par multiplication matricielle des coefficients du modèles et des coefficients de la PCA."
   ],
   "metadata": {
    "collapsed": false,
    "pycharm": {
     "name": "#%% md\n"
    }
   }
  },
  {
   "cell_type": "code",
   "execution_count": 50,
   "outputs": [
    {
     "data": {
      "text/plain": "   NAME_CONTRACT_TYPE  FLAG_OWN_CAR  FLAG_OWN_REALTY  CNT_CHILDREN  \\\n0           -0.363392     -0.413119         0.180512      0.003165   \n\n   AMT_INCOME_TOTAL  AMT_CREDIT  AMT_ANNUITY  AMT_GOODS_PRICE  \\\n0         -0.000468   -0.023935    -0.005348        -0.028844   \n\n   REGION_POPULATION_RELATIVE  DAYS_BIRTH  ...  WALLSMATERIAL_MODE_Block  \\\n0                   -0.236587   -0.167745  ...                 -0.029857   \n\n   WALLSMATERIAL_MODE_Mixed  WALLSMATERIAL_MODE_Monolithic  \\\n0                 -0.006017                      -0.012742   \n\n   WALLSMATERIAL_MODE_Others  WALLSMATERIAL_MODE_Panel  \\\n0                   -0.00422                 -0.058407   \n\n   WALLSMATERIAL_MODE_Stone, brick  WALLSMATERIAL_MODE_Wooden  \\\n0                         0.027744                   0.009864   \n\n   EMERGENCYSTATE_MODE_No  EMERGENCYSTATE_MODE_Yes  DAYS_EMPLOYED_ANOM  \n0               -0.100387                 0.002634           -0.022396  \n\n[1 rows x 239 columns]",
      "text/html": "<div>\n<style scoped>\n    .dataframe tbody tr th:only-of-type {\n        vertical-align: middle;\n    }\n\n    .dataframe tbody tr th {\n        vertical-align: top;\n    }\n\n    .dataframe thead th {\n        text-align: right;\n    }\n</style>\n<table border=\"1\" class=\"dataframe\">\n  <thead>\n    <tr style=\"text-align: right;\">\n      <th></th>\n      <th>NAME_CONTRACT_TYPE</th>\n      <th>FLAG_OWN_CAR</th>\n      <th>FLAG_OWN_REALTY</th>\n      <th>CNT_CHILDREN</th>\n      <th>AMT_INCOME_TOTAL</th>\n      <th>AMT_CREDIT</th>\n      <th>AMT_ANNUITY</th>\n      <th>AMT_GOODS_PRICE</th>\n      <th>REGION_POPULATION_RELATIVE</th>\n      <th>DAYS_BIRTH</th>\n      <th>...</th>\n      <th>WALLSMATERIAL_MODE_Block</th>\n      <th>WALLSMATERIAL_MODE_Mixed</th>\n      <th>WALLSMATERIAL_MODE_Monolithic</th>\n      <th>WALLSMATERIAL_MODE_Others</th>\n      <th>WALLSMATERIAL_MODE_Panel</th>\n      <th>WALLSMATERIAL_MODE_Stone, brick</th>\n      <th>WALLSMATERIAL_MODE_Wooden</th>\n      <th>EMERGENCYSTATE_MODE_No</th>\n      <th>EMERGENCYSTATE_MODE_Yes</th>\n      <th>DAYS_EMPLOYED_ANOM</th>\n    </tr>\n  </thead>\n  <tbody>\n    <tr>\n      <th>0</th>\n      <td>-0.363392</td>\n      <td>-0.413119</td>\n      <td>0.180512</td>\n      <td>0.003165</td>\n      <td>-0.000468</td>\n      <td>-0.023935</td>\n      <td>-0.005348</td>\n      <td>-0.028844</td>\n      <td>-0.236587</td>\n      <td>-0.167745</td>\n      <td>...</td>\n      <td>-0.029857</td>\n      <td>-0.006017</td>\n      <td>-0.012742</td>\n      <td>-0.00422</td>\n      <td>-0.058407</td>\n      <td>0.027744</td>\n      <td>0.009864</td>\n      <td>-0.100387</td>\n      <td>0.002634</td>\n      <td>-0.022396</td>\n    </tr>\n  </tbody>\n</table>\n<p>1 rows × 239 columns</p>\n</div>"
     },
     "execution_count": 50,
     "metadata": {},
     "output_type": "execute_result"
    }
   ],
   "source": [
    "# get_feature_importance is a custom function. gives the coefficients of importance of each feature of the dataset, considering a model (pipeline with pca and classification).\n",
    "global_feat_importance = get_feature_importance(pipe_model = model_final, list_features= X_train.columns.to_list())\n",
    "global_feat_importance\n",
    "# feature sorted by order in original dataset"
   ],
   "metadata": {
    "collapsed": false,
    "pycharm": {
     "name": "#%%\n"
    }
   }
  },
  {
   "cell_type": "code",
   "execution_count": 51,
   "outputs": [
    {
     "data": {
      "text/plain": "REGION_RATING_CLIENT           4.805867e-01\nREGION_RATING_CLIENT_W_CITY    4.697936e-01\nFLAG_OWN_CAR                  -4.131190e-01\nOCCUPATION_TYPE_Sales staff    3.904900e-01\nNAME_CONTRACT_TYPE            -3.633924e-01\n                                   ...     \nAMT_REQ_CREDIT_BUREAU_DAY      2.141052e-05\nFLAG_DOCUMENT_12              -1.981216e-05\nFLAG_DOCUMENT_10              -9.624048e-06\nNAME_TYPE_SUITE_Other_A       -4.555568e-07\nFLAG_MOBIL                    -3.551436e-08\nName: 0, Length: 239, dtype: float64"
     },
     "execution_count": 51,
     "metadata": {},
     "output_type": "execute_result"
    }
   ],
   "source": [
    "# features sorted by absolute value to see the most important and their contribution (positive or negative)\n",
    "\n",
    "feature_importance_sorted = global_feat_importance.iloc[0].reindex(global_feat_importance.iloc[0].abs().sort_values(ascending=False).index)\n",
    "\n",
    "feature_importance_sorted"
   ],
   "metadata": {
    "collapsed": false,
    "pycharm": {
     "name": "#%%\n"
    }
   }
  },
  {
   "cell_type": "code",
   "execution_count": null,
   "outputs": [],
   "source": [
    "# save the global feature importance\n",
    "feature_importance_sorted.to_csv(\"global_feature_importance_sorted.csv\", index=False)"
   ],
   "metadata": {
    "collapsed": false,
    "pycharm": {
     "name": "#%%\n"
    }
   }
  }
 ],
 "metadata": {
  "kernelspec": {
   "display_name": "Python 3",
   "language": "python",
   "name": "python3"
  },
  "language_info": {
   "codemirror_mode": {
    "name": "ipython",
    "version": 2
   },
   "file_extension": ".py",
   "mimetype": "text/x-python",
   "name": "python",
   "nbconvert_exporter": "python",
   "pygments_lexer": "ipython2",
   "version": "2.7.6"
  }
 },
 "nbformat": 4,
 "nbformat_minor": 0
}